{
 "cells": [
  {
   "cell_type": "code",
   "execution_count": 9,
   "id": "aa720f25",
   "metadata": {},
   "outputs": [],
   "source": [
    "import numpy as np\n",
    "import os\n",
    "from os.path import join\n",
    "from glob import iglob\n",
    "from shutil import copyfile"
   ]
  },
  {
   "cell_type": "code",
   "execution_count": 2,
   "id": "d065f2a3",
   "metadata": {},
   "outputs": [],
   "source": [
    "root_path = '/data/ksb'\n",
    "matchsum_root = join(root_path, 'MatchSum/MatchSum')\n",
    "gsum_root = join(root_path, 'GSum/guided_summarization')\n",
    "gsum_bart_root = join(gsum_root, 'bart')\n",
    "bert_root = join(root_path, 'BertSum/PreSumm')"
   ]
  },
  {
   "cell_type": "code",
   "execution_count": 23,
   "id": "46b4f498",
   "metadata": {},
   "outputs": [],
   "source": [
    "data_root = join(root_path, 'cnn-dailymail/finished_files')\n",
    "url_mapping = join(root_path, 'cnn-dailymail/url_lists')"
   ]
  },
  {
   "cell_type": "code",
   "execution_count": 24,
   "id": "fe3a9e8d",
   "metadata": {},
   "outputs": [],
   "source": [
    "bert_data = join(bert_root, 'raw_stories')\n",
    "bert_url_mapping = join(bert_root, 'urls')"
   ]
  },
  {
   "cell_type": "code",
   "execution_count": null,
   "id": "0b76a6bb",
   "metadata": {},
   "outputs": [],
   "source": [
    "match_data_dir = join(matchsum_root, 'data')\n",
    "match_roberta_dir = join(matchsum_root,'roberta/result')"
   ]
  },
  {
   "cell_type": "code",
   "execution_count": 10,
   "id": "27694d8d",
   "metadata": {},
   "outputs": [],
   "source": [
    "def mkdir_p(path):\n",
    "    import errno\n",
    "    try:\n",
    "        os.makedirs(path)\n",
    "    except OSError as err:\n",
    "        if err.errno == errno.EEXIST and os.path.isdir(path):\n",
    "            pass\n",
    "        else:\n",
    "            raise\n",
    "            \n",
    "def del_folder(path):\n",
    "    try:\n",
    "        rmtree(path)\n",
    "    except:\n",
    "        pass"
   ]
  },
  {
   "cell_type": "markdown",
   "id": "5d25708b",
   "metadata": {},
   "source": [
    "### BERT Extractor"
   ]
  },
  {
   "cell_type": "code",
   "execution_count": 17,
   "id": "88adbdb5",
   "metadata": {},
   "outputs": [],
   "source": [
    "del_folder(bert_data)\n",
    "mkdir_p(bert_data)"
   ]
  },
  {
   "cell_type": "code",
   "execution_count": 18,
   "id": "5c49889b",
   "metadata": {},
   "outputs": [
    {
     "data": {
      "text/plain": [
       "312085"
      ]
     },
     "execution_count": 18,
     "metadata": {},
     "output_type": "execute_result"
    }
   ],
   "source": [
    "len(list(iglob(join(data_root, '**/**.story'), recursive=False)))"
   ]
  },
  {
   "cell_type": "markdown",
   "id": "f51dee51",
   "metadata": {},
   "source": [
    "아래 코드 사용하지 않음  \n",
    "BertSum/PreSumm/src/prepo/data_builder.py 의 raw_path 수정"
   ]
  },
  {
   "cell_type": "raw",
   "id": "992c056d",
   "metadata": {},
   "source": [
    "for story in iglob(join(data_root, '**/**.story'), recursive=False):\n",
    "    try:\n",
    "        s = story.split(os.sep)[-1]\n",
    "        copyfile(story, join(bert_data, s))\n",
    "        \n",
    "    except Exception as e:\n",
    "        print(e)"
   ]
  },
  {
   "cell_type": "raw",
   "id": "16eec3c4",
   "metadata": {},
   "source": [
    "len(list(iglob(join(bert_data, '**.story'), recursive=False)))"
   ]
  },
  {
   "cell_type": "code",
   "execution_count": 25,
   "id": "d82242bb",
   "metadata": {},
   "outputs": [],
   "source": [
    "for urlfile_path in iglob(join(url_mapping, 'all_**.txt'), recursive=False):\n",
    "    try:\n",
    "        up = urlfile_path.split(os.sep)[-1]\n",
    "        urlfile_name = up.replace('all','mapping')\n",
    "        \n",
    "        copyfile(urlfile_path, join(bert_url_mapping, urlfile_name))\n",
    "        \n",
    "    except Exception as e:\n",
    "        print(e)"
   ]
  },
  {
   "cell_type": "code",
   "execution_count": 56,
   "id": "b562519e",
   "metadata": {},
   "outputs": [],
   "source": [
    "def get_bert_urlfilename(path):\n",
    "    bert_filename = ''\n",
    "    urlfilename = path.split(os.sep)[-1].replace('all_','')\n",
    "    urlfilename = urlfilename[:-4]\n",
    "    \n",
    "    if urlfilename == 'train':\n",
    "        bert_filename = 'mapping_train.txt'\n",
    "    elif urlfilename == 'test':\n",
    "        bert_filename = 'mapping_test.txt'\n",
    "    elif urlfilename == 'val':\n",
    "        bert_filename = 'mapping_valid.txt'\n",
    "    else:\n",
    "        raise ValueError\n",
    "        \n",
    "    return bert_filename"
   ]
  },
  {
   "cell_type": "code",
   "execution_count": 59,
   "id": "4751f9c3",
   "metadata": {},
   "outputs": [],
   "source": [
    "from difflib import context_diff\n",
    "\n",
    "\n",
    "bert_origin_urlpath = join(bert_url_mapping,'origin_')\n",
    "    \n",
    "for urlfile_path in iglob(join(url_mapping, 'all_**.txt'), recursive=False):\n",
    "    \n",
    "    bert_urlfile_name = get_bert_urlfilename(urlfile_path)\n",
    "        \n",
    "    with open(urlfile_path, 'r') as f_all:\n",
    "        with open(join(bert_origin_urlpath, bert_urlfile_name), 'r') as f_bert:\n",
    "            diff = context_diff(f_all.readlines(), f_bert.readlines(), fromfile='f_all', tofile='f_bert')\n",
    "            assert not list(diff) \n",
    "            "
   ]
  },
  {
   "cell_type": "markdown",
   "id": "4f401122",
   "metadata": {},
   "source": [
    "### MatchSum Extractor"
   ]
  },
  {
   "cell_type": "code",
   "execution_count": null,
   "id": "5e9be39d",
   "metadata": {},
   "outputs": [],
   "source": [
    "def copy_file(src_regex, dst_path):\n",
    "    for src in iglob(src_regex, recursive=False):\n",
    "        copyfile(src, dst_path)"
   ]
  },
  {
   "cell_type": "code",
   "execution_count": null,
   "id": "2bfac318",
   "metadata": {},
   "outputs": [],
   "source": [
    "bert_result = join(matchsum_root, 'results')\n",
    "split_symbol = '<q>'"
   ]
  },
  {
   "cell_type": "code",
   "execution_count": null,
   "id": "a8d4e323",
   "metadata": {},
   "outputs": [],
   "source": [
    "def get_result_list(src_regex):\n",
    "    gold, cand, cand_num, src = [], [], [], []\n",
    "\n",
    "    for file_paths in iglob(src_regex, recursive=False):\n",
    "        lines = []\n",
    "        with open(file_paths) as f:\n",
    "            lines = f.readlines()\n",
    "\n",
    "        if file_paths.endswith('gold'):\n",
    "            gold = lines\n",
    "        elif file_paths.endswith('candidate_sent_num'):\n",
    "            cand_num = lines\n",
    "        elif file_paths.endswith('candidate'):\n",
    "            cand = lines\n",
    "        elif file_paths.endswith('src'):\n",
    "            src = lines\n",
    "        else:\n",
    "            print(file_paths)\n",
    "            raise ValueError\n",
    "    \n",
    "    return src, gold, cand, cand_num\n",
    "    "
   ]
  },
  {
   "cell_type": "code",
   "execution_count": null,
   "id": "2fac9f94",
   "metadata": {},
   "outputs": [],
   "source": [
    "src, gold, cand, cand_num = get_result_list(join(bert_result, 'candidate_5_*'))\n",
    "\n",
    "print(\"gold len : {}\".format(len(gold)))\n",
    "print(\"src len : {}\".format(len(src)))\n",
    "print(\"cand len : {}\".format(len(cand)))\n",
    "print(\"cand_num len : {}\".format(len(cand_num)))"
   ]
  },
  {
   "cell_type": "code",
   "execution_count": null,
   "id": "c4b0d014",
   "metadata": {},
   "outputs": [],
   "source": [
    "assert len(gold)==len(src) and len(src)==len(cand) and len(cand_num)==len(cand)"
   ]
  },
  {
   "cell_type": "code",
   "execution_count": null,
   "id": "5c5d339f",
   "metadata": {},
   "outputs": [],
   "source": [
    "match_json_data = os.path.join(root_dir,'origin')\n",
    "\n",
    "del_folder(origin_dir)\n",
    "mkdir_p(origin_dir)"
   ]
  },
  {
   "cell_type": "code",
   "execution_count": null,
   "id": "7d6e4bc8",
   "metadata": {},
   "outputs": [],
   "source": [
    "origin_json_file = os.path.join(origin_dir, 'origin_data.jsonl')\n",
    "\n",
    "with open(origin_json_file, 'w', encoding='utf-8') as f:\n",
    "    writer = jsonlines.Writer(f)\n",
    "    for _gold, _cand, _src in zip(gold, cand, src):\n",
    "\n",
    "        src_list = _src.split(split_symbol)\n",
    "        src_list = list(map(lambda txt : txt.replace('\\n',''), src_list))\n",
    "\n",
    "        abs_list = _gold.split(split_symbol)\n",
    "        abs_list = list(map(lambda txt : txt.replace('\\n',''), abs_list))\n",
    "\n",
    "        d = {\"text\" : src_list, \"summary\" : abs_list}\n",
    "\n",
    "        writer.write(d) "
   ]
  },
  {
   "cell_type": "code",
   "execution_count": null,
   "id": "9e2ad99a",
   "metadata": {},
   "outputs": [],
   "source": [
    "index_json_file = os.path.join(origin_dir, 'index.jsonl')\n",
    "\n",
    "with open(index_json_file, 'w', encoding='utf-8') as f:\n",
    "    writer = jsonlines.Writer(f)\n",
    "    for _cand_num in cand_num:\n",
    "        \n",
    "        idx_list = _cand_num.split(split_symbol)\n",
    "        idx_list = [int(idx.replace('\\n','')) for idx in idx_list]\n",
    "        idx_json = {\"sent_id\" : idx_list}\n",
    "        \n",
    "        writer.write(idx_json)"
   ]
  },
  {
   "cell_type": "markdown",
   "id": "3e63e06c",
   "metadata": {},
   "source": [
    "### BART"
   ]
  },
  {
   "cell_type": "code",
   "execution_count": null,
   "id": "7228def1",
   "metadata": {},
   "outputs": [],
   "source": [
    "from transformers import BartTokenizer, BartForConditionalGeneration, BartConfig\n",
    "\n",
    "model = BartForConditionalGeneration.from_pretrained('facebook/bart-large-cnn')\n",
    "tokenizer = BartTokenizer.from_pretrained('facebook/bart-large-cnn')\n",
    "\n",
    "bart_tokenized = tok([origin_phase_txt], max_length=tok_max_length, return_tensors='pt')\n",
    "bart_summarized = model.generate(bart_tokenized['input_ids'], num_beams=4, max_length=max_length, early_stopping=True)\n",
    "result = [tok.decode(g, skip_special_tokens=True, clean_up_tokenization_spaces=False) for g in bart_summarized]\n",
    "    "
   ]
  },
  {
   "cell_type": "markdown",
   "id": "c58062fc",
   "metadata": {},
   "source": [
    "### GSum"
   ]
  },
  {
   "cell_type": "code",
   "execution_count": null,
   "id": "34a34500",
   "metadata": {},
   "outputs": [],
   "source": []
  },
  {
   "cell_type": "markdown",
   "id": "eef08b49",
   "metadata": {},
   "source": [
    "### RefSum"
   ]
  },
  {
   "cell_type": "code",
   "execution_count": null,
   "id": "ce0ba20f",
   "metadata": {},
   "outputs": [],
   "source": []
  }
 ],
 "metadata": {
  "kernelspec": {
   "display_name": "Python 3 (ipykernel)",
   "language": "python",
   "name": "python3"
  },
  "language_info": {
   "codemirror_mode": {
    "name": "ipython",
    "version": 3
   },
   "file_extension": ".py",
   "mimetype": "text/x-python",
   "name": "python",
   "nbconvert_exporter": "python",
   "pygments_lexer": "ipython3",
   "version": "3.8.3"
  }
 },
 "nbformat": 4,
 "nbformat_minor": 5
}

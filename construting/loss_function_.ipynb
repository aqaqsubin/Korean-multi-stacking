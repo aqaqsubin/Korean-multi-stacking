{
 "cells": [
  {
   "cell_type": "code",
   "execution_count": 1,
   "metadata": {
    "scrolled": true
   },
   "outputs": [],
   "source": [
    "# import pandas as pd\n",
    "import csv\n",
    "import numpy as np\n",
    "import os\n",
    "from os.path import join as pjoin\n",
    "from glob import iglob\n",
    "\n",
    "from sklearn.feature_extraction.text import TfidfVectorizer\n",
    "from sklearn.metrics.pairwise import cosine_similarity"
   ]
  },
  {
   "cell_type": "code",
   "execution_count": 3,
   "metadata": {},
   "outputs": [],
   "source": [
    "root_path = '/data/ksb/'\n",
    "data_dir = pjoin(root_path, 'cnn-dailymail/finished_files')"
   ]
  },
  {
   "cell_type": "markdown",
   "metadata": {},
   "source": [
    "#### Loss function 비교  \n",
    "\n",
    "*Trained Model parameter 필요*\n"
   ]
  },
  {
   "cell_type": "code",
   "execution_count": null,
   "metadata": {},
   "outputs": [],
   "source": [
    "def forward(self, text_id, candidate_id, summary_id):\n",
    "        \n",
    "    batch_size = text_id.size(0)\n",
    "        \n",
    "    # get document embedding\n",
    "    input_mask = ~(text_id == 0)\n",
    "    doc_emb = self.encoder(text_id, attention_mask=input_mask)[0] # last layer\n",
    "    # compute weights\n",
    "    input_mask = ~input_mask\n",
    "    weights = self.transformer(doc_emb.transpose(0, 1), src_key_padding_mask=input_mask)  # [seq_len, bz, dm]\n",
    "    global_encoding = weights[0] # [bz, dm]\n",
    "    weights = weights.transpose(0, 1)  # [bz, seq_len, dm]\n",
    "    weights = torch.matmul(doc_emb, global_encoding.unsqueeze(-1)).squeeze(-1)\n",
    "    weights = F.softmax(weights / math.sqrt(self.hidden_size), dim=1)\n",
    "        \n",
    "    # get summary embedding\n",
    "    input_mask = ~(summary_id == 0)\n",
    "    summary_emb = self.encoder(summary_id, attention_mask=input_mask)[0] # last layer\n",
    "\n",
    "    # get candidate embedding\n",
    "    candidate_num = candidate_id.size(1)\n",
    "    candidate_id = candidate_id.view(-1, candidate_id.size(-1))\n",
    "    input_mask = ~(candidate_id == 0)\n",
    "    candidate_emd = self.encoder(candidate_id, attention_mask=input_mask)[0]\n",
    "\n",
    "    # scoring\n",
    "    doc_emb = F.normalize(doc_emb, dim=2)\n",
    "    summary_emb = F.normalize(summary_emb, dim=2)\n",
    "    summary_score = self.compute_score(doc_emb, summary_emb, weights)\n",
    "    doc_emb = torch.repeat_interleave(doc_emb, candidate_num, dim=0)\n",
    "    weights = torch.repeat_interleave(weights, candidate_num, dim=0)\n",
    "    candidate_emd = F.normalize(candidate_emd, dim=2)\n",
    "    score = self.compute_score(doc_emb, candidate_emd, weights)\n",
    "    score = score.view(batch_size, candidate_num)\n",
    "        \n",
    "    return {'score': score, 'summary_score': summary_score}"
   ]
  },
  {
   "cell_type": "code",
   "execution_count": null,
   "metadata": {},
   "outputs": [],
   "source": [
    "def RankingLoss(score, summary_score=None, margin=0, gold_margin=0, gold_weight=1, no_gold=False, no_cand=False):\n",
    "    ones = torch.ones_like(score)\n",
    "    loss_func = torch.nn.MarginRankingLoss(0.0)\n",
    "    TotalLoss = loss_func(score, score, ones)\n",
    "    # candidate loss\n",
    "    n = score.size(1)\n",
    "    if not no_cand:\n",
    "        for i in range(1, n):\n",
    "            pos_score = score[:, :-i]\n",
    "            neg_score = score[:, i:]\n",
    "            pos_score = pos_score.contiguous().view(-1)\n",
    "            neg_score = neg_score.contiguous().view(-1)\n",
    "            ones = torch.ones_like(pos_score)\n",
    "            loss_func = torch.nn.MarginRankingLoss(margin * i)\n",
    "            loss = loss_func(pos_score, neg_score, ones)\n",
    "            TotalLoss += loss\n",
    "    if no_gold:\n",
    "        return TotalLoss\n",
    "    # gold summary loss\n",
    "    pos_score = summary_score.unsqueeze(-1).expand_as(score)\n",
    "    neg_score = score\n",
    "    pos_score = pos_score.contiguous().view(-1)\n",
    "    neg_score = neg_score.contiguous().view(-1)\n",
    "    ones = torch.ones_like(pos_score)\n",
    "    loss_func = torch.nn.MarginRankingLoss(gold_margin)\n",
    "    TotalLoss += gold_weight * loss_func(pos_score, neg_score, ones)\n",
    "    \n",
    "    return TotalLoss"
   ]
  },
  {
   "cell_type": "code",
   "execution_count": 4,
   "metadata": {},
   "outputs": [],
   "source": [
    "def get_cos_similarity(inputs, summaries):\n",
    "    tfidf_vectorizer = TfidfVectorizer()\n",
    "\n",
    "    cos_similarity_list = []\n",
    "    for input_, summary_ in zip(inputs, summaries):\n",
    "        try:\n",
    "            tfidf_matrix = tfidf_vectorizer.fit_transform([input_, summary_])\n",
    "\n",
    "            similarity = cosine_similarity(tfidf_matrix[0] , tfidf_matrix[1])[0][0]\n",
    "        except ValueError:\n",
    "            similarity = 0.0\n",
    "            \n",
    "        cos_similarity_list.append(similarity)\n",
    "\n",
    "    return cos_similarity_list"
   ]
  },
  {
   "cell_type": "code",
   "execution_count": 5,
   "metadata": {},
   "outputs": [],
   "source": [
    "import jsonlines\n",
    "import json\n",
    "\n",
    "with open('three-sample.jsonl','r',encoding='utf-8') as f:\n",
    "    data = json.load(f)\n",
    " \n",
    "    article = data[\"article\"]\n",
    "    candidate = data[\"candidates\"]        \n",
    "    abstract = data[\"abstract\"]"
   ]
  },
  {
   "cell_type": "code",
   "execution_count": 6,
   "metadata": {},
   "outputs": [
    {
     "data": {
      "text/plain": [
       "[\"club tijuana star juan arango conjured memories luis suarez in his team 's 4-3 defeat by monterrey in the mexican league - but it was not through prodigious scoring .\",\n",
       " 'he was not booked by the referee but could face a heavy retrospective ban .',\n",
       " 'juan arango ( left ) bites the shoulder of opponent jesus zavela in a moment of madness']"
      ]
     },
     "execution_count": 6,
     "metadata": {},
     "output_type": "execute_result"
    }
   ],
   "source": [
    "candidate[0][0]"
   ]
  },
  {
   "cell_type": "code",
   "execution_count": 7,
   "metadata": {},
   "outputs": [
    {
     "name": "stdout",
     "output_type": "stream",
     "text": [
      "Cosine similarity between document and summaries : [0.375, 0.593, 0.711]\n",
      "Cosine similarity between reference and summaries : [0.171, 0.11, 0.105]\n"
     ]
    }
   ],
   "source": [
    "doc_sim_list = [round(np.mean(get_cos_similarity(article, cand[0])),3) for cand in candidate]\n",
    "ref_sim_list = [round(np.mean(get_cos_similarity(abstract, cand[0])),3) for cand in candidate]\n",
    "\n",
    "print(\"Cosine similarity between document and summaries : {}\".format(doc_sim_list))\n",
    "print(\"Cosine similarity between reference and summaries : {}\".format(ref_sim_list))"
   ]
  },
  {
   "cell_type": "code",
   "execution_count": 9,
   "metadata": {},
   "outputs": [],
   "source": [
    "from rouge import Rouge \n",
    "rouge = Rouge()"
   ]
  },
  {
   "cell_type": "code",
   "execution_count": 16,
   "metadata": {},
   "outputs": [
    {
     "name": "stdout",
     "output_type": "stream",
     "text": [
      "Rouge score between document and summaries : [0.571, 0.618, 0.453]\n",
      "Rouge score between reference and summaries : [0.447, 0.512, 0.478]\n",
      "Rouge score between reference and summaries(written) : [0.4, 0.404, 0.387]\n"
     ]
    }
   ],
   "source": [
    "doc_rouge_list = [round(rouge.get_scores('\\n'.join(cand[0]), '\\n'.join(article))[0]['rouge-l']['f'],3) for cand in candidate]\n",
    "ref_rouge_list = [round(rouge.get_scores('\\n'.join(cand[0]), '\\n'.join(abstract))[0]['rouge-l']['f'],3) for cand in candidate]\n",
    "rouge_list = [round(cand[1],3) for cand in candidate]\n",
    "\n",
    "print(\"Rouge score between document and summaries : {}\".format(doc_rouge_list))\n",
    "print(\"Rouge score between reference and summaries : {}\".format(ref_rouge_list))\n",
    "print(\"Rouge score between reference and summaries(written) : {}\".format(rouge_list))\n"
   ]
  },
  {
   "cell_type": "code",
   "execution_count": 20,
   "metadata": {},
   "outputs": [
    {
     "data": {
      "text/plain": [
       "[('in his team', 0.19354838534859523),\n",
       " ('jesus zavela in', 0.19354838534859523),\n",
       " ('zavela in a', 0.19354838534859523),\n",
       " ('arango had earlier', 0.19354838534859523),\n",
       " ('jesus zavela in', 0.19354838534859523),\n",
       " ('star juan arango', 0.12903225631633716),\n",
       " ('juan arango conjured', 0.12903225631633716),\n",
       " ('suarez in his', 0.12903225631633716),\n",
       " ('by the referee', 0.12903225631633716),\n",
       " ('juan arango (', 0.12903225631633716),\n",
       " ('juan arango bites', 0.12903225631633716),\n",
       " ('arango bites jesus', 0.12903225631633716),\n",
       " ('bites jesus zavela', 0.12903225631633716),\n",
       " ('in a moment', 0.12903225631633716),\n",
       " ('by the referee', 0.12903225631633716),\n",
       " ('had earlier curled', 0.12903225631633716),\n",
       " ('earlier curled in', 0.12903225631633716),\n",
       " ('curled in a', 0.12903225631633716),\n",
       " ('in a magnificent', 0.12903225631633716),\n",
       " ('a magnificent free', 0.12903225631633716),\n",
       " ('magnificent free kick', 0.12903225631633716),\n",
       " ('juan arango bites', 0.12903225631633716),\n",
       " ('arango bites jesus', 0.12903225631633716),\n",
       " ('bites jesus zavela', 0.12903225631633716),\n",
       " ('zavela in club', 0.12903225631633716),\n",
       " ('by the referee', 0.12903225631633716),\n",
       " ('tijuana star juan', 0.06451612728407914),\n",
       " ('arango conjured memories', 0.06451612728407914),\n",
       " ('luis suarez in', 0.06451612728407914),\n",
       " ('he was not', 0.06451612728407914),\n",
       " ('booked by the', 0.06451612728407914),\n",
       " ('arango ( left', 0.06451612728407914),\n",
       " (') bites the', 0.06451612728407914),\n",
       " ('a moment of', 0.06451612728407914),\n",
       " ('the venezuelan icon', 0.06451612728407914),\n",
       " ('icon sank his', 0.06451612728407914),\n",
       " ('sank his teeth', 0.06451612728407914),\n",
       " ('his teeth into', 0.06451612728407914),\n",
       " ('teeth into the', 0.06451612728407914),\n",
       " ('he was not', 0.06451612728407914),\n",
       " ('booked by the', 0.06451612728407914),\n",
       " ('in club tijuana', 0.06451612728407914),\n",
       " ('the venezuelan icon', 0.06451612728407914),\n",
       " ('icon sank his', 0.06451612728407914),\n",
       " ('sank his teeth', 0.06451612728407914),\n",
       " ('his teeth into', 0.06451612728407914),\n",
       " ('teeth into the', 0.06451612728407914),\n",
       " ('he was not', 0.06451612728407914),\n",
       " ('booked by the', 0.06451612728407914),\n",
       " ('club tijuana star', 0.0),\n",
       " ('conjured memories luis', 0.0),\n",
       " ('memories luis suarez', 0.0),\n",
       " ('was not booked', 0.0),\n",
       " ('not booked by', 0.0),\n",
       " ('( left )', 0.0),\n",
       " ('left ) bites', 0.0),\n",
       " ('venezuelan icon sank', 0.0),\n",
       " ('was not booked', 0.0),\n",
       " ('not booked by', 0.0),\n",
       " ('venezuelan icon sank', 0.0),\n",
       " ('was not booked', 0.0),\n",
       " ('not booked by', 0.0)]"
      ]
     },
     "execution_count": 20,
     "metadata": {},
     "output_type": "execute_result"
    }
   ],
   "source": [
    "n_gram = 3\n",
    "scores = []\n",
    "copy_summaries = [cand[0] for cand in candidate]\n",
    "\n",
    "for i in range(len(copy_summaries)): # candidate summary set 개수\n",
    "    for j in range(len(copy_summaries[i])): # sentence 개수\n",
    "        ext_tok = copy_summaries[i][j].split()\n",
    "        window = len(ext_tok) // n_gram\n",
    "\n",
    "        for w in range(window):\n",
    "            s = rouge.get_scores(' '.join(ext_tok[w:w+n_gram]), '\\n'.join(abstract))[0]['rouge-l']['f']\n",
    "\n",
    "            score = (' '.join(ext_tok[w:w+n_gram]), s)\n",
    "            scores.append(score)\n",
    "dscored = sorted(scores,key=lambda x: x[1], reverse=True)\n",
    "dscored"
   ]
  },
  {
   "cell_type": "code",
   "execution_count": 21,
   "metadata": {},
   "outputs": [],
   "source": [
    "def delete_(ext_sents, delete_ngram):\n",
    "    return list(map(lambda sent : sent.replace(delete_ngram, ''),ext_sents))"
   ]
  },
  {
   "cell_type": "code",
   "execution_count": 27,
   "metadata": {},
   "outputs": [],
   "source": [
    "dscored = [sc for sc in dscored if sc[1]==0.0]\n",
    "for sc in dscored:\n",
    "    pruned_summary = list(map(lambda sents : delete_(sents, sc[0]), copy_summaries))"
   ]
  },
  {
   "cell_type": "code",
   "execution_count": 28,
   "metadata": {},
   "outputs": [
    {
     "data": {
      "text/plain": [
       "[[\"club tijuana star juan arango conjured memories luis suarez in his team 's 4-3 defeat by monterrey in the mexican league - but it was not through prodigious scoring .\",\n",
       "  'he was  the referee but could face a heavy retrospective ban .',\n",
       "  'juan arango ( left ) bites the shoulder of opponent jesus zavela in a moment of madness'],\n",
       " [\"juan arango bites jesus zavela in a moment of madness in club tijuana 's 4-3 defeat by monterrey in the mexican league .\",\n",
       "  'the venezuelan icon sank his teeth into the shoulder of the opponent as his temper flared in the defeat .',\n",
       "  'he was  the referee but could face a heavy retrospective ban .',\n",
       "  'arango had earlier curled in a magnificent free kick for his team to bring them level after falling 2-0 down .'],\n",
       " [\"juan arango bites jesus zavela in club tijuana 's 4-3 defeat by monterrey in the mexican league .\",\n",
       "  'the venezuelan icon sank his teeth into the shoulder of jesus zavala in a moment of madness .',\n",
       "  'he was  the referee but could face a heavy retrospective ban .']]"
      ]
     },
     "execution_count": 28,
     "metadata": {},
     "output_type": "execute_result"
    }
   ],
   "source": [
    "pruned_summary"
   ]
  },
  {
   "cell_type": "code",
   "execution_count": 29,
   "metadata": {},
   "outputs": [
    {
     "name": "stdout",
     "output_type": "stream",
     "text": [
      "Rouge score between document and summaries : [0.563, 0.602, 0.433]\n",
      "Rouge score between reference and summaries : [0.453, 0.524, 0.492]\n"
     ]
    }
   ],
   "source": [
    "doc_rouge_list = [round(rouge.get_scores('\\n'.join(cand), '\\n'.join(article))[0]['rouge-l']['f'],3) for cand in pruned_summary]\n",
    "ref_rouge_list = [round(rouge.get_scores('\\n'.join(cand), '\\n'.join(abstract))[0]['rouge-l']['f'],3) for cand in pruned_summary]\n",
    "\n",
    "print(\"Rouge score between document and summaries : {}\".format(doc_rouge_list))\n",
    "print(\"Rouge score between reference and summaries : {}\".format(ref_rouge_list))\n"
   ]
  },
  {
   "cell_type": "code",
   "execution_count": 30,
   "metadata": {},
   "outputs": [
    {
     "name": "stdout",
     "output_type": "stream",
     "text": [
      "Cosine similarity between document and summaries : [0.379, 0.541, 0.641]\n",
      "Cosine similarity between reference and summaries : [0.192, 0.11, 0.105]\n"
     ]
    }
   ],
   "source": [
    "doc_sim_list = [round(np.mean(get_cos_similarity(article, cand)),3) for cand in pruned_summary]\n",
    "ref_sim_list = [round(np.mean(get_cos_similarity(abstract, cand)),3) for cand in pruned_summary]\n",
    "\n",
    "print(\"Cosine similarity between document and summaries : {}\".format(doc_sim_list))\n",
    "print(\"Cosine similarity between reference and summaries : {}\".format(ref_sim_list))"
   ]
  },
  {
   "cell_type": "code",
   "execution_count": 32,
   "metadata": {},
   "outputs": [],
   "source": [
    "!cp loss_function_.ipynb new_candidate_set.ipynb"
   ]
  },
  {
   "cell_type": "code",
   "execution_count": null,
   "metadata": {},
   "outputs": [],
   "source": []
  }
 ],
 "metadata": {
  "kernelspec": {
   "display_name": "Python 3",
   "language": "python",
   "name": "python3"
  },
  "language_info": {
   "codemirror_mode": {
    "name": "ipython",
    "version": 3
   },
   "file_extension": ".py",
   "mimetype": "text/x-python",
   "name": "python",
   "nbconvert_exporter": "python",
   "pygments_lexer": "ipython3",
   "version": "3.6.5"
  }
 },
 "nbformat": 4,
 "nbformat_minor": 2
}

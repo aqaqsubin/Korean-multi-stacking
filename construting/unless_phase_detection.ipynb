{
 "cells": [
  {
   "cell_type": "code",
   "execution_count": 1,
   "metadata": {
    "scrolled": true
   },
   "outputs": [],
   "source": [
    "# import pandas as pd\n",
    "import csv\n",
    "import numpy as np\n",
    "import os\n",
    "from os.path import join as pjoin\n",
    "from glob import iglob\n",
    "\n",
    "from sklearn.feature_extraction.text import TfidfVectorizer\n",
    "from sklearn.metrics.pairwise import cosine_similarity"
   ]
  },
  {
   "cell_type": "code",
   "execution_count": 5,
   "metadata": {},
   "outputs": [],
   "source": [
    "#!/usr/bin/env python\n",
    "from __future__ import division\n",
    "\n",
    "import argparse\n",
    "import glob\n",
    "import os\n",
    "import random\n",
    "import signal\n",
    "import time\n",
    "\n",
    "import torch\n",
    "\n",
    "import distributed\n",
    "from models import data_loader, model_builder\n",
    "from models.data_loader import load_dataset\n",
    "from models.model_builder import ExtSummarizer\n",
    "from models.trainer_ext import build_trainer\n",
    "from others.logging import logger, init_logger\n",
    "\n",
    "model_flags = ['hidden_size', 'ff_size', 'heads', 'inter_layers', 'encoder', 'ff_actv', 'use_interval', 'rnn_size']\n"
   ]
  },
  {
   "cell_type": "code",
   "execution_count": 6,
   "metadata": {},
   "outputs": [],
   "source": [
    "root_path = '/data/ksb/'\n",
    "bert_root_path = pjoin(root_path, 'BertSum/PreSumm')\n",
    "bert_model_dir = pjoin(bert_root_path, 'models')\n",
    "\n",
    "data_dir = pjoin(root_path, 'cnn-dailymail/finished_files')"
   ]
  },
  {
   "cell_type": "markdown",
   "metadata": {},
   "source": [
    "#### Loss function 비교  \n",
    "\n",
    "*Trained Model parameter 필요*\n"
   ]
  },
  {
   "cell_type": "code",
   "execution_count": 34,
   "metadata": {},
   "outputs": [],
   "source": [
    "def get_cos_similarity(inputs, summaries):\n",
    "    tfidf_vectorizer = TfidfVectorizer()\n",
    "\n",
    "    cos_similarity_list = []\n",
    "    for input_, summary_ in zip(inputs, summaries):\n",
    "        try:\n",
    "            tfidf_matrix = tfidf_vectorizer.fit_transform([input_, summary_])\n",
    "\n",
    "            similarity = cosine_similarity(tfidf_matrix[0] , tfidf_matrix[1])[0][0]\n",
    "        except ValueError:\n",
    "            similarity = 0.0\n",
    "            \n",
    "        cos_similarity_list.append(similarity)\n",
    "\n",
    "    return cos_similarity_list"
   ]
  },
  {
   "cell_type": "code",
   "execution_count": 35,
   "metadata": {},
   "outputs": [],
   "source": [
    "import jsonlines\n",
    "import json\n",
    "\n",
    "with open(pjoin(root_path, 'three-sample.jsonl'),'r',encoding='utf-8') as f:\n",
    "    data = json.load(f)\n",
    " \n",
    "    article = data[\"article\"]\n",
    "    candidate = data[\"candidates\"]        \n",
    "    abstract = data[\"abstract\"]"
   ]
  },
  {
   "cell_type": "code",
   "execution_count": 44,
   "metadata": {},
   "outputs": [
    {
     "data": {
      "text/plain": [
       "[\"club tijuana star juan arango conjured memories luis suarez in his team 's 4-3 defeat by monterrey in the mexican league - but it was not through prodigious scoring .\",\n",
       " 'the venezuelan icon arango sank his teeth into the shoulder of jesus zavela as his temper flared in the defeat .',\n",
       " 'he was not booked by the referee but could face a heavy retrospective ban .',\n",
       " 'juan arango ( left ) bites the shoulder of opponent jesus zavela in a moment of madness',\n",
       " \"zavala holds his shoulder after being bitten by arango , in the game zavala 's side won 4-3 in mexico\",\n",
       " 'zavala shows the referee the mark on his shoulder after being bittern by arango',\n",
       " 'arango ( right ) earlier scored a magnificent free kick to bring his club tijuana team level against monterrey',\n",
       " 'arango had earlier curled in a magnificent free kick for his team to bring them level after falling 2-0 down early on in the encounter .',\n",
       " 'but the 34-year-old overshadowed his goal with the bite as television cameras picked up the moment of madness .',\n",
       " 'arango spent 10 years playing in europe , spending five seasons each at real mallorca in spain and borussia monchengladbach in germany .',\n",
       " 'he has made 121 appearances for venezuela .']"
      ]
     },
     "execution_count": 44,
     "metadata": {},
     "output_type": "execute_result"
    }
   ],
   "source": [
    "article"
   ]
  },
  {
   "cell_type": "markdown",
   "metadata": {},
   "source": [
    "### Origin candidate set"
   ]
  },
  {
   "cell_type": "code",
   "execution_count": 36,
   "metadata": {},
   "outputs": [
    {
     "data": {
      "text/plain": [
       "[[[\"club tijuana star juan arango conjured memories luis suarez in his team 's 4-3 defeat by monterrey in the mexican league - but it was not through prodigious scoring .\",\n",
       "   'he was not booked by the referee but could face a heavy retrospective ban .',\n",
       "   'juan arango ( left ) bites the shoulder of opponent jesus zavela in a moment of madness'],\n",
       "  0.40032206119162644],\n",
       " [[\"juan arango bites jesus zavela in a moment of madness in club tijuana 's 4-3 defeat by monterrey in the mexican league .\",\n",
       "   'the venezuelan icon sank his teeth into the shoulder of the opponent as his temper flared in the defeat .',\n",
       "   'he was not booked by the referee but could face a heavy retrospective ban .',\n",
       "   'arango had earlier curled in a magnificent free kick for his team to bring them level after falling 2-0 down .'],\n",
       "  0.40383502768823876],\n",
       " [[\"juan arango bites jesus zavela in club tijuana 's 4-3 defeat by monterrey in the mexican league .\",\n",
       "   'the venezuelan icon sank his teeth into the shoulder of jesus zavala in a moment of madness .',\n",
       "   'he was not booked by the referee but could face a heavy retrospective ban .'],\n",
       "  0.38732708612226685]]"
      ]
     },
     "execution_count": 36,
     "metadata": {},
     "output_type": "execute_result"
    }
   ],
   "source": [
    "candidate"
   ]
  },
  {
   "cell_type": "code",
   "execution_count": 37,
   "metadata": {},
   "outputs": [
    {
     "name": "stdout",
     "output_type": "stream",
     "text": [
      "Cosine similarity between document and summaries : [0.375, 0.593, 0.711]\n",
      "Cosine similarity between reference and summaries : [0.171, 0.11, 0.105]\n"
     ]
    }
   ],
   "source": [
    "doc_sim_list = [round(np.mean(get_cos_similarity(article, cand[0])),3) for cand in candidate]\n",
    "ref_sim_list = [round(np.mean(get_cos_similarity(abstract, cand[0])),3) for cand in candidate]\n",
    "\n",
    "print(\"Cosine similarity between document and summaries : {}\".format(doc_sim_list))\n",
    "print(\"Cosine similarity between reference and summaries : {}\".format(ref_sim_list))"
   ]
  },
  {
   "cell_type": "code",
   "execution_count": 38,
   "metadata": {},
   "outputs": [],
   "source": [
    "from rouge import Rouge \n",
    "rouge = Rouge()"
   ]
  },
  {
   "cell_type": "code",
   "execution_count": 39,
   "metadata": {},
   "outputs": [
    {
     "name": "stdout",
     "output_type": "stream",
     "text": [
      "Rouge score between document and summaries : [0.571, 0.618, 0.453]\n",
      "Rouge score between reference and summaries : [0.447, 0.512, 0.478]\n",
      "Rouge score between reference and summaries(written) : [0.4, 0.404, 0.387]\n"
     ]
    }
   ],
   "source": [
    "doc_rouge_list = [round(rouge.get_scores('\\n'.join(cand[0]), '\\n'.join(article))[0]['rouge-l']['f'],3) for cand in candidate]\n",
    "ref_rouge_list = [round(rouge.get_scores('\\n'.join(cand[0]), '\\n'.join(abstract))[0]['rouge-l']['f'],3) for cand in candidate]\n",
    "rouge_list = [round(cand[1],3) for cand in candidate]\n",
    "\n",
    "print(\"Rouge score between document and summaries : {}\".format(doc_rouge_list))\n",
    "print(\"Rouge score between reference and summaries : {}\".format(ref_rouge_list))\n",
    "print(\"Rouge score between reference and summaries(written) : {}\".format(rouge_list))\n"
   ]
  },
  {
   "cell_type": "code",
   "execution_count": 40,
   "metadata": {},
   "outputs": [],
   "source": [
    "from transformers import BertTokenizer\n",
    "\n",
    "def bert_encode(x, max_len=-1):\n",
    "    tok = BertTokenizer.from_pretrained('bert-base-uncased', verbose=False)\n",
    "    cls_token_id = tok.cls_token_id\n",
    "    sep_token_id = tok.sep_token_id\n",
    "\n",
    "    _ids = tok.encode(x, add_special_tokens=False)\n",
    "    ids = [cls_token_id] # [CLS]\n",
    "    if max_len > 0:\n",
    "        ids.extend(_ids[:max_len - 2])\n",
    "    else:\n",
    "        ids.extend(_ids[:512 - 2])\n",
    "    ids.append(sep_token_id) # [SEP], meaning end of sentence\n",
    "    return ids"
   ]
  },
  {
   "cell_type": "code",
   "execution_count": 41,
   "metadata": {},
   "outputs": [],
   "source": [
    "def bert_decode(x):\n",
    "    tok = BertTokenizer.from_pretrained('bert-base-uncased', verbose=False)\n",
    "\n",
    "    result = tok.decode(x, skip_special_tokens=True)\n",
    "    return result"
   ]
  },
  {
   "cell_type": "code",
   "execution_count": 51,
   "metadata": {
    "scrolled": true
   },
   "outputs": [
    {
     "data": {
      "text/plain": [
       "[(0, 9, 'in his team', 0.19354838534859523),\n",
       " (3, 3, 'jesus zavela in', 0.19354838534859523),\n",
       " (3, 4, 'zavela in a', 0.19354838534859523),\n",
       " (6, 0, 'arango had earlier', 0.19354838534859523),\n",
       " (7, 3, 'jesus zavela in', 0.19354838534859523),\n",
       " (0, 2, 'star juan arango', 0.12903225631633716),\n",
       " (0, 3, 'juan arango conjured', 0.12903225631633716),\n",
       " (0, 8, 'suarez in his', 0.12903225631633716),\n",
       " (1, 4, 'by the referee', 0.12903225631633716),\n",
       " (2, 0, 'juan arango (', 0.12903225631633716),\n",
       " (3, 0, 'juan arango bites', 0.12903225631633716),\n",
       " (3, 1, 'arango bites jesus', 0.12903225631633716),\n",
       " (3, 2, 'bites jesus zavela', 0.12903225631633716),\n",
       " (3, 5, 'in a moment', 0.12903225631633716),\n",
       " (5, 4, 'by the referee', 0.12903225631633716),\n",
       " (6, 1, 'had earlier curled', 0.12903225631633716),\n",
       " (6, 2, 'earlier curled in', 0.12903225631633716),\n",
       " (6, 3, 'curled in a', 0.12903225631633716),\n",
       " (6, 4, 'in a magnificent', 0.12903225631633716),\n",
       " (6, 5, 'a magnificent free', 0.12903225631633716),\n",
       " (6, 6, 'magnificent free kick', 0.12903225631633716),\n",
       " (7, 0, 'juan arango bites', 0.12903225631633716),\n",
       " (7, 1, 'arango bites jesus', 0.12903225631633716),\n",
       " (7, 2, 'bites jesus zavela', 0.12903225631633716),\n",
       " (7, 4, 'zavela in club', 0.12903225631633716),\n",
       " (9, 4, 'by the referee', 0.12903225631633716),\n",
       " (0, 1, 'tijuana star juan', 0.06451612728407914),\n",
       " (0, 4, 'arango conjured memories', 0.06451612728407914),\n",
       " (0, 7, 'luis suarez in', 0.06451612728407914),\n",
       " (1, 0, 'he was not', 0.06451612728407914),\n",
       " (1, 3, 'booked by the', 0.06451612728407914),\n",
       " (2, 1, 'arango ( left', 0.06451612728407914),\n",
       " (2, 4, ') bites the', 0.06451612728407914),\n",
       " (3, 6, 'a moment of', 0.06451612728407914),\n",
       " (4, 0, 'the venezuelan icon', 0.06451612728407914),\n",
       " (4, 2, 'icon sank his', 0.06451612728407914),\n",
       " (4, 3, 'sank his teeth', 0.06451612728407914),\n",
       " (4, 4, 'his teeth into', 0.06451612728407914),\n",
       " (4, 5, 'teeth into the', 0.06451612728407914),\n",
       " (5, 0, 'he was not', 0.06451612728407914),\n",
       " (5, 3, 'booked by the', 0.06451612728407914),\n",
       " (7, 5, 'in club tijuana', 0.06451612728407914),\n",
       " (8, 0, 'the venezuelan icon', 0.06451612728407914),\n",
       " (8, 2, 'icon sank his', 0.06451612728407914),\n",
       " (8, 3, 'sank his teeth', 0.06451612728407914),\n",
       " (8, 4, 'his teeth into', 0.06451612728407914),\n",
       " (8, 5, 'teeth into the', 0.06451612728407914),\n",
       " (9, 0, 'he was not', 0.06451612728407914),\n",
       " (9, 3, 'booked by the', 0.06451612728407914),\n",
       " (0, 0, 'club tijuana star', 0.0),\n",
       " (0, 5, 'conjured memories luis', 0.0),\n",
       " (0, 6, 'memories luis suarez', 0.0),\n",
       " (1, 1, 'was not booked', 0.0),\n",
       " (1, 2, 'not booked by', 0.0),\n",
       " (2, 2, '( left )', 0.0),\n",
       " (2, 3, 'left ) bites', 0.0),\n",
       " (4, 1, 'venezuelan icon sank', 0.0),\n",
       " (5, 1, 'was not booked', 0.0),\n",
       " (5, 2, 'not booked by', 0.0),\n",
       " (8, 1, 'venezuelan icon sank', 0.0),\n",
       " (9, 1, 'was not booked', 0.0),\n",
       " (9, 2, 'not booked by', 0.0)]"
      ]
     },
     "execution_count": 51,
     "metadata": {},
     "output_type": "execute_result"
    }
   ],
   "source": [
    "n_gram = 3\n",
    "scores = []\n",
    "copy_summaries = [cand[0] for cand in candidate]\n",
    "\n",
    "for i in range(len(copy_summaries)): # candidate summary set 개수\n",
    "    for j in range(len(copy_summaries[i])): # sentence 개수\n",
    "        ext_tok = copy_summaries[i][j].split()\n",
    "        window = len(ext_tok) // n_gram\n",
    "        \n",
    "        sent_id = sum([len(prev) for prev in copy_summaries[:i]]) + j\n",
    "        for w in range(window):\n",
    "            s = rouge.get_scores(' '.join(ext_tok[w:w+n_gram]), '\\n'.join(abstract))[0]['rouge-l']['f']\n",
    "\n",
    "            score = (sent_id, w, ' '.join(ext_tok[w:w+n_gram]), s)\n",
    "            scores.append(score)\n",
    "dscored = sorted(scores,key=lambda x: x[-1], reverse=True)\n",
    "dscored"
   ]
  },
  {
   "cell_type": "code",
   "execution_count": 52,
   "metadata": {},
   "outputs": [
    {
     "data": {
      "text/plain": [
       "[(0, 0, 'club tijuana star', 0.0),\n",
       " (0, 5, 'conjured memories luis', 0.0),\n",
       " (0, 6, 'memories luis suarez', 0.0),\n",
       " (1, 1, 'was not booked', 0.0),\n",
       " (1, 2, 'not booked by', 0.0),\n",
       " (2, 2, '( left )', 0.0),\n",
       " (2, 3, 'left ) bites', 0.0),\n",
       " (4, 1, 'venezuelan icon sank', 0.0),\n",
       " (5, 1, 'was not booked', 0.0),\n",
       " (5, 2, 'not booked by', 0.0),\n",
       " (8, 1, 'venezuelan icon sank', 0.0),\n",
       " (9, 1, 'was not booked', 0.0),\n",
       " (9, 2, 'not booked by', 0.0)]"
      ]
     },
     "execution_count": 52,
     "metadata": {},
     "output_type": "execute_result"
    }
   ],
   "source": [
    "dscored = [sc for sc in dscored if sc[-1]==0.0]\n",
    "dscored"
   ]
  },
  {
   "cell_type": "code",
   "execution_count": 53,
   "metadata": {},
   "outputs": [],
   "source": [
    "from transformers import BartTokenizer, BartForConditionalGeneration, BartConfig\n",
    "\n",
    "model = BartForConditionalGeneration.from_pretrained('facebook/bart-large-cnn')\n",
    "tokenizer = BartTokenizer.from_pretrained('facebook/bart-large-cnn')"
   ]
  },
  {
   "cell_type": "code",
   "execution_count": 54,
   "metadata": {},
   "outputs": [],
   "source": [
    "encoded_cand_set = [[bert_encode(s, 180) for s in cs] for cs in copy_summaries]"
   ]
  },
  {
   "cell_type": "code",
   "execution_count": 107,
   "metadata": {},
   "outputs": [],
   "source": [
    "def rewrite(cand_set, sent_id, window_id, tok, model, n_gram='trigram', tok_max_length=512, max_length=5):\n",
    "        \n",
    "    if n_gram =='trigram':\n",
    "        n_gram = 3\n",
    "    elif n_gram =='4-gram':\n",
    "        n_gram = 4\n",
    "    elif n_gram == '5-gram':\n",
    "        n_gram = 5\n",
    "    else:\n",
    "        n_gram = None\n",
    "    \n",
    "    def _map_sent_id(cand_set):\n",
    "        mapping_ = []\n",
    "        for i, cand in enumerate(cand_set) :\n",
    "            summ_ = []\n",
    "            for j, s in enumerate(cand):\n",
    "                idx = sum([len(prev) for prev in cand_set[:i]]) + j\n",
    "                summ_.append((idx, s))\n",
    "            \n",
    "            mapping_.append(summ_)\n",
    "            \n",
    "        return mapping_\n",
    "    \n",
    "    def _get_sent_fromId(cand_set, idx):\n",
    "        dscored = [(i, j, sent[1]) for i, cand in enumerate(cand_set) for j, sent in enumerate(cand) if sent[0]==idx]\n",
    "        return dscored[0]\n",
    "    \n",
    "    mapped_cand_set = _map_sent_id(cand_set)\n",
    "    set_idx, sent_idx, sent = _get_sent_fromId(mapped_cand_set, sent_id)\n",
    "    \n",
    "    sent_tok = sent.split()\n",
    "    n_gram = n_gram if n_gram is not None else len(sent_tok)\n",
    "    \n",
    "    origin_phase_txt = ' '.join(sent_tok[window_id : window_id + n_gram])    \n",
    "    print(origin_phase_txt)\n",
    "    \n",
    "    bart_tokenized = tok([origin_phase_txt], max_length=tok_max_length, return_tensors='pt')\n",
    "    bart_summarized = model.generate(bart_tokenized['input_ids'], num_beams=4, max_length=max_length, early_stopping=True)\n",
    "    result = [tok.decode(g, skip_special_tokens=True, clean_up_tokenization_spaces=False) for g in bart_summarized]\n",
    "    \n",
    "    print(result)\n",
    "        \n",
    "    sent_tok[window_id:window_id + n_gram] = result\n",
    "    cand_set[set_idx][sent_idx] = ' '.join(sent_tok)\n",
    "    \n",
    "    return cand_set"
   ]
  },
  {
   "cell_type": "code",
   "execution_count": 108,
   "metadata": {},
   "outputs": [
    {
     "data": {
      "text/plain": [
       "[(0, 0, 'club tijuana star', 0.0),\n",
       " (0, 5, 'conjured memories luis', 0.0),\n",
       " (0, 6, 'memories luis suarez', 0.0),\n",
       " (1, 1, 'was not booked', 0.0),\n",
       " (1, 2, 'not booked by', 0.0),\n",
       " (2, 2, '( left )', 0.0),\n",
       " (2, 3, 'left ) bites', 0.0),\n",
       " (4, 1, 'venezuelan icon sank', 0.0),\n",
       " (5, 1, 'was not booked', 0.0),\n",
       " (5, 2, 'not booked by', 0.0),\n",
       " (8, 1, 'venezuelan icon sank', 0.0),\n",
       " (9, 1, 'was not booked', 0.0),\n",
       " (9, 2, 'not booked by', 0.0)]"
      ]
     },
     "execution_count": 108,
     "metadata": {},
     "output_type": "execute_result"
    }
   ],
   "source": [
    "dscored"
   ]
  },
  {
   "cell_type": "code",
   "execution_count": 109,
   "metadata": {},
   "outputs": [
    {
     "name": "stdout",
     "output_type": "stream",
     "text": [
      "42\n",
      "club tijuana star\n",
      "['club tijuana star']\n",
      "42\n",
      "club tijuana star\n",
      "['club tijuana star']\n",
      "42\n",
      "club tijuana star\n",
      "['club tijuana star']\n",
      "17\n",
      "he was not\n",
      "['he was not']\n",
      "17\n",
      "he was not\n",
      "['he was not']\n",
      "22\n",
      "juan arango (\n",
      "['juan arango']\n",
      "22\n",
      "juan arango left\n",
      "['juan arango']\n",
      "22\n",
      "the venezuelan icon\n",
      "['the venezuelan']\n",
      "17\n",
      "he was not\n",
      "['he was not']\n",
      "17\n",
      "he was not\n",
      "['he was not']\n",
      "22\n",
      "the venezuelan icon\n",
      "['the venezuelan']\n",
      "17\n",
      "he was not\n",
      "['he was not']\n",
      "17\n",
      "he was not\n",
      "['he was not']\n"
     ]
    }
   ],
   "source": [
    "import copy\n",
    "\n",
    "rewrited_summaries = copy.deepcopy(copy_summaries)\n",
    "\n",
    "for sent_id, w, ph, _ in dscored:\n",
    "    \n",
    "    mapped_cand_set = map_sent_id(encoded_cand_set)\n",
    "    tmp = [(i, j, sent[1]) for i, cand in enumerate(mapped_cand_set) \n",
    "                       for j, sent in enumerate(cand) if sent[0]==sent_id]\n",
    "    _, _, sent = tmp[0]\n",
    "    print(len(sent))\n",
    "    rewrited_summaries = rewrite(cand_set=rewrited_summaries, sent_id=sent_id, \\\n",
    "                                 window_id=window_id, tok=tokenizer, model=model, n_gram='trigram',\n",
    "                                tok_max_length=512, max_length=7)"
   ]
  },
  {
   "cell_type": "code",
   "execution_count": 110,
   "metadata": {},
   "outputs": [
    {
     "data": {
      "text/plain": [
       "[[\"club tijuana star juan arango conjured memories luis suarez in his team 's 4-3 defeat by monterrey in the mexican league - but it was not through prodigious scoring .\",\n",
       "  'he was not booked by the referee but could face a heavy retrospective ban .',\n",
       "  'juan arango ) bites the shoulder of opponent jesus zavela in a moment of madness'],\n",
       " [\"juan arango bites jesus zavela in a moment of madness in club tijuana 's 4-3 defeat by monterrey in the mexican league .\",\n",
       "  'the venezuelan sank his teeth into the shoulder of the opponent as his temper flared in the defeat .',\n",
       "  'he was not booked by the referee but could face a heavy retrospective ban .',\n",
       "  'arango had earlier curled in a magnificent free kick for his team to bring them level after falling 2-0 down .'],\n",
       " [\"juan arango bites jesus zavela in club tijuana 's 4-3 defeat by monterrey in the mexican league .\",\n",
       "  'the venezuelan sank his teeth into the shoulder of jesus zavala in a moment of madness .',\n",
       "  'he was not booked by the referee but could face a heavy retrospective ban .']]"
      ]
     },
     "execution_count": 110,
     "metadata": {},
     "output_type": "execute_result"
    }
   ],
   "source": [
    "rewrited_summaries"
   ]
  },
  {
   "cell_type": "markdown",
   "metadata": {},
   "source": [
    "### cosine similarity 하락"
   ]
  },
  {
   "cell_type": "code",
   "execution_count": 111,
   "metadata": {},
   "outputs": [
    {
     "name": "stdout",
     "output_type": "stream",
     "text": [
      "Cosine similarity between document and summaries : [0.375, 0.586, 0.7]\n",
      "Cosine similarity between reference and summaries : [0.172, 0.111, 0.106]\n"
     ]
    }
   ],
   "source": [
    "doc_sim_list = [round(np.mean(get_cos_similarity(article, cand)),3) for cand in rewrited_summaries]\n",
    "ref_sim_list = [round(np.mean(get_cos_similarity(abstract, cand)),3) for cand in rewrited_summaries]\n",
    "\n",
    "print(\"Cosine similarity between document and summaries : {}\".format(doc_sim_list))\n",
    "print(\"Cosine similarity between reference and summaries : {}\".format(ref_sim_list))"
   ]
  },
  {
   "cell_type": "markdown",
   "metadata": {},
   "source": [
    "### Reference Summary와의 ROUGE score 향상"
   ]
  },
  {
   "cell_type": "code",
   "execution_count": 112,
   "metadata": {},
   "outputs": [
    {
     "name": "stdout",
     "output_type": "stream",
     "text": [
      "Rouge score between document and summaries : [0.554, 0.61, 0.443]\n",
      "Rouge score between reference and summaries : [0.459, 0.518, 0.485]\n",
      "Rouge score between reference and summaries(written) : [0.4, 0.404, 0.387]\n"
     ]
    }
   ],
   "source": [
    "rouge = Rouge()\n",
    "\n",
    "doc_rouge_list = [round(rouge.get_scores('\\n'.join(cand), '\\n'.join(article))[0]['rouge-l']['f'],3) for cand in rewrited_summaries]\n",
    "ref_rouge_list = [round(rouge.get_scores('\\n'.join(cand), '\\n'.join(abstract))[0]['rouge-l']['f'],3) for cand in rewrited_summaries]\n",
    "rouge_list = [round(cand[1],3) for cand in candidate]\n",
    "\n",
    "print(\"Rouge score between document and summaries : {}\".format(doc_rouge_list))\n",
    "print(\"Rouge score between reference and summaries : {}\".format(ref_rouge_list))\n",
    "print(\"Rouge score between reference and summaries(written) : {}\".format(rouge_list))\n"
   ]
  },
  {
   "cell_type": "markdown",
   "metadata": {},
   "source": [
    "## 문장 단위 Rewrite"
   ]
  },
  {
   "cell_type": "code",
   "execution_count": 113,
   "metadata": {},
   "outputs": [],
   "source": [
    "def _map_sent_id(cand_set):\n",
    "    mapping_ = []\n",
    "    for i, cand in enumerate(cand_set) :\n",
    "        summ_ = []\n",
    "        for j, s in enumerate(cand):\n",
    "            idx = sum([len(prev) for prev in cand_set[:i]]) + j\n",
    "            summ_.append((idx, s))\n",
    "            \n",
    "        mapping_.append(summ_)\n",
    "            \n",
    "    return mapping_\n",
    "    \n",
    "def _get_sent_fromId(cand_set, idx):\n",
    "    dscored = [(i, j, sent[1]) for i, cand in enumerate(cand_set) for j, sent in enumerate(cand) if sent[0]==idx]\n",
    "    return dscored[0]"
   ]
  },
  {
   "cell_type": "code",
   "execution_count": 114,
   "metadata": {},
   "outputs": [
    {
     "data": {
      "text/plain": [
       "[[\"club tijuana star juan arango conjured memories luis suarez in his team 's 4-3 defeat by monterrey in the mexican league - but it was not through prodigious scoring .\",\n",
       "  'he was not booked by the referee but could face a heavy retrospective ban .',\n",
       "  'juan arango ) bites the shoulder of opponent jesus zavela in a moment of madness'],\n",
       " [\"juan arango bites jesus zavela in a moment of madness in club tijuana 's 4-3 defeat by monterrey in the mexican league .\",\n",
       "  'the venezuelan sank his teeth into the shoulder of the opponent as his temper flared in the defeat .',\n",
       "  'he was not booked by the referee but could face a heavy retrospective ban .',\n",
       "  'arango had earlier curled in a magnificent free kick for his team to bring them level after falling 2-0 down .'],\n",
       " [\"juan arango bites jesus zavela in club tijuana 's 4-3 defeat by monterrey in the mexican league .\",\n",
       "  'the venezuelan sank his teeth into the shoulder of jesus zavala in a moment of madness .',\n",
       "  'he was not booked by the referee but could face a heavy retrospective ban .']]"
      ]
     },
     "execution_count": 114,
     "metadata": {},
     "output_type": "execute_result"
    }
   ],
   "source": [
    "rewrited_summaries"
   ]
  },
  {
   "cell_type": "code",
   "execution_count": 115,
   "metadata": {},
   "outputs": [],
   "source": [
    "def map_sent_id(cand_set):\n",
    "    mapping_ = []\n",
    "    for i, cand in enumerate(cand_set) :\n",
    "        summ_ = []\n",
    "        for j, s in enumerate(cand):\n",
    "            idx = sum([len(prev) for prev in cand_set[:i]]) + j\n",
    "            summ_.append((idx, s))\n",
    "            \n",
    "        mapping_.append(summ_)\n",
    "            \n",
    "    return mapping_"
   ]
  },
  {
   "cell_type": "code",
   "execution_count": 116,
   "metadata": {
    "scrolled": true
   },
   "outputs": [
    {
     "name": "stdout",
     "output_type": "stream",
     "text": [
      "42\n",
      "club tijuana star juan arango conjured memories luis suarez in his team 's 4-3 defeat by monterrey in the mexican league - but it was not through prodigious scoring .\n",
      "[\"Club tijuana star juan arango conjured memories luis suarez in his team 's 4-3 defeat by monterrey in the mexican league - but it was\"]\n",
      "42\n",
      "Club tijuana star juan arango conjured memories luis suarez in his team 's 4-3 defeat by monterrey in the mexican league - but it was\n",
      "[\"Club tijuana star juan arango conjured memories luis suarez in his team 's 4-3 defeat by monterrey in the mexican league. Club tijuana\"]\n",
      "42\n",
      "Club tijuana star juan arango conjured memories luis suarez in his team 's 4-3 defeat by monterrey in the mexican league. Club tijuana\n",
      "[\"Club tijuana star juan arango conjured memories luis suarez in his team 's 4-3 defeat by monterrey in the mexican league. Club tijuana\"]\n",
      "17\n",
      "he was not booked by the referee but could face a heavy retrospective ban .\n",
      "['he was not booked by the referee but could face a heavy retrospective ban']\n",
      "17\n",
      "he was not booked by the referee but could face a heavy retrospective ban\n",
      "['he was not booked by the referee but could face a heavy retrospective ban']\n",
      "22\n",
      "juan arango ( left ) bites the shoulder of opponent jesus zavela in a moment of madness\n",
      "['juan arango bites the shoulder of opponent jesus zavela in a moment']\n",
      "22\n",
      "juan arango bites the shoulder of opponent jesus zavela in a moment\n",
      "['juan arango bites the shoulder of opponent jesus zavela in a moment']\n",
      "22\n",
      "the venezuelan icon sank his teeth into the shoulder of the opponent as his temper flared in the defeat .\n",
      "['the venezuelan icon sank his teeth into the shoulder of the opponent as his temper flared in']\n",
      "17\n",
      "he was not booked by the referee but could face a heavy retrospective ban .\n",
      "['he was not booked by the referee but could face a heavy retrospective ban']\n",
      "17\n",
      "he was not booked by the referee but could face a heavy retrospective ban\n",
      "['he was not booked by the referee but could face a heavy retrospective ban']\n",
      "22\n",
      "the venezuelan icon sank his teeth into the shoulder of jesus zavala in a moment of madness .\n",
      "['the venezuelan icon sank his teeth into the shoulder of jesus zavala in']\n",
      "17\n",
      "he was not booked by the referee but could face a heavy retrospective ban .\n",
      "['he was not booked by the referee but could face a heavy retrospective ban']\n",
      "17\n",
      "he was not booked by the referee but could face a heavy retrospective ban\n",
      "['he was not booked by the referee but could face a heavy retrospective ban']\n"
     ]
    },
    {
     "data": {
      "text/plain": [
       "[[\"Club tijuana star juan arango conjured memories luis suarez in his team 's 4-3 defeat by monterrey in the mexican league. Club tijuana\",\n",
       "  'he was not booked by the referee but could face a heavy retrospective ban',\n",
       "  'juan arango bites the shoulder of opponent jesus zavela in a moment'],\n",
       " [\"juan arango bites jesus zavela in a moment of madness in club tijuana 's 4-3 defeat by monterrey in the mexican league .\",\n",
       "  'the venezuelan icon sank his teeth into the shoulder of the opponent as his temper flared in',\n",
       "  'he was not booked by the referee but could face a heavy retrospective ban',\n",
       "  'arango had earlier curled in a magnificent free kick for his team to bring them level after falling 2-0 down .'],\n",
       " [\"juan arango bites jesus zavela in club tijuana 's 4-3 defeat by monterrey in the mexican league .\",\n",
       "  'the venezuelan icon sank his teeth into the shoulder of jesus zavala in',\n",
       "  'he was not booked by the referee but could face a heavy retrospective ban']]"
      ]
     },
     "execution_count": 116,
     "metadata": {},
     "output_type": "execute_result"
    }
   ],
   "source": [
    "import copy\n",
    "\n",
    "rewrited_summaries = copy.deepcopy(copy_summaries)\n",
    "\n",
    "for sent_id, w, ph, s in dscored:\n",
    "    window_id = 0\n",
    "    \n",
    "    mapped_cand_set = map_sent_id(encoded_cand_set)\n",
    "    tmp = [(i, j, sent[1]) for i, cand in enumerate(mapped_cand_set) \n",
    "                       for j, sent in enumerate(cand) if sent[0]==sent_id]\n",
    "    _, _, sent = tmp[0]\n",
    "    print(len(sent))\n",
    "\n",
    "    rewrited_summaries = rewrite(cand_set=rewrited_summaries, sent_id=sent_id, \\\n",
    "                                 window_id=window_id, tok=tokenizer, model=model, n_gram=None,\n",
    "                                tok_max_length=512, max_length=len(sent))\n",
    "rewrited_summaries"
   ]
  },
  {
   "cell_type": "markdown",
   "metadata": {},
   "source": [
    "### cosine similarity 일부 하락 & 향상"
   ]
  },
  {
   "cell_type": "code",
   "execution_count": 117,
   "metadata": {},
   "outputs": [
    {
     "name": "stdout",
     "output_type": "stream",
     "text": [
      "Cosine similarity between document and summaries : [0.294, 0.586, 0.739]\n",
      "Cosine similarity between reference and summaries : [0.179, 0.102, 0.11]\n"
     ]
    }
   ],
   "source": [
    "doc_sim_list = [round(np.mean(get_cos_similarity(article, cand)),3) for cand in rewrited_summaries]\n",
    "ref_sim_list = [round(np.mean(get_cos_similarity(abstract, cand)),3) for cand in rewrited_summaries]\n",
    "\n",
    "print(\"Cosine similarity between document and summaries : {}\".format(doc_sim_list))\n",
    "print(\"Cosine similarity between reference and summaries : {}\".format(ref_sim_list))"
   ]
  },
  {
   "cell_type": "markdown",
   "metadata": {},
   "source": [
    "### ROUGE score 일부 하락 & 향상"
   ]
  },
  {
   "cell_type": "code",
   "execution_count": 118,
   "metadata": {},
   "outputs": [
    {
     "name": "stdout",
     "output_type": "stream",
     "text": [
      "Rouge score between document and summaries : [0.478, 0.629, 0.446]\n",
      "Rouge score between reference and summaries : [0.478, 0.512, 0.462]\n",
      "Rouge score between reference and summaries(written) : [0.4, 0.404, 0.387]\n"
     ]
    }
   ],
   "source": [
    "rouge = Rouge()\n",
    "\n",
    "doc_rouge_list = [round(rouge.get_scores('\\n'.join(cand), '\\n'.join(article))[0]['rouge-l']['f'],3) for cand in rewrited_summaries]\n",
    "ref_rouge_list = [round(rouge.get_scores('\\n'.join(cand), '\\n'.join(abstract))[0]['rouge-l']['f'],3) for cand in rewrited_summaries]\n",
    "rouge_list = [round(cand[1],3) for cand in candidate]\n",
    "\n",
    "print(\"Rouge score between document and summaries : {}\".format(doc_rouge_list))\n",
    "print(\"Rouge score between reference and summaries : {}\".format(ref_rouge_list))\n",
    "print(\"Rouge score between reference and summaries(written) : {}\".format(rouge_list))\n"
   ]
  },
  {
   "cell_type": "markdown",
   "metadata": {},
   "source": [
    "## Phase Masking & Rewriting"
   ]
  },
  {
   "cell_type": "code",
   "execution_count": 119,
   "metadata": {},
   "outputs": [],
   "source": [
    "def mask_rewrite(cand_set, sent_id, window_id, tok, model, n_gram='trigram', tok_max_length=512, max_length=5):\n",
    "        \n",
    "    if n_gram =='trigram':\n",
    "        n_gram = 3\n",
    "    elif n_gram =='4-gram':\n",
    "        n_gram = 4\n",
    "    elif n_gram == '5-gram':\n",
    "        n_gram = 5\n",
    "    else:\n",
    "        n_gram = None\n",
    "    \n",
    "    def _map_sent_id(cand_set):\n",
    "        mapping_ = []\n",
    "        for i, cand in enumerate(cand_set) :\n",
    "            summ_ = []\n",
    "            for j, s in enumerate(cand):\n",
    "                idx = sum([len(prev) for prev in cand_set[:i]]) + j\n",
    "                summ_.append((idx, s))\n",
    "            \n",
    "            mapping_.append(summ_)\n",
    "            \n",
    "        return mapping_\n",
    "    \n",
    "    def _get_sent_fromId(cand_set, idx):\n",
    "        dscored = [(i, j, sent[1]) for i, cand in enumerate(cand_set) for j, sent in enumerate(cand) if sent[0]==idx]\n",
    "        return dscored[0]\n",
    "    \n",
    "    mapped_cand_set = _map_sent_id(cand_set)\n",
    "    set_idx, sent_idx, sent = _get_sent_fromId(mapped_cand_set, sent_id)\n",
    "    \n",
    "    sent_tok = sent.split()\n",
    "    sent_tok[window_id:window_id + n_gram] = ['<mask>']\n",
    "    n_gram = n_gram if n_gram is not None else len(sent_tok)\n",
    "    \n",
    "    origin_phase_txt = sent    \n",
    "    print(' '.join(sent_tok))\n",
    "    \n",
    "    bart_tokenized = tok(origin_phase_txt, return_tensors='pt')\n",
    "    bart_summarized = model.generate(bart_tokenized['input_ids'], max_length=max_length)\n",
    "    result = tok.batch_decode(bart_summarized, skip_special_tokens=True)\n",
    "    \n",
    "    print(result)\n",
    "        \n",
    "    sent_tok[window_id:window_id + n_gram] = result\n",
    "    cand_set[set_idx][sent_idx] = result[0]\n",
    "    \n",
    "    return cand_set"
   ]
  },
  {
   "cell_type": "code",
   "execution_count": 120,
   "metadata": {
    "scrolled": true
   },
   "outputs": [
    {
     "name": "stdout",
     "output_type": "stream",
     "text": [
      "42\n",
      "<mask> juan arango conjured memories luis suarez in his team 's 4-3 defeat by monterrey in the mexican league - but it was not through prodigious scoring .\n",
      "[\"Club tijuana star juan arango conjured memories luis suarez in his team's 4-3 defeat by monterrey in the mexican league - but it was\"]\n",
      "42\n",
      "<mask> juan arango conjured memories luis suarez in his team's 4-3 defeat by monterrey in the mexican league - but it was\n",
      "[\"Club tijuana star juan arango conjured memories luis suarez in his team's 4-3 defeat by monterrey in the mexican league. But it was not\"]\n",
      "42\n",
      "<mask> juan arango conjured memories luis suarez in his team's 4-3 defeat by monterrey in the mexican league. But it was not\n",
      "[\"Club tijuana star juan arango conjured memories luis suarez in his team's 4-3 defeat by monterrey in the mexican league. But it was not\"]\n",
      "17\n",
      "<mask> booked by the referee but could face a heavy retrospective ban .\n",
      "['he was not booked by the referee but could face a heavy retrospective ban']\n",
      "17\n",
      "<mask> booked by the referee but could face a heavy retrospective ban\n",
      "['he was not booked by the referee but could face a heavy retrospective ban']\n",
      "22\n",
      "<mask> left ) bites the shoulder of opponent jesus zavela in a moment of madness\n",
      "['juan arango bites the shoulder of opponent jesus zavela in a moment']\n",
      "22\n",
      "<mask> the shoulder of opponent jesus zavela in a moment\n",
      "['juan arango bites the shoulder of opponent jesus zavela in a moment']\n",
      "22\n",
      "<mask> sank his teeth into the shoulder of the opponent as his temper flared in the defeat .\n",
      "['the venezuelan icon sank his teeth into the shoulder of the opponent as his temper flared in']\n",
      "17\n",
      "<mask> booked by the referee but could face a heavy retrospective ban .\n",
      "['he was not booked by the referee but could face a heavy retrospective ban']\n",
      "17\n",
      "<mask> booked by the referee but could face a heavy retrospective ban\n",
      "['he was not booked by the referee but could face a heavy retrospective ban']\n",
      "22\n",
      "<mask> sank his teeth into the shoulder of jesus zavala in a moment of madness .\n",
      "['the venezuelan icon sank his teeth into the shoulder of jesus zavala in']\n",
      "17\n",
      "<mask> booked by the referee but could face a heavy retrospective ban .\n",
      "['he was not booked by the referee but could face a heavy retrospective ban']\n",
      "17\n",
      "<mask> booked by the referee but could face a heavy retrospective ban\n",
      "['he was not booked by the referee but could face a heavy retrospective ban']\n"
     ]
    }
   ],
   "source": [
    "import copy\n",
    "\n",
    "rewrited_summaries = copy.deepcopy(copy_summaries)\n",
    "\n",
    "for sent_id, w, ph, _ in dscored:\n",
    "    \n",
    "    mapped_cand_set = map_sent_id(encoded_cand_set)\n",
    "    tmp = [(i, j, sent[1]) for i, cand in enumerate(mapped_cand_set) \n",
    "                       for j, sent in enumerate(cand) if sent[0]==sent_id]\n",
    "    _, _, sent = tmp[0]\n",
    "    print(len(sent))\n",
    "    \n",
    "    rewrited_summaries = mask_rewrite(cand_set=rewrited_summaries, sent_id=sent_id, \\\n",
    "                                 window_id=window_id, tok=tokenizer, model=model, n_gram='trigram',\n",
    "                                tok_max_length=512, max_length=len(sent))"
   ]
  },
  {
   "cell_type": "markdown",
   "metadata": {},
   "source": [
    "### cosine similarity 하락"
   ]
  },
  {
   "cell_type": "code",
   "execution_count": 121,
   "metadata": {},
   "outputs": [
    {
     "name": "stdout",
     "output_type": "stream",
     "text": [
      "Cosine similarity between document and summaries : [0.344, 0.586, 0.739]\n",
      "Cosine similarity between reference and summaries : [0.18, 0.102, 0.11]\n"
     ]
    }
   ],
   "source": [
    "doc_sim_list = [round(np.mean(get_cos_similarity(article, cand)),3) for cand in rewrited_summaries]\n",
    "ref_sim_list = [round(np.mean(get_cos_similarity(abstract, cand)),3) for cand in rewrited_summaries]\n",
    "\n",
    "print(\"Cosine similarity between document and summaries : {}\".format(doc_sim_list))\n",
    "print(\"Cosine similarity between reference and summaries : {}\".format(ref_sim_list))"
   ]
  },
  {
   "cell_type": "markdown",
   "metadata": {},
   "source": [
    "### ROUGE score 하락"
   ]
  },
  {
   "cell_type": "code",
   "execution_count": 122,
   "metadata": {},
   "outputs": [
    {
     "name": "stdout",
     "output_type": "stream",
     "text": [
      "Rouge score between document and summaries : [0.462, 0.629, 0.446]\n",
      "Rouge score between reference and summaries : [0.412, 0.512, 0.462]\n",
      "Rouge score between reference and summaries(written) : [0.4, 0.404, 0.387]\n"
     ]
    }
   ],
   "source": [
    "rouge = Rouge()\n",
    "\n",
    "doc_rouge_list = [round(rouge.get_scores('\\n'.join(cand), '\\n'.join(article))[0]['rouge-l']['f'],3) for cand in rewrited_summaries]\n",
    "ref_rouge_list = [round(rouge.get_scores('\\n'.join(cand), '\\n'.join(abstract))[0]['rouge-l']['f'],3) for cand in rewrited_summaries]\n",
    "rouge_list = [round(cand[1],3) for cand in candidate]\n",
    "\n",
    "print(\"Rouge score between document and summaries : {}\".format(doc_rouge_list))\n",
    "print(\"Rouge score between reference and summaries : {}\".format(ref_rouge_list))\n",
    "print(\"Rouge score between reference and summaries(written) : {}\".format(rouge_list))\n"
   ]
  }
 ],
 "metadata": {
  "kernelspec": {
   "display_name": "Python 3 (ipykernel)",
   "language": "python",
   "name": "python3"
  },
  "language_info": {
   "codemirror_mode": {
    "name": "ipython",
    "version": 3
   },
   "file_extension": ".py",
   "mimetype": "text/x-python",
   "name": "python",
   "nbconvert_exporter": "python",
   "pygments_lexer": "ipython3",
   "version": "3.8.3"
  }
 },
 "nbformat": 4,
 "nbformat_minor": 2
}

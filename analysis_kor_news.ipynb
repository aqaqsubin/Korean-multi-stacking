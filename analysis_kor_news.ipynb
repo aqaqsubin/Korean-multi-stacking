{
 "cells": [
  {
   "cell_type": "code",
   "execution_count": 1,
   "id": "aa720f25",
   "metadata": {},
   "outputs": [],
   "source": [
    "import numpy as np\n",
    "import os\n",
    "from os.path import join as pjoin\n",
    "from glob import iglob\n",
    "from shutil import copyfile"
   ]
  },
  {
   "cell_type": "code",
   "execution_count": 2,
   "id": "d065f2a3",
   "metadata": {},
   "outputs": [],
   "source": [
    "root_path = '/data/ksb'\n",
    "bert_root = pjoin(root_path, 'BertSum/kor_PreSumm')\n",
    "kobart_root = pjoin(root_path, 'BART/KoBART-summarization')\n",
    "refsum_root = pjoin(root_path, 'RefSum/Refactoring-Summarization')"
   ]
  },
  {
   "cell_type": "code",
   "execution_count": 3,
   "id": "46b4f498",
   "metadata": {},
   "outputs": [],
   "source": [
    "data_root = pjoin(root_path, 'korean_document')"
   ]
  },
  {
   "cell_type": "code",
   "execution_count": 4,
   "id": "fe3a9e8d",
   "metadata": {},
   "outputs": [
    {
     "data": {
      "text/plain": [
       "'/data/ksb/BertSum/koBertSum/ko_raw_stories'"
      ]
     },
     "execution_count": 4,
     "metadata": {},
     "output_type": "execute_result"
    }
   ],
   "source": [
    "kobert_root = pjoin(root_path, 'BertSum/koBertSum')\n",
    "kobert_data = pjoin(kobert_root, 'ko_raw_stories')\n",
    "kobert_data"
   ]
  },
  {
   "cell_type": "code",
   "execution_count": 5,
   "id": "27694d8d",
   "metadata": {},
   "outputs": [],
   "source": [
    "def mkdir_p(path):\n",
    "    import errno\n",
    "    try:\n",
    "        os.makedirs(path)\n",
    "    except OSError as err:\n",
    "        if err.errno == errno.EEXIST and os.path.isdir(path):\n",
    "            pass\n",
    "        else:\n",
    "            raise\n",
    "            \n",
    "def del_folder(path):\n",
    "    try:\n",
    "        rmtree(path)\n",
    "    except:\n",
    "        pass"
   ]
  },
  {
   "cell_type": "code",
   "execution_count": 6,
   "id": "1d604a12",
   "metadata": {},
   "outputs": [],
   "source": [
    "def get_article_list(path):\n",
    "    \n",
    "    article_list = []\n",
    "    \n",
    "    with jsonlines.open(path) as reader:\n",
    "        for news in reader:\n",
    "            content = news['article_original']\n",
    "            idx = news['id']\n",
    "            abs_summ = news['abstractive']\n",
    "            ext_summ = news['extractive']\n",
    "\n",
    "            article = (idx, content, abs_summ, ext_summ)\n",
    "            article_list.append(article)\n",
    "        \n",
    "    return article_list\n",
    "    "
   ]
  },
  {
   "cell_type": "code",
   "execution_count": 7,
   "id": "5c49889b",
   "metadata": {},
   "outputs": [
    {
     "data": {
      "text/plain": [
       "(260697, 10000)"
      ]
     },
     "execution_count": 7,
     "metadata": {},
     "output_type": "execute_result"
    }
   ],
   "source": [
    "import jsonlines\n",
    "\n",
    "train_data = pjoin(data_root, 'train.jsonl')\n",
    "val_data = pjoin(data_root, 'vaild.jsonl')\n",
    "\n",
    "train_article_list = get_article_list(train_data)\n",
    "val_article_list = get_article_list(val_data)\n",
    "\n",
    "(len(train_article_list), len(val_article_list))"
   ]
  },
  {
   "cell_type": "markdown",
   "id": "5d25708b",
   "metadata": {},
   "source": [
    "### BERT Extractor"
   ]
  },
  {
   "cell_type": "markdown",
   "id": "4f401122",
   "metadata": {},
   "source": [
    "### korBART Finetuning data\n"
   ]
  },
  {
   "cell_type": "code",
   "execution_count": 9,
   "id": "2bfac318",
   "metadata": {},
   "outputs": [],
   "source": [
    "kor_bart_data_dir = pjoin(kobart_root, 'data')\n",
    "\n",
    "train_data_path = pjoin(kor_bart_data_dir, 'train.tsv')\n",
    "test_data_path = pjoin(kor_bart_data_dir, 'test.tsv')"
   ]
  },
  {
   "cell_type": "code",
   "execution_count": 11,
   "id": "b4458420",
   "metadata": {
    "scrolled": true
   },
   "outputs": [
    {
     "name": "stdout",
     "output_type": "stream",
     "text": [
      "using cached model\n"
     ]
    }
   ],
   "source": [
    "from kobart import get_kobart_tokenizer\n",
    "kobart_tokenizer = get_kobart_tokenizer()\n",
    "\n",
    "train_dataset = []\n",
    "for data in train_article_list:\n",
    "    news_id = data[0]\n",
    "    news = data[1]\n",
    "    summary = data[2]\n",
    "    \n",
    "    news_token = []\n",
    "    for sent in news:\n",
    "        news_token += kobart_tokenizer.tokenize(sent)\n",
    "        \n",
    "    summary_token = kobart_tokenizer.tokenize(summary)\n",
    "    \n",
    "    train_dataset.append((news_id, news, summary, news_token, summary_token))\n"
   ]
  },
  {
   "cell_type": "code",
   "execution_count": 12,
   "id": "928fc232",
   "metadata": {},
   "outputs": [
    {
     "name": "stdout",
     "output_type": "stream",
     "text": [
      "using cached model\n"
     ]
    },
    {
     "data": {
      "text/plain": [
       "10000"
      ]
     },
     "execution_count": 12,
     "metadata": {},
     "output_type": "execute_result"
    }
   ],
   "source": [
    "kobart_tokenizer = get_kobart_tokenizer()\n",
    "\n",
    "val_dataset = []\n",
    "for data in val_article_list:\n",
    "    news_id = data[0]\n",
    "    news = data[1]\n",
    "    summary = data[2]\n",
    "    \n",
    "    news_token = []\n",
    "    for sent in news:\n",
    "        news_token += kobart_tokenizer.tokenize(sent)\n",
    "        \n",
    "    summary_token = kobart_tokenizer.tokenize(summary)\n",
    "    \n",
    "    val_dataset.append((news_id, news, summary, news_token, summary_token))\n",
    "\n",
    "len(val_dataset)"
   ]
  },
  {
   "cell_type": "code",
   "execution_count": 13,
   "id": "ce0dc80a",
   "metadata": {},
   "outputs": [
    {
     "data": {
      "text/plain": [
       "(260697, 10000)"
      ]
     },
     "execution_count": 13,
     "metadata": {},
     "output_type": "execute_result"
    }
   ],
   "source": [
    "(len(train_dataset), len(val_dataset))"
   ]
  },
  {
   "cell_type": "code",
   "execution_count": 14,
   "id": "696158dd",
   "metadata": {},
   "outputs": [
    {
     "data": {
      "text/plain": [
       "270697"
      ]
     },
     "execution_count": 14,
     "metadata": {},
     "output_type": "execute_result"
    }
   ],
   "source": [
    "dataset = train_dataset + val_dataset\n",
    "len(dataset)"
   ]
  },
  {
   "cell_type": "code",
   "execution_count": 15,
   "id": "73c47255",
   "metadata": {},
   "outputs": [],
   "source": [
    "article_token_dist = [len(data[-2]) for data in dataset]\n",
    "summary_token_dist = [len(data[-1]) for data in dataset]"
   ]
  },
  {
   "cell_type": "code",
   "execution_count": 16,
   "id": "bcfe7767",
   "metadata": {},
   "outputs": [
    {
     "name": "stderr",
     "output_type": "stream",
     "text": [
      "/opt/conda/lib/python3.8/site-packages/seaborn/distributions.py:2557: FutureWarning: `distplot` is a deprecated function and will be removed in a future version. Please adapt your code to use either `displot` (a figure-level function with similar flexibility) or `histplot` (an axes-level function for histograms).\n",
      "  warnings.warn(msg, FutureWarning)\n"
     ]
    },
    {
     "data": {
      "image/png": "[encoded data removed]",
      "text/plain": [
       "<Figure size 1080x720 with 1 Axes>"
      ]
     },
     "metadata": {
      "needs_background": "light"
     },
     "output_type": "display_data"
    }
   ],
   "source": [
    "import seaborn as sns\n",
    "import matplotlib.pyplot as plt\n",
    "\n",
    "fig = plt.figure(figsize=(15,10))\n",
    "\n",
    "sns.distplot(article_token_dist)\n",
    "fig.legend(labels=['News tokens dist'], fontsize=14)\n",
    "plt.show()"
   ]
  },
  {
   "cell_type": "code",
   "execution_count": 17,
   "id": "dc6a4c83",
   "metadata": {},
   "outputs": [
    {
     "name": "stdout",
     "output_type": "stream",
     "text": [
      "Token Distribution : 3.8918202981106265 ~ 6.922643891475888\n",
      "Token Distribution Mean : 5.989\n",
      "\n",
      "Variance : 0.08 \n",
      "Standard Devidation: 0.28\n",
      "\n",
      "95% Confidence Interval : 376.52 ~ 421.00\n",
      "99% Confidence Interval : 369.93 ~ 428.51\n"
     ]
    },
    {
     "data": {
      "image/png": "[encoded data removed]",
      "text/plain": [
       "<Figure size 1152x576 with 1 Axes>"
      ]
     },
     "metadata": {
      "needs_background": "light"
     },
     "output_type": "display_data"
    }
   ],
   "source": [
    "import scipy.stats as stats\n",
    "\n",
    "plt.rcParams[\"figure.figsize\"] = (16,8)\n",
    "\n",
    "log_tok_dist = np.log1p(article_token_dist)\n",
    "\n",
    "log_token_max = np.max(log_tok_dist)\n",
    "log_token_min = np.min(log_tok_dist)\n",
    "\n",
    "log_token_var = np.var(log_tok_dist)\n",
    "log_token_std = np.std(log_tok_dist)\n",
    "log_token_mean = np.mean(log_tok_dist)\n",
    "\n",
    "print(\"Token Distribution : {} ~ {}\".format(log_token_min, log_token_max))\n",
    "print(\"Token Distribution Mean : {:.3f}\\n\".format(log_token_mean))\n",
    "print(\"Variance : {:.2f} \\nStandard Devidation: {:.2f}\\n\".format(log_token_var, log_token_std))\n",
    "\n",
    "x = sorted(log_tok_dist)\n",
    "norm_dist = stats.norm(log_token_mean, log_token_std)\n",
    "\n",
    "log_L_95 = log_token_mean - 1.96*(log_token_std/np.sqrt(100))\n",
    "log_U_95 = log_token_mean + 1.96*(log_token_std/np.sqrt(100))\n",
    "print(\"95% Confidence Interval : {:.2f} ~ {:.2f}\".format(np.expm1(log_L_95), np.expm1(log_U_95)))\n",
    "\n",
    "log_L_99 = log_token_mean - 2.58*(log_token_std/np.sqrt(100))\n",
    "log_U_99 = log_token_mean + 2.58*(log_token_std/np.sqrt(100))\n",
    "print(\"99% Confidence Interval : {:.2f} ~ {:.2f}\".format(np.expm1(log_L_99), np.expm1(log_U_99)))\n",
    "\n",
    "pdf_line, = plt.plot(x, norm_dist.pdf(x), color='steelblue', linewidth=2)\n",
    "\n",
    "mean_line = plt.axvline(x=log_token_mean, color='dimgray', linewidth=1)\n",
    "\n",
    "plt.axvline(log_L_95, color='r', linestyle='--', linewidth=1)\n",
    "plt.axvline(log_U_95, color='r', linestyle='--', linewidth=1)\n",
    "\n",
    "plt.axvline(log_L_99, color='g', linestyle='--', linewidth=1)\n",
    "plt.axvline(log_U_99, color='g', linestyle='--', linewidth=1)\n",
    "\n",
    "# plt.text(log_L_95-.1,.5,\"{}\".format(int(np.exp(log_L_95))), rotation=0)\n",
    "# plt.text(log_U_95,.5,\"{}\".format(int(np.exp(log_U_95))), rotation=0)\n",
    "# plt.text(log_token_mean +.02, .27,\"{}\".format(int(np.exp(log_token_mean))), rotation=0)\n",
    "\n",
    "step = 0.01\n",
    "plt.fill_between(np.arange(log_token_min, log_L_99, step=step).tolist(), \n",
    "                 [norm_dist.pdf(i) for i in np.arange(log_token_min , log_L_99, step=step)], alpha=0.5, color='steelblue') \n",
    "\n",
    "confidence_99_area = plt.fill_between(np.arange(log_L_99 , log_L_95, step=step).tolist(), \n",
    "                 [norm_dist.pdf(i) for i in np.arange(log_L_99 , log_L_95, step=step)], alpha=0.5, color='chartreuse')\n",
    "\n",
    "confidence_area = plt.fill_between(np.arange(log_L_95 , log_U_95, step=step).tolist(), \n",
    "                 [norm_dist.pdf(i) for i in np.arange(log_L_95 , log_U_95, step=step)], alpha=0.5, color='lightcoral')\n",
    "\n",
    "confidence_99_area = plt.fill_between(np.arange(log_U_95 , log_U_99, step=step).tolist(), \n",
    "                 [norm_dist.pdf(i) for i in np.arange(log_U_95 , log_U_99, step=step)], alpha=0.5, color='chartreuse')\n",
    "\n",
    "plt.fill_between(np.arange(log_U_99 , log_token_max, step=step).tolist(), \n",
    "                 [norm_dist.pdf(i) for i in np.arange(log_U_99 , log_token_max, step=step)], alpha=0.5, color='steelblue') \n",
    "\n",
    "x_range = np.arange(log_token_min, log_token_max, step=log_token_max / 10).tolist()\n",
    "x_range.sort()\n",
    "\n",
    "plt.title(\"Input Sequence Length Distribution\", fontsize=15)\n",
    "\n",
    "plt.xticks(x_range, \\\n",
    "           [\"{}\".format(int(np.expm1(x))) for x in x_range])\n",
    "\n",
    "y_range = np.arange(np.min(norm_dist.pdf(x)), np.max(norm_dist.pdf(x)), step=np.max(norm_dist.pdf(x)) / 10).tolist()\n",
    "\n",
    "plt.yticks(y_range, \\\n",
    "           [\"{:.3f}\".format(np.expm1(y)) for y in y_range])\n",
    "plt.xlabel('Input Sequence Length', fontsize=13)\n",
    "plt.ylabel('Probability Density', fontsize=13)\n",
    "\n",
    "plt.legend(handles=(pdf_line, mean_line, confidence_area, confidence_99_area), \n",
    "           labels=('PDF', \"Mean\", \"95% Confidence Interval\", \"99% Confidence Interval\"))\n",
    "\n",
    "\n",
    "plt.show()"
   ]
  },
  {
   "cell_type": "markdown",
   "id": "2327086e",
   "metadata": {},
   "source": [
    "### KoBART Origin Train Dataset"
   ]
  },
  {
   "cell_type": "code",
   "execution_count": 110,
   "id": "2499a692",
   "metadata": {},
   "outputs": [
    {
     "data": {
      "text/html": [
       "<div>\n",
       "<style scoped>\n",
       "    .dataframe tbody tr th:only-of-type {\n",
       "        vertical-align: middle;\n",
       "    }\n",
       "\n",
       "    .dataframe tbody tr th {\n",
       "        vertical-align: top;\n",
       "    }\n",
       "\n",
       "    .dataframe thead th {\n",
       "        text-align: right;\n",
       "    }\n",
       "</style>\n",
       "<table border=\"1\" class=\"dataframe\">\n",
       "  <thead>\n",
       "    <tr style=\"text-align: right;\">\n",
       "      <th></th>\n",
       "      <th>news</th>\n",
       "      <th>summary</th>\n",
       "    </tr>\n",
       "  </thead>\n",
       "  <tbody>\n",
       "    <tr>\n",
       "      <th>0</th>\n",
       "      <td>일제 강제징용피해자들이 지난 2월 발의된 ‘근로정신대 피해자 지원법률안’의 조속한 ...</td>\n",
       "      <td>13일 광주시의회 시민 소통실에서 시민단체 '근로정신대 할머니와 함께 하는 시민모임...</td>\n",
       "    </tr>\n",
       "    <tr>\n",
       "      <th>1</th>\n",
       "      <td>문재인 대통령이 이르면 9일 중폭 개각을 단행할 것으로 보인다. 여권 관계자는 8일...</td>\n",
       "      <td>문재인 대통령이 이르면 9일 장관 3~4명, 장관급 3명을 교체하는 개각을 단행하고...</td>\n",
       "    </tr>\n",
       "    <tr>\n",
       "      <th>2</th>\n",
       "      <td>전남 어촌마을 정주여건 개선 ‘탄력’ 해수부 공모서 고흥 득량도·강진 신전 등 4개...</td>\n",
       "      <td>해양수산부 어촌종합개발 거점 개발사업에 전남 고흥 득량도, 강진 신전, 완도 충동,...</td>\n",
       "    </tr>\n",
       "    <tr>\n",
       "      <th>3</th>\n",
       "      <td>여자친구 알몸을 무단으로 촬영해 인터넷 성인 카페에 유포한 남성이 재판에 넘겨졌다....</td>\n",
       "      <td>피해자 A씨는 가해자인 B씨의 엄벌을 촉구하며 국민청원에 피해사실을 공개하였고 결국...</td>\n",
       "    </tr>\n",
       "    <tr>\n",
       "      <th>4</th>\n",
       "      <td>대구시의회 배지숙 의장이 개회를 선언하고 있다. 대구시의회(의장 배지숙)는 14일부...</td>\n",
       "      <td>대구시의회가 14일 제1차 본회의를 시작으로 제265회 임시회를 개최하고 ‘대구시시...</td>\n",
       "    </tr>\n",
       "    <tr>\n",
       "      <th>...</th>\n",
       "      <td>...</td>\n",
       "      <td>...</td>\n",
       "    </tr>\n",
       "    <tr>\n",
       "      <th>34237</th>\n",
       "      <td>민생 구하기부터 나서야” 자유한국당은 7일 더불어민주당을 향해 ‘재판 불복, 민심 ...</td>\n",
       "      <td>김병준 비상대책위원장은 민주당 이해찬 대표가 대선불복은 절대 받아들일 수 없는 것이...</td>\n",
       "    </tr>\n",
       "    <tr>\n",
       "      <th>34238</th>\n",
       "      <td>민주평화통일자문회의 당진시협의회(회장 김광일, 이하 민주평통) 한성희 수석부회장이 ...</td>\n",
       "      <td>지난 20일, 한성희 수석부회장이 국민훈장을 수상했고, 앞서 지난 19일에는 박병원...</td>\n",
       "    </tr>\n",
       "    <tr>\n",
       "      <th>34239</th>\n",
       "      <td>충남도서관 전경 충남도서관이 한국문화공간건축학회로부터 도서관 부문 '2018 한국문...</td>\n",
       "      <td>올해로 4회째를 맞는 한국문화공간상에서 충남 도서관이 공공성과 접근성, 사용자들의 ...</td>\n",
       "    </tr>\n",
       "    <tr>\n",
       "      <th>34240</th>\n",
       "      <td>전남도의회는 10일 열린 제 335회 임시회 본회의에서 이광일(더불어민주당·여수 1...</td>\n",
       "      <td>전남도의회는 헌재가 현행 해상경계선을 인정하고 현행 해상경계선을 경계선으로 확정할 ...</td>\n",
       "    </tr>\n",
       "    <tr>\n",
       "      <th>34241</th>\n",
       "      <td>교육부의 2018년 대학기본역량진단에서 ‘재정지원제한대학’으로 지정된 경남 진주 한...</td>\n",
       "      <td>재정난 악화와 이사장의 비위 행위 등으로 인해 2018년 '재정지원제한대학'으로 지...</td>\n",
       "    </tr>\n",
       "  </tbody>\n",
       "</table>\n",
       "<p>34242 rows × 2 columns</p>\n",
       "</div>"
      ],
      "text/plain": [
       "                                                    news  \\\n",
       "0      일제 강제징용피해자들이 지난 2월 발의된 ‘근로정신대 피해자 지원법률안’의 조속한 ...   \n",
       "1      문재인 대통령이 이르면 9일 중폭 개각을 단행할 것으로 보인다. 여권 관계자는 8일...   \n",
       "2      전남 어촌마을 정주여건 개선 ‘탄력’ 해수부 공모서 고흥 득량도·강진 신전 등 4개...   \n",
       "3      여자친구 알몸을 무단으로 촬영해 인터넷 성인 카페에 유포한 남성이 재판에 넘겨졌다....   \n",
       "4      대구시의회 배지숙 의장이 개회를 선언하고 있다. 대구시의회(의장 배지숙)는 14일부...   \n",
       "...                                                  ...   \n",
       "34237  민생 구하기부터 나서야” 자유한국당은 7일 더불어민주당을 향해 ‘재판 불복, 민심 ...   \n",
       "34238  민주평화통일자문회의 당진시협의회(회장 김광일, 이하 민주평통) 한성희 수석부회장이 ...   \n",
       "34239  충남도서관 전경 충남도서관이 한국문화공간건축학회로부터 도서관 부문 '2018 한국문...   \n",
       "34240  전남도의회는 10일 열린 제 335회 임시회 본회의에서 이광일(더불어민주당·여수 1...   \n",
       "34241  교육부의 2018년 대학기본역량진단에서 ‘재정지원제한대학’으로 지정된 경남 진주 한...   \n",
       "\n",
       "                                                 summary  \n",
       "0      13일 광주시의회 시민 소통실에서 시민단체 '근로정신대 할머니와 함께 하는 시민모임...  \n",
       "1      문재인 대통령이 이르면 9일 장관 3~4명, 장관급 3명을 교체하는 개각을 단행하고...  \n",
       "2      해양수산부 어촌종합개발 거점 개발사업에 전남 고흥 득량도, 강진 신전, 완도 충동,...  \n",
       "3      피해자 A씨는 가해자인 B씨의 엄벌을 촉구하며 국민청원에 피해사실을 공개하였고 결국...  \n",
       "4      대구시의회가 14일 제1차 본회의를 시작으로 제265회 임시회를 개최하고 ‘대구시시...  \n",
       "...                                                  ...  \n",
       "34237  김병준 비상대책위원장은 민주당 이해찬 대표가 대선불복은 절대 받아들일 수 없는 것이...  \n",
       "34238  지난 20일, 한성희 수석부회장이 국민훈장을 수상했고, 앞서 지난 19일에는 박병원...  \n",
       "34239  올해로 4회째를 맞는 한국문화공간상에서 충남 도서관이 공공성과 접근성, 사용자들의 ...  \n",
       "34240  전남도의회는 헌재가 현행 해상경계선을 인정하고 현행 해상경계선을 경계선으로 확정할 ...  \n",
       "34241  재정난 악화와 이사장의 비위 행위 등으로 인해 2018년 '재정지원제한대학'으로 지...  \n",
       "\n",
       "[34242 rows x 2 columns]"
      ]
     },
     "execution_count": 110,
     "metadata": {},
     "output_type": "execute_result"
    }
   ],
   "source": [
    "origin_train_data = pd.read_csv(pjoin(kor_bart_data_dir, 'origin-data/train.tsv'), sep='\\t')\n",
    "origin_train_data"
   ]
  },
  {
   "cell_type": "code",
   "execution_count": 111,
   "id": "aa1c7995",
   "metadata": {},
   "outputs": [
    {
     "data": {
      "text/html": [
       "<div>\n",
       "<style scoped>\n",
       "    .dataframe tbody tr th:only-of-type {\n",
       "        vertical-align: middle;\n",
       "    }\n",
       "\n",
       "    .dataframe tbody tr th {\n",
       "        vertical-align: top;\n",
       "    }\n",
       "\n",
       "    .dataframe thead th {\n",
       "        text-align: right;\n",
       "    }\n",
       "</style>\n",
       "<table border=\"1\" class=\"dataframe\">\n",
       "  <thead>\n",
       "    <tr style=\"text-align: right;\">\n",
       "      <th></th>\n",
       "      <th>news</th>\n",
       "      <th>summary</th>\n",
       "    </tr>\n",
       "  </thead>\n",
       "  <tbody>\n",
       "    <tr>\n",
       "      <th>0</th>\n",
       "      <td>계약금 10%·중도금무이자융자·6개월 후 전매가능 기자 아파트 분양시장이 실수요자 ...</td>\n",
       "      <td>태왕의 '성당 태왕아너스 메트로'모델하우스는 초역세권 입지와 변화하는 라이프스타일에...</td>\n",
       "    </tr>\n",
       "    <tr>\n",
       "      <th>1</th>\n",
       "      <td>▲ 박동우 안양동안경찰서 경비교통과 경장 이른 새벽 옆방에서 장난감 소리가 들려온다...</td>\n",
       "      <td>최근 늘어나고 있는 집회시위에서 소음이 문제가 되고 있는데 현행 집회와 시위에 관한...</td>\n",
       "    </tr>\n",
       "    <tr>\n",
       "      <th>2</th>\n",
       "      <td>지난 19일 옛 망주초등학교에서 송귀근 고흥군수와 송우섭 군의회 의장, 귀농·귀촌인...</td>\n",
       "      <td>지난 19일 고흥군에 따르면 송귀근 군수와 주민 등 300여 명이 참석한 가운데 귀...</td>\n",
       "    </tr>\n",
       "    <tr>\n",
       "      <th>3</th>\n",
       "      <td>여자 하이다이빙 금메달을 차지한 호주 이프랜드(오른쪽) 선수가 환호하고 있다. /김...</td>\n",
       "      <td>23일 조선대학교에서 열린 여자 하이다이빙 최종전에서 호주의 이프랜드가 금메달을 차...</td>\n",
       "    </tr>\n",
       "    <tr>\n",
       "      <th>4</th>\n",
       "      <td>시간선택제 공무원 채용 공고, 사이버국가고시센터 11개 부처에서 34명 선발, 5월...</td>\n",
       "      <td>사이버 국가고시센터에서는 시간선택제 공무원을 선발 하는데, 시간선택제 공무원은 통상...</td>\n",
       "    </tr>\n",
       "    <tr>\n",
       "      <th>...</th>\n",
       "      <td>...</td>\n",
       "      <td>...</td>\n",
       "    </tr>\n",
       "    <tr>\n",
       "      <th>8556</th>\n",
       "      <td>▲ 면천면 삼웅2리 유재면 전 노인회장의 송덕비 건립기념식이 지난 7일 진행됐다. ...</td>\n",
       "      <td>면천면 삼웅2리 노인회 회원들이 12년동안 노인회를 이끌어오면서, 노인복지 향상을 ...</td>\n",
       "    </tr>\n",
       "    <tr>\n",
       "      <th>8557</th>\n",
       "      <td>올해 5월 폴란드에서 열리는 국제축구연맹(FIFA) 20세 이하(U-20) 월드컵 ...</td>\n",
       "      <td>FIFA는 오는 25일 올해 5월 폴란드에서 열리는 20세 이하(U-20) 월드컵 ...</td>\n",
       "    </tr>\n",
       "    <tr>\n",
       "      <th>8558</th>\n",
       "      <td>[음성]음성군은 지난 19일 군청 상황실에서 유니세프 아동친화도시 인증에 따른 사업...</td>\n",
       "      <td>음성군은 유니세프 아동친화도시 인증에 따른 사업의 안정적인 정착과 내실 있는 추진을...</td>\n",
       "    </tr>\n",
       "    <tr>\n",
       "      <th>8559</th>\n",
       "      <td>대구지방식품의약품안전청장 직무대리 가정에서도 HACCP 실천해요 요즘 마트나 슈퍼 ...</td>\n",
       "      <td>요즘 마트나 슈퍼 등에서 위생관리를 더욱 철저히 해  HACCP표시가 된 안전식품들...</td>\n",
       "    </tr>\n",
       "    <tr>\n",
       "      <th>8560</th>\n",
       "      <td>광주시, 온라인 플랫폼서 ‘시민제안·토론’ 활발 오픈 40일 동안 제안 130여 건...</td>\n",
       "      <td>광주광역시는 시민 참여형 토론 정책  민주주의 플랫폼 ‘바로소통 광주!’를 오픈한지...</td>\n",
       "    </tr>\n",
       "  </tbody>\n",
       "</table>\n",
       "<p>8561 rows × 2 columns</p>\n",
       "</div>"
      ],
      "text/plain": [
       "                                                   news  \\\n",
       "0     계약금 10%·중도금무이자융자·6개월 후 전매가능 기자 아파트 분양시장이 실수요자 ...   \n",
       "1     ▲ 박동우 안양동안경찰서 경비교통과 경장 이른 새벽 옆방에서 장난감 소리가 들려온다...   \n",
       "2     지난 19일 옛 망주초등학교에서 송귀근 고흥군수와 송우섭 군의회 의장, 귀농·귀촌인...   \n",
       "3     여자 하이다이빙 금메달을 차지한 호주 이프랜드(오른쪽) 선수가 환호하고 있다. /김...   \n",
       "4     시간선택제 공무원 채용 공고, 사이버국가고시센터 11개 부처에서 34명 선발, 5월...   \n",
       "...                                                 ...   \n",
       "8556  ▲ 면천면 삼웅2리 유재면 전 노인회장의 송덕비 건립기념식이 지난 7일 진행됐다. ...   \n",
       "8557  올해 5월 폴란드에서 열리는 국제축구연맹(FIFA) 20세 이하(U-20) 월드컵 ...   \n",
       "8558  [음성]음성군은 지난 19일 군청 상황실에서 유니세프 아동친화도시 인증에 따른 사업...   \n",
       "8559  대구지방식품의약품안전청장 직무대리 가정에서도 HACCP 실천해요 요즘 마트나 슈퍼 ...   \n",
       "8560  광주시, 온라인 플랫폼서 ‘시민제안·토론’ 활발 오픈 40일 동안 제안 130여 건...   \n",
       "\n",
       "                                                summary  \n",
       "0     태왕의 '성당 태왕아너스 메트로'모델하우스는 초역세권 입지와 변화하는 라이프스타일에...  \n",
       "1     최근 늘어나고 있는 집회시위에서 소음이 문제가 되고 있는데 현행 집회와 시위에 관한...  \n",
       "2     지난 19일 고흥군에 따르면 송귀근 군수와 주민 등 300여 명이 참석한 가운데 귀...  \n",
       "3     23일 조선대학교에서 열린 여자 하이다이빙 최종전에서 호주의 이프랜드가 금메달을 차...  \n",
       "4     사이버 국가고시센터에서는 시간선택제 공무원을 선발 하는데, 시간선택제 공무원은 통상...  \n",
       "...                                                 ...  \n",
       "8556  면천면 삼웅2리 노인회 회원들이 12년동안 노인회를 이끌어오면서, 노인복지 향상을 ...  \n",
       "8557  FIFA는 오는 25일 올해 5월 폴란드에서 열리는 20세 이하(U-20) 월드컵 ...  \n",
       "8558  음성군은 유니세프 아동친화도시 인증에 따른 사업의 안정적인 정착과 내실 있는 추진을...  \n",
       "8559  요즘 마트나 슈퍼 등에서 위생관리를 더욱 철저히 해  HACCP표시가 된 안전식품들...  \n",
       "8560  광주광역시는 시민 참여형 토론 정책  민주주의 플랫폼 ‘바로소통 광주!’를 오픈한지...  \n",
       "\n",
       "[8561 rows x 2 columns]"
      ]
     },
     "execution_count": 111,
     "metadata": {},
     "output_type": "execute_result"
    }
   ],
   "source": [
    "origin_val_data = pd.read_csv(pjoin(kor_bart_data_dir, 'origin-data/test.tsv'), sep='\\t')\n",
    "origin_val_data"
   ]
  },
  {
   "cell_type": "code",
   "execution_count": 114,
   "id": "b65c1ad8",
   "metadata": {},
   "outputs": [
    {
     "name": "stdout",
     "output_type": "stream",
     "text": [
      "using cached model\n"
     ]
    }
   ],
   "source": [
    "from kobart import get_kobart_tokenizer\n",
    "kobart_tokenizer = get_kobart_tokenizer()\n",
    "\n",
    "origin_dataset = []\n",
    "\n",
    "for idx, row in origin_train_data.iterrows():\n",
    "    news = row[0]\n",
    "    summary = row[1]\n",
    "    \n",
    "    news_token = []\n",
    "    for sent in news:\n",
    "        news_token += kobart_tokenizer.tokenize(sent)\n",
    "        \n",
    "    summary_token = kobart_tokenizer.tokenize(summary)\n",
    "    \n",
    "    origin_dataset.append((news, summary, news_token, summary_token))\n",
    "    \n",
    "for idx, row in origin_val_data.iterrows():\n",
    "    news = row[0]\n",
    "    summary = row[1]\n",
    "    \n",
    "    news_token = []\n",
    "    for sent in news:\n",
    "        news_token += kobart_tokenizer.tokenize(sent)\n",
    "        \n",
    "    summary_token = kobart_tokenizer.tokenize(summary)\n",
    "    \n",
    "    origin_dataset.append((news, summary, news_token, summary_token))\n"
   ]
  },
  {
   "cell_type": "code",
   "execution_count": 115,
   "id": "7908675b",
   "metadata": {},
   "outputs": [],
   "source": [
    "origin_article_token_dist = [len(data[-2]) for data in origin_dataset]"
   ]
  },
  {
   "cell_type": "code",
   "execution_count": null,
   "id": "2af0fd01",
   "metadata": {},
   "outputs": [],
   "source": [
    "import seaborn as sns\n",
    "\n",
    "fig = plt.figure(figsize=(15,10))\n",
    "\n",
    "sns.distplot(article_token_dist)\n",
    "sns.distplot(origin_article_token_dist)\n",
    "fig.legend(labels=['News tokens dist'], fontsize=14)\n",
    "\n",
    "plt.show()"
   ]
  },
  {
   "cell_type": "code",
   "execution_count": 116,
   "id": "e93807a2",
   "metadata": {},
   "outputs": [
    {
     "name": "stdout",
     "output_type": "stream",
     "text": [
      "Token Distribution : 6.023447592961033 ~ 7.67786350067821\n",
      "Token Distribution Mean : 6.860\n",
      "\n",
      "Variance : 0.07 \n",
      "Standard Devidation: 0.27\n",
      "\n",
      "95% Confidence Interval : 903.59 ~ 1003.46\n",
      "99% Confidence Interval : 888.73 ~ 1020.23\n"
     ]
    },
    {
     "data": {
      "image/png": "[encoded data removed]",
      "text/plain": [
       "<Figure size 1152x576 with 1 Axes>"
      ]
     },
     "metadata": {
      "needs_background": "light"
     },
     "output_type": "display_data"
    }
   ],
   "source": [
    "import scipy.stats as stats\n",
    "\n",
    "plt.rcParams[\"figure.figsize\"] = (16,8)\n",
    "\n",
    "log_tok_dist = np.log1p(origin_article_token_dist)\n",
    "\n",
    "log_token_max = np.max(log_tok_dist)\n",
    "log_token_min = np.min(log_tok_dist)\n",
    "\n",
    "log_token_var = np.var(log_tok_dist)\n",
    "log_token_std = np.std(log_tok_dist)\n",
    "log_token_mean = np.mean(log_tok_dist)\n",
    "\n",
    "print(\"Token Distribution : {} ~ {}\".format(log_token_min, log_token_max))\n",
    "print(\"Token Distribution Mean : {:.3f}\\n\".format(log_token_mean))\n",
    "print(\"Variance : {:.2f} \\nStandard Devidation: {:.2f}\\n\".format(log_token_var, log_token_std))\n",
    "\n",
    "x = sorted(log_tok_dist)\n",
    "norm_dist = stats.norm(log_token_mean, log_token_std)\n",
    "\n",
    "log_L_95 = log_token_mean - 1.96*(log_token_std/np.sqrt(100))\n",
    "log_U_95 = log_token_mean + 1.96*(log_token_std/np.sqrt(100))\n",
    "print(\"95% Confidence Interval : {:.2f} ~ {:.2f}\".format(np.expm1(log_L_95), np.expm1(log_U_95)))\n",
    "\n",
    "log_L_99 = log_token_mean - 2.58*(log_token_std/np.sqrt(100))\n",
    "log_U_99 = log_token_mean + 2.58*(log_token_std/np.sqrt(100))\n",
    "print(\"99% Confidence Interval : {:.2f} ~ {:.2f}\".format(np.expm1(log_L_99), np.expm1(log_U_99)))\n",
    "\n",
    "pdf_line, = plt.plot(x, norm_dist.pdf(x), color='steelblue', linewidth=2)\n",
    "\n",
    "mean_line = plt.axvline(x=log_token_mean, color='dimgray', linewidth=1)\n",
    "\n",
    "plt.axvline(log_L_95, color='r', linestyle='--', linewidth=1)\n",
    "plt.axvline(log_U_95, color='r', linestyle='--', linewidth=1)\n",
    "\n",
    "plt.axvline(log_L_99, color='g', linestyle='--', linewidth=1)\n",
    "plt.axvline(log_U_99, color='g', linestyle='--', linewidth=1)\n",
    "\n",
    "step = 0.01\n",
    "plt.fill_between(np.arange(log_token_min, log_L_99, step=step).tolist(), \n",
    "                 [norm_dist.pdf(i) for i in np.arange(log_token_min , log_L_99, step=step)], alpha=0.5, color='steelblue') \n",
    "\n",
    "confidence_99_area = plt.fill_between(np.arange(log_L_99 , log_L_95, step=step).tolist(), \n",
    "                 [norm_dist.pdf(i) for i in np.arange(log_L_99 , log_L_95, step=step)], alpha=0.5, color='chartreuse')\n",
    "\n",
    "confidence_area = plt.fill_between(np.arange(log_L_95 , log_U_95, step=step).tolist(), \n",
    "                 [norm_dist.pdf(i) for i in np.arange(log_L_95 , log_U_95, step=step)], alpha=0.5, color='lightcoral')\n",
    "\n",
    "confidence_99_area = plt.fill_between(np.arange(log_U_95 , log_U_99, step=step).tolist(), \n",
    "                 [norm_dist.pdf(i) for i in np.arange(log_U_95 , log_U_99, step=step)], alpha=0.5, color='chartreuse')\n",
    "\n",
    "plt.fill_between(np.arange(log_U_99 , log_token_max, step=step).tolist(), \n",
    "                 [norm_dist.pdf(i) for i in np.arange(log_U_99 , log_token_max, step=step)], alpha=0.5, color='steelblue') \n",
    "\n",
    "x_range = np.arange(log_token_min, log_token_max, step=log_token_max / 10).tolist()\n",
    "x_range.sort()\n",
    "\n",
    "plt.title(\"Input Sequence Length Distribution\", fontsize=15)\n",
    "\n",
    "plt.xticks(x_range, \\\n",
    "           [\"{}\".format(int(np.expm1(x))) for x in x_range])\n",
    "\n",
    "y_range = np.arange(np.min(norm_dist.pdf(x)), np.max(norm_dist.pdf(x)), step=np.max(norm_dist.pdf(x)) / 10).tolist()\n",
    "\n",
    "plt.yticks(y_range, \\\n",
    "           [\"{:.3f}\".format(np.expm1(y)) for y in y_range])\n",
    "plt.xlabel('Input Sequence Length', fontsize=13)\n",
    "plt.ylabel('Probability Density', fontsize=13)\n",
    "\n",
    "plt.legend(handles=(pdf_line, mean_line, confidence_area, confidence_99_area), \n",
    "           labels=('PDF', \"Mean\", \"95% Confidence Interval\", \"99% Confidence Interval\"))\n",
    "\n",
    "\n",
    "plt.show()"
   ]
  }
 ],
 "metadata": {
  "kernelspec": {
   "display_name": "Python 3 (ipykernel)",
   "language": "python",
   "name": "python3"
  },
  "language_info": {
   "codemirror_mode": {
    "name": "ipython",
    "version": 3
   },
   "file_extension": ".py",
   "mimetype": "text/x-python",
   "name": "python",
   "nbconvert_exporter": "python",
   "pygments_lexer": "ipython3",
   "version": "3.8.3"
  }
 },
 "nbformat": 4,
 "nbformat_minor": 5
}

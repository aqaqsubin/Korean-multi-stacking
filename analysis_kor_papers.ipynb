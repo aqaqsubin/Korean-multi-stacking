{
 "cells": [
  {
   "cell_type": "code",
   "execution_count": 6,
   "id": "aa720f25",
   "metadata": {},
   "outputs": [],
   "source": [
    "import numpy as np\n",
    "import os\n",
    "from os.path import join as pjoin\n",
    "from glob import iglob\n",
    "import json\n",
    "from shutil import copyfile"
   ]
  },
  {
   "cell_type": "code",
   "execution_count": 7,
   "id": "d065f2a3",
   "metadata": {},
   "outputs": [],
   "source": [
    "root_path = '/data/ksb'\n",
    "bert_root = pjoin(root_path, 'BertSum/kor_PreSumm')\n",
    "kobart_root = pjoin(root_path, 'BART/KoBART-summarization')\n",
    "refsum_root = pjoin(root_path, 'RefSum/Refactoring-Summarization')"
   ]
  },
  {
   "cell_type": "code",
   "execution_count": 8,
   "id": "46b4f498",
   "metadata": {},
   "outputs": [],
   "source": [
    "data_root = pjoin(root_path, 'korean_paper')"
   ]
  },
  {
   "cell_type": "code",
   "execution_count": 9,
   "id": "fe3a9e8d",
   "metadata": {},
   "outputs": [
    {
     "data": {
      "text/plain": [
       "'/data/ksb/BertSum/koBertSum/kopaper_raw_stories'"
      ]
     },
     "execution_count": 9,
     "metadata": {},
     "output_type": "execute_result"
    }
   ],
   "source": [
    "kobert_root = pjoin(root_path, 'BertSum/koBertSum')\n",
    "kobert_data = pjoin(kobert_root, 'kopaper_raw_stories')\n",
    "kobert_data"
   ]
  },
  {
   "cell_type": "code",
   "execution_count": 10,
   "id": "27694d8d",
   "metadata": {},
   "outputs": [],
   "source": [
    "def mkdir_p(path):\n",
    "    import errno\n",
    "    try:\n",
    "        os.makedirs(path)\n",
    "    except OSError as err:\n",
    "        if err.errno == errno.EEXIST and os.path.isdir(path):\n",
    "            pass\n",
    "        else:\n",
    "            raise\n",
    "            \n",
    "def del_folder(path):\n",
    "    try:\n",
    "        rmtree(path)\n",
    "    except:\n",
    "        pass"
   ]
  },
  {
   "cell_type": "code",
   "execution_count": 11,
   "id": "0f0ed696",
   "metadata": {},
   "outputs": [],
   "source": [
    "import re\n",
    "\n",
    "splitter = re.compile('([.!?-](?:[\"\\']|(?![0-9])))')\n",
    "\n",
    "def split_doc(doc_txt):\n",
    "    def is_splited_sentence(sentences):\n",
    "            return len(sentences) > 1\n",
    "        \n",
    "    docs = splitter.split(doc_txt)\n",
    "    \n",
    "    if not is_splited_sentence(docs): \n",
    "        yield docs[0]\n",
    "    else :\n",
    "        for s in map(lambda a, b: a + b, docs[::2], docs[1::2]):\n",
    "            if not s: continue\n",
    "            yield s[1:] if s.startswith(' ') else s"
   ]
  },
  {
   "cell_type": "code",
   "execution_count": 12,
   "id": "1d604a12",
   "metadata": {},
   "outputs": [],
   "source": [
    "def get_paper_list(reg_exp):\n",
    "    \n",
    "    paper_list = []\n",
    "    \n",
    "    for path in iglob(reg_exp, recursive=False):\n",
    "        with open(path, 'r', encoding='utf-8') as f:\n",
    "            data = json.load(f)\n",
    "            for paper in data['data']:\n",
    "                idx = paper['reg_no']\n",
    "\n",
    "                entire_paper = paper['summary_entire'][0]\n",
    "               \n",
    "                content = entire_paper['orginal_text']\n",
    "                content = list(split_doc(content))\n",
    "                abs_summ = entire_paper['summary_text']\n",
    "                abs_summ = list(split_doc(abs_summ))\n",
    "                \n",
    "                paper_dic = (idx, content, abs_summ)\n",
    "                paper_list.append(paper_dic)\n",
    "        \n",
    "    return paper_list\n",
    "    "
   ]
  },
  {
   "cell_type": "code",
   "execution_count": 13,
   "id": "5c49889b",
   "metadata": {},
   "outputs": [
    {
     "data": {
      "text/plain": [
       "(144280, 18061)"
      ]
     },
     "execution_count": 13,
     "metadata": {},
     "output_type": "execute_result"
    }
   ],
   "source": [
    "import jsonlines\n",
    "\n",
    "train_data = pjoin(data_root, 'train_paper_*.json')\n",
    "val_data = pjoin(data_root,'valid_paper_*.json')\n",
    "\n",
    "train_paper_list = get_paper_list(train_data)\n",
    "val_paper_list = get_paper_list(val_data)\n",
    "\n",
    "(len(train_paper_list), len(val_paper_list))"
   ]
  },
  {
   "cell_type": "markdown",
   "id": "5d25708b",
   "metadata": {},
   "source": [
    "### BERT Extractor"
   ]
  },
  {
   "cell_type": "markdown",
   "id": "4f401122",
   "metadata": {},
   "source": [
    "### korBART Finetuning data\n"
   ]
  },
  {
   "cell_type": "code",
   "execution_count": 14,
   "id": "5e9be39d",
   "metadata": {},
   "outputs": [],
   "source": [
    "def copy_file(src_regex, dst_path):\n",
    "    for src in iglob(src_regex, recursive=False):\n",
    "        copyfile(src, dst_path)"
   ]
  },
  {
   "cell_type": "code",
   "execution_count": 15,
   "id": "2bfac318",
   "metadata": {},
   "outputs": [],
   "source": [
    "kor_bart_data_dir = pjoin(kobart_root, 'paper_data')\n",
    "\n",
    "train_data_path = pjoin(kor_bart_data_dir, 'train.tsv')\n",
    "test_data_path = pjoin(kor_bart_data_dir, 'test.tsv')"
   ]
  },
  {
   "cell_type": "code",
   "execution_count": 16,
   "id": "3596cdf6",
   "metadata": {},
   "outputs": [
    {
     "data": {
      "text/plain": [
       "['본 연구는 경제협력개발기구(Organization for Economic Cooperation and Development, OECD)가 실시한 교수-',\n",
       " '학습 국제조사(Teaching and Learning International Survey 2013, TALIS) 중 교직 선택에 대한 교사 후회에 관한조사를 연구의 출발점으로 삼았다.',\n",
       " '한국의 경우 중학교 교사가 참여한 이 조사에서 응답 교사의 20.1%가 교사가 된 것을 후회한다는 결과가 나오자 사회적 관심이 집중되었다.',\n",
       " '교직 선택을 후회하는 교사 비율은 조사대상국 중 최고로 높은 수치로 이는 곧 교사의 낮은 사기와 만족도를 표현하는 것으로 해석되었고 교원 정책에 대한 비판의 근거로 제시되었다.',\n",
       " '이 연구는 교사가 경험하는 후회의 감정은 매우 복잡한 현상이고 다양한 변인이 작용하는 심리적메커니즘을 가지고 있다는 선행연구에 기초하여 이러한 단순한 해석이 갖는위험을 지적하고 탐색적인 차원에서 대안적인 해석의 가능성을 제시하였다.',\n",
       " '기회(대안)와 후회, 정상(norm)과 후회, 후회의 기능이라는 3가지 영역을검토하면서, 교사 후회 현상은 다양한 변인의 영향을 받을 수 있음을 지적하고 관련 정책적 시사점도 아울러 모색하였다.',\n",
       " '특히, 교사 후회는 교직 선택동기에 관한 연구, 교직을 선택한 시기에 관한 조사, 교직 선택이 당연한 집단이 가진 특성, 후회를 감소시키기 위한 교사의 교직 행동 등과 관련지어새롭게 해석될 수 있음을 보여주었다.',\n",
       " '앞으로 후회 감정에 관련된 심리적 비교에서 고려되는 요소, 행위/비행위 사이 차이, 후회에 관련된 심리적 처리의휴리스틱과 편향 등 후속 연구가 적절히 이루어질 때 교사 후회 현상에 대한제대로 된 해석이 가능하고, 교사 후회 현상을 바탕으로 한 정책 개발 및 평가도 타당하게 이루어질 수 있을 것이다.']"
      ]
     },
     "execution_count": 16,
     "metadata": {},
     "output_type": "execute_result"
    }
   ],
   "source": [
    "train_paper_list[0][1]"
   ]
  },
  {
   "cell_type": "code",
   "execution_count": 17,
   "id": "b4458420",
   "metadata": {
    "scrolled": true
   },
   "outputs": [
    {
     "name": "stdout",
     "output_type": "stream",
     "text": [
      "using cached model\n"
     ]
    }
   ],
   "source": [
    "from kobart import get_kobart_tokenizer\n",
    "kobart_tokenizer = get_kobart_tokenizer()\n",
    "\n",
    "train_dataset = []\n",
    "for data in train_paper_list:\n",
    "    paper_id = data[0]\n",
    "    content = data[1]\n",
    "    summary = data[2]\n",
    "    \n",
    "    paper_txt = ' '.join(content)\n",
    "    summ_txt = ' '.join(summary)\n",
    "    \n",
    "    paper_token = kobart_tokenizer.tokenize(paper_txt)\n",
    "    summary_token = kobart_tokenizer.tokenize(summ_txt)\n",
    "    \n",
    "    train_dataset.append((paper_id, content, summary, paper_token, summary_token))\n"
   ]
  },
  {
   "cell_type": "code",
   "execution_count": 18,
   "id": "928fc232",
   "metadata": {},
   "outputs": [
    {
     "name": "stdout",
     "output_type": "stream",
     "text": [
      "using cached model\n"
     ]
    },
    {
     "data": {
      "text/plain": [
       "18061"
      ]
     },
     "execution_count": 18,
     "metadata": {},
     "output_type": "execute_result"
    }
   ],
   "source": [
    "kobart_tokenizer = get_kobart_tokenizer()\n",
    "\n",
    "val_dataset = []\n",
    "for data in val_paper_list:\n",
    "    paper_id = data[0]\n",
    "    content = data[1]\n",
    "    summary = data[2]\n",
    "    \n",
    "    paper_txt = ' '.join(content)\n",
    "    summ_txt = ' '.join(summary)\n",
    "    \n",
    "    paper_token = kobart_tokenizer.tokenize(paper_txt)\n",
    "    summary_token = kobart_tokenizer.tokenize(summ_txt)\n",
    "\n",
    "    val_dataset.append((paper_id, content, summary, paper_token, summary_token))\n",
    "\n",
    "len(val_dataset)"
   ]
  },
  {
   "cell_type": "code",
   "execution_count": 19,
   "id": "ce0dc80a",
   "metadata": {},
   "outputs": [
    {
     "data": {
      "text/plain": [
       "(144280, 18061)"
      ]
     },
     "execution_count": 19,
     "metadata": {},
     "output_type": "execute_result"
    }
   ],
   "source": [
    "(len(train_dataset), len(val_dataset))"
   ]
  },
  {
   "cell_type": "code",
   "execution_count": 20,
   "id": "696158dd",
   "metadata": {},
   "outputs": [
    {
     "data": {
      "text/plain": [
       "162341"
      ]
     },
     "execution_count": 20,
     "metadata": {},
     "output_type": "execute_result"
    }
   ],
   "source": [
    "dataset = train_dataset + val_dataset\n",
    "len(dataset)"
   ]
  },
  {
   "cell_type": "code",
   "execution_count": 21,
   "id": "73c47255",
   "metadata": {},
   "outputs": [],
   "source": [
    "paper_token_dist = [len(data[-2]) for data in dataset]\n",
    "summary_token_dist = [len(data[-1]) for data in dataset]"
   ]
  },
  {
   "cell_type": "code",
   "execution_count": 22,
   "id": "4525bdb5",
   "metadata": {},
   "outputs": [
    {
     "data": {
      "text/plain": [
       "367"
      ]
     },
     "execution_count": 22,
     "metadata": {},
     "output_type": "execute_result"
    }
   ],
   "source": [
    "paper_token_dist[0]"
   ]
  },
  {
   "cell_type": "code",
   "execution_count": 30,
   "id": "69e47077",
   "metadata": {
    "scrolled": true
   },
   "outputs": [
    {
     "data": {
      "text/plain": [
       "('ART002387022',\n",
       " ['본 연구는 경제협력개발기구(Organization for Economic Cooperation and Development, OECD)가 실시한 교수-',\n",
       "  '학습 국제조사(Teaching and Learning International Survey 2013, TALIS) 중 교직 선택에 대한 교사 후회에 관한조사를 연구의 출발점으로 삼았다.',\n",
       "  '한국의 경우 중학교 교사가 참여한 이 조사에서 응답 교사의 20.1%가 교사가 된 것을 후회한다는 결과가 나오자 사회적 관심이 집중되었다.',\n",
       "  '교직 선택을 후회하는 교사 비율은 조사대상국 중 최고로 높은 수치로 이는 곧 교사의 낮은 사기와 만족도를 표현하는 것으로 해석되었고 교원 정책에 대한 비판의 근거로 제시되었다.',\n",
       "  '이 연구는 교사가 경험하는 후회의 감정은 매우 복잡한 현상이고 다양한 변인이 작용하는 심리적메커니즘을 가지고 있다는 선행연구에 기초하여 이러한 단순한 해석이 갖는위험을 지적하고 탐색적인 차원에서 대안적인 해석의 가능성을 제시하였다.',\n",
       "  '기회(대안)와 후회, 정상(norm)과 후회, 후회의 기능이라는 3가지 영역을검토하면서, 교사 후회 현상은 다양한 변인의 영향을 받을 수 있음을 지적하고 관련 정책적 시사점도 아울러 모색하였다.',\n",
       "  '특히, 교사 후회는 교직 선택동기에 관한 연구, 교직을 선택한 시기에 관한 조사, 교직 선택이 당연한 집단이 가진 특성, 후회를 감소시키기 위한 교사의 교직 행동 등과 관련지어새롭게 해석될 수 있음을 보여주었다.',\n",
       "  '앞으로 후회 감정에 관련된 심리적 비교에서 고려되는 요소, 행위/비행위 사이 차이, 후회에 관련된 심리적 처리의휴리스틱과 편향 등 후속 연구가 적절히 이루어질 때 교사 후회 현상에 대한제대로 된 해석이 가능하고, 교사 후회 현상을 바탕으로 한 정책 개발 및 평가도 타당하게 이루어질 수 있을 것이다.'],\n",
       " ['본 논문은 경제협력개발기구가 실시한 교수-',\n",
       "  '학습 국제조사 가운데 교직 선택에 대한 교사 후회에 대한 조사를 연구의 출발점으로 하였다.',\n",
       "  '한국의 경우 중학교 교사가 참여한 이 조사에서 응답 교사의 20.1%가 교사가 된 것을 후회한다는 결과가 나와 사회적 관심을 받았다.'],\n",
       " ['▁본',\n",
       "  '▁연구',\n",
       "  '는',\n",
       "  '▁경제',\n",
       "  '협력',\n",
       "  '개발',\n",
       "  '기구',\n",
       "  '(O',\n",
       "  'r',\n",
       "  'g',\n",
       "  'an',\n",
       "  'iz',\n",
       "  'ation',\n",
       "  '▁for',\n",
       "  '▁E',\n",
       "  'c',\n",
       "  'on',\n",
       "  'om',\n",
       "  'ic',\n",
       "  '▁C',\n",
       "  'o',\n",
       "  'op',\n",
       "  'er',\n",
       "  'ation',\n",
       "  '▁and',\n",
       "  '▁D',\n",
       "  'e',\n",
       "  'v',\n",
       "  'el',\n",
       "  'op',\n",
       "  'ment',\n",
       "  ',',\n",
       "  '▁O',\n",
       "  'ECD',\n",
       "  ')가',\n",
       "  '▁실시한',\n",
       "  '▁교수',\n",
       "  '-',\n",
       "  '▁학습',\n",
       "  '▁국제',\n",
       "  '조사',\n",
       "  '(T',\n",
       "  'ea',\n",
       "  'ch',\n",
       "  'ing',\n",
       "  '▁and',\n",
       "  '▁L',\n",
       "  'e',\n",
       "  'ar',\n",
       "  'n',\n",
       "  'ing',\n",
       "  '▁In',\n",
       "  'ter',\n",
       "  'n',\n",
       "  'ation',\n",
       "  'al',\n",
       "  '▁S',\n",
       "  'ur',\n",
       "  've',\n",
       "  'y',\n",
       "  '▁2013',\n",
       "  ',',\n",
       "  '▁T',\n",
       "  'A',\n",
       "  'L',\n",
       "  'IS',\n",
       "  ')',\n",
       "  '▁중',\n",
       "  '▁교',\n",
       "  '직',\n",
       "  '▁선택',\n",
       "  '에',\n",
       "  '▁대한',\n",
       "  '▁교사',\n",
       "  '▁후',\n",
       "  '회에',\n",
       "  '▁관한',\n",
       "  '조사를',\n",
       "  '▁연구',\n",
       "  '의',\n",
       "  '▁출발',\n",
       "  '점으로',\n",
       "  '▁삼',\n",
       "  '았다.',\n",
       "  '▁한국의',\n",
       "  '▁경우',\n",
       "  '▁중학교',\n",
       "  '▁교',\n",
       "  '사가',\n",
       "  '▁참여한',\n",
       "  '▁이',\n",
       "  '▁조사에서',\n",
       "  '▁응답',\n",
       "  '▁교',\n",
       "  '사의',\n",
       "  '▁20',\n",
       "  '.1',\n",
       "  '%가',\n",
       "  '▁교',\n",
       "  '사가',\n",
       "  '▁된',\n",
       "  '▁것을',\n",
       "  '▁후회',\n",
       "  '한다는',\n",
       "  '▁결과가',\n",
       "  '▁나오',\n",
       "  '자',\n",
       "  '▁사회적',\n",
       "  '▁관심이',\n",
       "  '▁집중',\n",
       "  '되었',\n",
       "  '다.',\n",
       "  '▁교',\n",
       "  '직',\n",
       "  '▁선택을',\n",
       "  '▁후회',\n",
       "  '하는',\n",
       "  '▁교사',\n",
       "  '▁비율은',\n",
       "  '▁조사',\n",
       "  '대상',\n",
       "  '국',\n",
       "  '▁중',\n",
       "  '▁최고',\n",
       "  '로',\n",
       "  '▁높은',\n",
       "  '▁수',\n",
       "  '치로',\n",
       "  '▁이는',\n",
       "  '▁곧',\n",
       "  '▁교',\n",
       "  '사의',\n",
       "  '▁낮은',\n",
       "  '▁사',\n",
       "  '기와',\n",
       "  '▁만족',\n",
       "  '도를',\n",
       "  '▁표현하는',\n",
       "  '▁것으로',\n",
       "  '▁해석',\n",
       "  '되었',\n",
       "  '고',\n",
       "  '▁교원',\n",
       "  '▁정책에',\n",
       "  '▁대한',\n",
       "  '▁비판',\n",
       "  '의',\n",
       "  '▁근거로',\n",
       "  '▁제시',\n",
       "  '되었',\n",
       "  '다.',\n",
       "  '▁이',\n",
       "  '▁연구',\n",
       "  '는',\n",
       "  '▁교',\n",
       "  '사가',\n",
       "  '▁경험',\n",
       "  '하는',\n",
       "  '▁후',\n",
       "  '회의',\n",
       "  '▁감',\n",
       "  '정은',\n",
       "  '▁매우',\n",
       "  '▁복잡한',\n",
       "  '▁현상',\n",
       "  '이고',\n",
       "  '▁다양한',\n",
       "  '▁변',\n",
       "  '인이',\n",
       "  '▁작용',\n",
       "  '하는',\n",
       "  '▁심리적',\n",
       "  '메',\n",
       "  '커',\n",
       "  '니',\n",
       "  '즘',\n",
       "  '을',\n",
       "  '▁가지고',\n",
       "  '▁있다는',\n",
       "  '▁선행',\n",
       "  '연구',\n",
       "  '에',\n",
       "  '▁기초',\n",
       "  '하여',\n",
       "  '▁이러한',\n",
       "  '▁단순한',\n",
       "  '▁해석',\n",
       "  '이',\n",
       "  '▁갖는',\n",
       "  '위험',\n",
       "  '을',\n",
       "  '▁지적',\n",
       "  '하고',\n",
       "  '▁탐',\n",
       "  '색',\n",
       "  '적인',\n",
       "  '▁차원에서',\n",
       "  '▁대안',\n",
       "  '적인',\n",
       "  '▁해석',\n",
       "  '의',\n",
       "  '▁가능성을',\n",
       "  '▁제시',\n",
       "  '하였다.',\n",
       "  '▁기회',\n",
       "  '(',\n",
       "  '대',\n",
       "  '안',\n",
       "  ')와',\n",
       "  '▁후',\n",
       "  '회,',\n",
       "  '▁정상',\n",
       "  '(',\n",
       "  'n',\n",
       "  'or',\n",
       "  'm',\n",
       "  ')과',\n",
       "  '▁후',\n",
       "  '회,',\n",
       "  '▁후',\n",
       "  '회의',\n",
       "  '▁기능',\n",
       "  '이라는',\n",
       "  '▁3가지',\n",
       "  '▁영역을',\n",
       "  '검토',\n",
       "  '하면서,',\n",
       "  '▁교사',\n",
       "  '▁후회',\n",
       "  '▁현상은',\n",
       "  '▁다양한',\n",
       "  '▁변',\n",
       "  '인의',\n",
       "  '▁영향을',\n",
       "  '▁받을',\n",
       "  '▁수',\n",
       "  '▁있음을',\n",
       "  '▁지적',\n",
       "  '하고',\n",
       "  '▁관련',\n",
       "  '▁정책',\n",
       "  '적',\n",
       "  '▁시사',\n",
       "  '점',\n",
       "  '도',\n",
       "  '▁아울러',\n",
       "  '▁모색',\n",
       "  '하였다.',\n",
       "  '▁특히,',\n",
       "  '▁교사',\n",
       "  '▁후',\n",
       "  '회는',\n",
       "  '▁교',\n",
       "  '직',\n",
       "  '▁선택',\n",
       "  '동',\n",
       "  '기에',\n",
       "  '▁관한',\n",
       "  '▁연구',\n",
       "  ',',\n",
       "  '▁교',\n",
       "  '직을',\n",
       "  '▁선택한',\n",
       "  '▁시기에',\n",
       "  '▁관한',\n",
       "  '▁조사',\n",
       "  ',',\n",
       "  '▁교',\n",
       "  '직',\n",
       "  '▁선택',\n",
       "  '이',\n",
       "  '▁당연한',\n",
       "  '▁집',\n",
       "  '단이',\n",
       "  '▁가진',\n",
       "  '▁특',\n",
       "  '성,',\n",
       "  '▁후',\n",
       "  '회를',\n",
       "  '▁감소',\n",
       "  '시키기',\n",
       "  '▁위한',\n",
       "  '▁교',\n",
       "  '사의',\n",
       "  '▁교',\n",
       "  '직',\n",
       "  '▁행동',\n",
       "  '▁등과',\n",
       "  '▁관련',\n",
       "  '지어',\n",
       "  '새',\n",
       "  '롭게',\n",
       "  '▁해석',\n",
       "  '될',\n",
       "  '▁수',\n",
       "  '▁있음을',\n",
       "  '▁보여주',\n",
       "  '었다.',\n",
       "  '▁앞으로',\n",
       "  '▁후회',\n",
       "  '▁감',\n",
       "  '정에',\n",
       "  '▁관련된',\n",
       "  '▁심리적',\n",
       "  '▁비교',\n",
       "  '에서',\n",
       "  '▁고려',\n",
       "  '되는',\n",
       "  '▁요',\n",
       "  '소,',\n",
       "  '▁행위',\n",
       "  '/',\n",
       "  '비',\n",
       "  '행위',\n",
       "  '▁사이',\n",
       "  '▁차',\n",
       "  '이,',\n",
       "  '▁후',\n",
       "  '회에',\n",
       "  '▁관련된',\n",
       "  '▁심리적',\n",
       "  '▁처',\n",
       "  '리의',\n",
       "  '휴',\n",
       "  '리스',\n",
       "  '틱',\n",
       "  '과',\n",
       "  '▁편',\n",
       "  '향',\n",
       "  '▁등',\n",
       "  '▁후속',\n",
       "  '▁연구',\n",
       "  '가',\n",
       "  '▁적절',\n",
       "  '히',\n",
       "  '▁이루어',\n",
       "  '질',\n",
       "  '▁때',\n",
       "  '▁교사',\n",
       "  '▁후회',\n",
       "  '▁현',\n",
       "  '상에',\n",
       "  '▁대한',\n",
       "  '제',\n",
       "  '대로',\n",
       "  '▁된',\n",
       "  '▁해석',\n",
       "  '이',\n",
       "  '▁가능',\n",
       "  '하고,',\n",
       "  '▁교사',\n",
       "  '▁후회',\n",
       "  '▁현상을',\n",
       "  '▁바탕으로',\n",
       "  '▁한',\n",
       "  '▁정책',\n",
       "  '▁개발',\n",
       "  '▁및',\n",
       "  '▁평가',\n",
       "  '도',\n",
       "  '▁타당',\n",
       "  '하게',\n",
       "  '▁이루어',\n",
       "  '질',\n",
       "  '▁수',\n",
       "  '▁있을',\n",
       "  '▁것이다.'],\n",
       " ['▁본',\n",
       "  '▁논',\n",
       "  '문은',\n",
       "  '▁경제',\n",
       "  '협력',\n",
       "  '개발',\n",
       "  '기',\n",
       "  '구가',\n",
       "  '▁실시한',\n",
       "  '▁교수',\n",
       "  '-',\n",
       "  '▁학습',\n",
       "  '▁국제',\n",
       "  '조사',\n",
       "  '▁가운데',\n",
       "  '▁교',\n",
       "  '직',\n",
       "  '▁선택',\n",
       "  '에',\n",
       "  '▁대한',\n",
       "  '▁교사',\n",
       "  '▁후',\n",
       "  '회에',\n",
       "  '▁대한',\n",
       "  '▁조사를',\n",
       "  '▁연구',\n",
       "  '의',\n",
       "  '▁출발',\n",
       "  '점으로',\n",
       "  '▁하였',\n",
       "  '다.',\n",
       "  '▁한국의',\n",
       "  '▁경우',\n",
       "  '▁중학교',\n",
       "  '▁교',\n",
       "  '사가',\n",
       "  '▁참여한',\n",
       "  '▁이',\n",
       "  '▁조사에서',\n",
       "  '▁응답',\n",
       "  '▁교',\n",
       "  '사의',\n",
       "  '▁20',\n",
       "  '.1',\n",
       "  '%가',\n",
       "  '▁교',\n",
       "  '사가',\n",
       "  '▁된',\n",
       "  '▁것을',\n",
       "  '▁후회',\n",
       "  '한다는',\n",
       "  '▁결과가',\n",
       "  '▁나와',\n",
       "  '▁사회적',\n",
       "  '▁관심을',\n",
       "  '▁받았',\n",
       "  '다.'])"
      ]
     },
     "execution_count": 30,
     "metadata": {},
     "output_type": "execute_result"
    }
   ],
   "source": [
    "dataset[0]"
   ]
  },
  {
   "cell_type": "code",
   "execution_count": 24,
   "id": "2c36db73",
   "metadata": {},
   "outputs": [
    {
     "name": "stdout",
     "output_type": "stream",
     "text": [
      "huggingface/tokenizers: The current process just got forked, after parallelism has already been used. Disabling parallelism to avoid deadlocks...\n",
      "To disable this warning, you can either:\n",
      "\t- Avoid using `tokenizers` before the fork if possible\n",
      "\t- Explicitly set the environment variable TOKENIZERS_PARALLELISM=(true | false)\n"
     ]
    }
   ],
   "source": [
    "import seaborn as sns\n",
    "import matplotlib.pyplot as plt"
   ]
  },
  {
   "cell_type": "code",
   "execution_count": 25,
   "id": "dc6a4c83",
   "metadata": {},
   "outputs": [
    {
     "name": "stdout",
     "output_type": "stream",
     "text": [
      "Token Distribution : 3 ~ 2310\n",
      "Token Distribution Mean : 292.326\n",
      "\n",
      "Variance : 0.18 \n",
      "Standard Devidation: 0.42\n",
      "\n",
      "95% Confidence Interval : 245.94 ~ 290.26\n",
      "99% Confidence Interval : 239.58 ~ 297.96\n"
     ]
    },
    {
     "data": {
      "image/png": "[encoded data removed]",
      "text/plain": [
       "<Figure size 1152x576 with 1 Axes>"
      ]
     },
     "metadata": {
      "needs_background": "light"
     },
     "output_type": "display_data"
    }
   ],
   "source": [
    "import scipy.stats as stats\n",
    "\n",
    "plt.rcParams[\"figure.figsize\"] = (16,8)\n",
    "\n",
    "log_tok_dist = np.log1p(paper_token_dist)\n",
    "\n",
    "log_token_max = np.max(log_tok_dist)\n",
    "log_token_min = np.min(log_tok_dist)\n",
    "\n",
    "log_token_var = np.var(log_tok_dist)\n",
    "log_token_std = np.std(log_tok_dist)\n",
    "log_token_mean = np.mean(log_tok_dist)\n",
    "\n",
    "print(\"Token Distribution : {} ~ {}\".format(min(paper_token_dist), max(paper_token_dist)))\n",
    "print(\"Token Distribution Mean : {:.3f}\\n\".format(np.mean(paper_token_dist)))\n",
    "print(\"Variance : {:.2f} \\nStandard Devidation: {:.2f}\\n\".format(log_token_var, log_token_std))\n",
    "\n",
    "x = sorted(log_tok_dist)\n",
    "norm_dist = stats.norm(log_token_mean, log_token_std)\n",
    "\n",
    "log_L_95 = log_token_mean - 1.96*(log_token_std/np.sqrt(100))\n",
    "log_U_95 = log_token_mean + 1.96*(log_token_std/np.sqrt(100))\n",
    "print(\"95% Confidence Interval : {:.2f} ~ {:.2f}\".format(np.expm1(log_L_95), np.expm1(log_U_95)))\n",
    "\n",
    "log_L_99 = log_token_mean - 2.58*(log_token_std/np.sqrt(100))\n",
    "log_U_99 = log_token_mean + 2.58*(log_token_std/np.sqrt(100))\n",
    "print(\"99% Confidence Interval : {:.2f} ~ {:.2f}\".format(np.expm1(log_L_99), np.expm1(log_U_99)))\n",
    "\n",
    "pdf_line, = plt.plot(x, norm_dist.pdf(x), color='steelblue', linewidth=2)\n",
    "\n",
    "mean_line = plt.axvline(x=log_token_mean, color='dimgray', linewidth=1)\n",
    "\n",
    "plt.axvline(log_L_95, color='r', linestyle='--', linewidth=1)\n",
    "plt.axvline(log_U_95, color='r', linestyle='--', linewidth=1)\n",
    "\n",
    "plt.axvline(log_L_99, color='g', linestyle='--', linewidth=1)\n",
    "plt.axvline(log_U_99, color='g', linestyle='--', linewidth=1)\n",
    "\n",
    "# plt.text(log_L_95-.1,.5,\"{}\".format(int(np.exp(log_L_95))), rotation=0)\n",
    "# plt.text(log_U_95,.5,\"{}\".format(int(np.exp(log_U_95))), rotation=0)\n",
    "# plt.text(log_token_mean +.02, .27,\"{}\".format(int(np.exp(log_token_mean))), rotation=0)\n",
    "\n",
    "step = 0.01\n",
    "plt.fill_between(np.arange(log_token_min, log_L_99, step=step).tolist(), \n",
    "                 [norm_dist.pdf(i) for i in np.arange(log_token_min , log_L_99, step=step)], alpha=0.5, color='steelblue') \n",
    "\n",
    "confidence_99_area = plt.fill_between(np.arange(log_L_99 , log_L_95, step=step).tolist(), \n",
    "                 [norm_dist.pdf(i) for i in np.arange(log_L_99 , log_L_95, step=step)], alpha=0.5, color='chartreuse')\n",
    "\n",
    "confidence_area = plt.fill_between(np.arange(log_L_95 , log_U_95, step=step).tolist(), \n",
    "                 [norm_dist.pdf(i) for i in np.arange(log_L_95 , log_U_95, step=step)], alpha=0.5, color='lightcoral')\n",
    "\n",
    "confidence_99_area = plt.fill_between(np.arange(log_U_95 , log_U_99, step=step).tolist(), \n",
    "                 [norm_dist.pdf(i) for i in np.arange(log_U_95 , log_U_99, step=step)], alpha=0.5, color='chartreuse')\n",
    "\n",
    "plt.fill_between(np.arange(log_U_99 , log_token_max, step=step).tolist(), \n",
    "                 [norm_dist.pdf(i) for i in np.arange(log_U_99 , log_token_max, step=step)], alpha=0.5, color='steelblue') \n",
    "\n",
    "x_range = np.arange(log_token_min, log_token_max, step=log_token_max / 10).tolist()\n",
    "x_range.sort()\n",
    "\n",
    "plt.title(\"Input Sequence Length Distribution\", fontsize=15)\n",
    "\n",
    "plt.xticks(x_range, \\\n",
    "           [\"{}\".format(int(np.expm1(x))) for x in x_range])\n",
    "\n",
    "y_range = np.arange(np.min(norm_dist.pdf(x)), np.max(norm_dist.pdf(x)), step=np.max(norm_dist.pdf(x)) / 10).tolist()\n",
    "\n",
    "plt.yticks(y_range, \\\n",
    "           [\"{:.3f}\".format(np.expm1(y)) for y in y_range])\n",
    "plt.xlabel('Input Sequence Length', fontsize=13)\n",
    "plt.ylabel('Probability Density', fontsize=13)\n",
    "\n",
    "plt.legend(handles=(pdf_line, mean_line, confidence_area, confidence_99_area), \n",
    "           labels=('PDF', \"Mean\", \"95% Confidence Interval\", \"99% Confidence Interval\"))\n",
    "\n",
    "\n",
    "plt.show()"
   ]
  },
  {
   "cell_type": "markdown",
   "id": "e8c35632",
   "metadata": {},
   "source": [
    "token 분포에 따라 데이터 정제  "
   ]
  },
  {
   "cell_type": "code",
   "execution_count": 26,
   "id": "4b60ed89",
   "metadata": {},
   "outputs": [
    {
     "data": {
      "text/plain": [
       "162341"
      ]
     },
     "execution_count": 26,
     "metadata": {},
     "output_type": "execute_result"
    }
   ],
   "source": [
    "len(dataset)"
   ]
  },
  {
   "cell_type": "code",
   "execution_count": 27,
   "id": "ba2cf217",
   "metadata": {},
   "outputs": [
    {
     "data": {
      "text/plain": [
       "64409"
      ]
     },
     "execution_count": 27,
     "metadata": {},
     "output_type": "execute_result"
    }
   ],
   "source": [
    "refined_dataset = [data for data in dataset if len(data[-2]) >= 200 and len(data[-2]) < 300]\n",
    "len(refined_dataset)"
   ]
  },
  {
   "cell_type": "code",
   "execution_count": 28,
   "id": "7a80b345",
   "metadata": {},
   "outputs": [],
   "source": [
    "import pandas as pd\n",
    "refined_dataframe = pd.DataFrame(columns=['paper_id', 'content', 'summary', 'paper_token', 'summary_token'])\n",
    "\n",
    "for data in refined_dataset:\n",
    "    dic = {'paper_id' : data[0],\n",
    "           'content' : data[1],\n",
    "           'summary' : data[2],\n",
    "           'paper_token' : data[3],\n",
    "           'summary_token' : data[4]\n",
    "          }\n",
    "    refined_dataframe = refined_dataframe.append(dic, ignore_index=True)\n",
    "    "
   ]
  },
  {
   "cell_type": "code",
   "execution_count": 29,
   "id": "91dbefb1",
   "metadata": {},
   "outputs": [
    {
     "data": {
      "text/html": [
       "<div>\n",
       "<style scoped>\n",
       "    .dataframe tbody tr th:only-of-type {\n",
       "        vertical-align: middle;\n",
       "    }\n",
       "\n",
       "    .dataframe tbody tr th {\n",
       "        vertical-align: top;\n",
       "    }\n",
       "\n",
       "    .dataframe thead th {\n",
       "        text-align: right;\n",
       "    }\n",
       "</style>\n",
       "<table border=\"1\" class=\"dataframe\">\n",
       "  <thead>\n",
       "    <tr style=\"text-align: right;\">\n",
       "      <th></th>\n",
       "      <th>paper_id</th>\n",
       "      <th>content</th>\n",
       "      <th>summary</th>\n",
       "      <th>paper_token</th>\n",
       "      <th>summary_token</th>\n",
       "    </tr>\n",
       "  </thead>\n",
       "  <tbody>\n",
       "    <tr>\n",
       "      <th>0</th>\n",
       "      <td>ART002387009</td>\n",
       "      <td>[본 연구는 박근혜 정부에서 추진되었던 한국사교과서 국정화에 대한 정책변동에 대한 ...</td>\n",
       "      <td>[본 논문은 박근혜 정부에서 추진되었던 한국사교과서 국정화에 대한 정책변동에 관한 ...</td>\n",
       "      <td>[▁본, ▁연구, 는, ▁박근혜, ▁정부에서, ▁추진, 되었던, ▁한국, 사, 교과...</td>\n",
       "      <td>[▁본, ▁논, 문은, ▁박근혜, ▁정부에서, ▁추진, 되었던, ▁한국, 사, 교과...</td>\n",
       "    </tr>\n",
       "    <tr>\n",
       "      <th>1</th>\n",
       "      <td>ART002387007</td>\n",
       "      <td>[본 연구는 고등학생들의 바른 인성함양을 위한 긍정적 태도 형성 프로그램의 효과를 ...</td>\n",
       "      <td>[본 논문은 고등학생들의 바른 인성함양을 위한 긍정적 태도 형성 프로그램의 효과를 ...</td>\n",
       "      <td>[▁본, ▁연구, 는, ▁고등학생, 들의, ▁바른, ▁인, 성, 함, 양을, ▁위한...</td>\n",
       "      <td>[▁본, ▁논, 문은, ▁고등학생, 들의, ▁바른, ▁인, 성, 함, 양을, ▁위한...</td>\n",
       "    </tr>\n",
       "    <tr>\n",
       "      <th>2</th>\n",
       "      <td>ART002389321</td>\n",
       "      <td>[새로 도입된 피지컬컴퓨팅 교육을 통해 학생들이 창의적으로 문제를 해결하거나 다양한...</td>\n",
       "      <td>[본 논문은 초·중등 학생들의 창의적 문제해결을 위한 피지컬컴퓨팅 수업 설계원리를 ...</td>\n",
       "      <td>[▁새로, ▁도입, 된, ▁피, 지, 컬, 컴, 퓨, 팅, ▁교육을, ▁통해, ▁학...</td>\n",
       "      <td>[▁본, ▁논, 문은, ▁초·중, 등, ▁학생들의, ▁창의, 적, ▁문제, 해, 결...</td>\n",
       "    </tr>\n",
       "    <tr>\n",
       "      <th>3</th>\n",
       "      <td>ART002387469</td>\n",
       "      <td>[본 연구에서는 자아고갈 상태에서 냉압과제 수행동기가 통증반응(인내, 강도, 불쾌감...</td>\n",
       "      <td>[본 논문은 자아고갈 상태에서 냉압과제 수행동기가 통증반응에 미치는 영향을 검증하였...</td>\n",
       "      <td>[▁본, ▁연구, 에서는, ▁자아, 고, 갈, ▁상태에서, ▁냉, 압, 과제, ▁수...</td>\n",
       "      <td>[▁본, ▁논, 문은, ▁자아, 고, 갈, ▁상태에서, ▁냉, 압, 과제, ▁수행,...</td>\n",
       "    </tr>\n",
       "    <tr>\n",
       "      <th>4</th>\n",
       "      <td>ART002387478</td>\n",
       "      <td>[본 연구는 외상 후 성장 이론을 바탕으로 침습적 반추, 정서조절방략 그리고 의도적...</td>\n",
       "      <td>[본 논문은 외상 후 성장 이론을 바탕으로 침습적 반추, 정서조절방략, 의도적 반추...</td>\n",
       "      <td>[▁본, ▁연구, 는, ▁외, 상, ▁후, ▁성장, ▁이, 론을, ▁바탕으로, ▁침...</td>\n",
       "      <td>[▁본, ▁논, 문은, ▁외, 상, ▁후, ▁성장, ▁이, 론을, ▁바탕으로, ▁침...</td>\n",
       "    </tr>\n",
       "    <tr>\n",
       "      <th>...</th>\n",
       "      <td>...</td>\n",
       "      <td>...</td>\n",
       "      <td>...</td>\n",
       "      <td>...</td>\n",
       "      <td>...</td>\n",
       "    </tr>\n",
       "    <tr>\n",
       "      <th>64404</th>\n",
       "      <td>ART9001922702</td>\n",
       "      <td>[휴대전화 전자파의 인체 유해성에 대한 국내외 관심이 고조됨에 따라, 우리 정부는 ...</td>\n",
       "      <td>[휴대전화 전자파의 인체 유해성에 대한 국내외 관심이 고조됨에 따라, 우리 정부는 ...</td>\n",
       "      <td>[▁휴대전화, ▁전자, 파의, ▁인, 체, ▁유해, 성에, ▁대한, ▁국내외, ▁관...</td>\n",
       "      <td>[▁휴대전화, ▁전자, 파의, ▁인, 체, ▁유해, 성에, ▁대한, ▁국내외, ▁관...</td>\n",
       "    </tr>\n",
       "    <tr>\n",
       "      <th>64405</th>\n",
       "      <td>ART9001922913</td>\n",
       "      <td>[한나라를 건국한 고조 역시 무력으로 천하를 얻었기 때문에 무력에 의한 통치를 중시...</td>\n",
       "      <td>[한나라를 건국한 고조 역시 무력으로 천하를 얻었기에 무력에 의한 통치를 중시하고 ...</td>\n",
       "      <td>[▁한나라, 를, ▁건국, 한, ▁고조, ▁역시, ▁무, 력으로, ▁천, 하를, ▁...</td>\n",
       "      <td>[▁한나라, 를, ▁건국, 한, ▁고조, ▁역시, ▁무, 력으로, ▁천, 하를, ▁...</td>\n",
       "    </tr>\n",
       "    <tr>\n",
       "      <th>64406</th>\n",
       "      <td>ART9001922914</td>\n",
       "      <td>[현존하는 最古/最高의 한국 역사서 『三國史記』와 『三國遺事』에 대해 대립적으로 이...</td>\n",
       "      <td>[현존하는 最古/最高의 한국 역사서 『三國史記』와 『三國遺事』에 대해 대립적으로 이...</td>\n",
       "      <td>[▁현, 존, 하는, ▁, 最, 古, /, 最, 高, 의, ▁한국, ▁역사, 서, ...</td>\n",
       "      <td>[▁현, 존, 하는, ▁, 最, 古, /, 最, 高, 의, ▁한국, ▁역사, 서, ...</td>\n",
       "    </tr>\n",
       "    <tr>\n",
       "      <th>64407</th>\n",
       "      <td>ART9001922917</td>\n",
       "      <td>[강(江)의 흐름은 시간과 공간을 초월하며, 강과 강 주변에 다양한 문화현상들을 형...</td>\n",
       "      <td>[본 논문에서는 홍천강 인근지역에 전승하는 ‘이괄설화’를 대상으로 했다., 이괄은 ...</td>\n",
       "      <td>[▁강, (, 江, )의, ▁흐름, 은, ▁시간과, ▁공간을, ▁초월, 하며,, ▁...</td>\n",
       "      <td>[▁본, ▁논문, 에서는, ▁홍, 천, 강, ▁인근, 지역에, ▁전, 승, 하는, ...</td>\n",
       "    </tr>\n",
       "    <tr>\n",
       "      <th>64408</th>\n",
       "      <td>ART9001922918</td>\n",
       "      <td>[본고는 예체능 계열 학생들을 위한 대학 글쓰기 교육의 방법을 모색하고자 시도되었다...</td>\n",
       "      <td>[이 논문은 예체능 계열 학생들을 위한 대학 글쓰기 교육의 방법을 모색하고자 시도됐...</td>\n",
       "      <td>[▁본, 고는, ▁예, 체, 능, ▁계열, ▁학생들을, ▁위한, ▁대학, ▁글쓰, ...</td>\n",
       "      <td>[▁이, ▁논, 문은, ▁예, 체, 능, ▁계열, ▁학생들을, ▁위한, ▁대학, ▁...</td>\n",
       "    </tr>\n",
       "  </tbody>\n",
       "</table>\n",
       "<p>64409 rows × 5 columns</p>\n",
       "</div>"
      ],
      "text/plain": [
       "            paper_id                                            content  \\\n",
       "0       ART002387009  [본 연구는 박근혜 정부에서 추진되었던 한국사교과서 국정화에 대한 정책변동에 대한 ...   \n",
       "1       ART002387007  [본 연구는 고등학생들의 바른 인성함양을 위한 긍정적 태도 형성 프로그램의 효과를 ...   \n",
       "2       ART002389321  [새로 도입된 피지컬컴퓨팅 교육을 통해 학생들이 창의적으로 문제를 해결하거나 다양한...   \n",
       "3       ART002387469  [본 연구에서는 자아고갈 상태에서 냉압과제 수행동기가 통증반응(인내, 강도, 불쾌감...   \n",
       "4       ART002387478  [본 연구는 외상 후 성장 이론을 바탕으로 침습적 반추, 정서조절방략 그리고 의도적...   \n",
       "...              ...                                                ...   \n",
       "64404  ART9001922702  [휴대전화 전자파의 인체 유해성에 대한 국내외 관심이 고조됨에 따라, 우리 정부는 ...   \n",
       "64405  ART9001922913  [한나라를 건국한 고조 역시 무력으로 천하를 얻었기 때문에 무력에 의한 통치를 중시...   \n",
       "64406  ART9001922914  [현존하는 最古/最高의 한국 역사서 『三國史記』와 『三國遺事』에 대해 대립적으로 이...   \n",
       "64407  ART9001922917  [강(江)의 흐름은 시간과 공간을 초월하며, 강과 강 주변에 다양한 문화현상들을 형...   \n",
       "64408  ART9001922918  [본고는 예체능 계열 학생들을 위한 대학 글쓰기 교육의 방법을 모색하고자 시도되었다...   \n",
       "\n",
       "                                                 summary  \\\n",
       "0      [본 논문은 박근혜 정부에서 추진되었던 한국사교과서 국정화에 대한 정책변동에 관한 ...   \n",
       "1      [본 논문은 고등학생들의 바른 인성함양을 위한 긍정적 태도 형성 프로그램의 효과를 ...   \n",
       "2      [본 논문은 초·중등 학생들의 창의적 문제해결을 위한 피지컬컴퓨팅 수업 설계원리를 ...   \n",
       "3      [본 논문은 자아고갈 상태에서 냉압과제 수행동기가 통증반응에 미치는 영향을 검증하였...   \n",
       "4      [본 논문은 외상 후 성장 이론을 바탕으로 침습적 반추, 정서조절방략, 의도적 반추...   \n",
       "...                                                  ...   \n",
       "64404  [휴대전화 전자파의 인체 유해성에 대한 국내외 관심이 고조됨에 따라, 우리 정부는 ...   \n",
       "64405  [한나라를 건국한 고조 역시 무력으로 천하를 얻었기에 무력에 의한 통치를 중시하고 ...   \n",
       "64406  [현존하는 最古/最高의 한국 역사서 『三國史記』와 『三國遺事』에 대해 대립적으로 이...   \n",
       "64407  [본 논문에서는 홍천강 인근지역에 전승하는 ‘이괄설화’를 대상으로 했다., 이괄은 ...   \n",
       "64408  [이 논문은 예체능 계열 학생들을 위한 대학 글쓰기 교육의 방법을 모색하고자 시도됐...   \n",
       "\n",
       "                                             paper_token  \\\n",
       "0      [▁본, ▁연구, 는, ▁박근혜, ▁정부에서, ▁추진, 되었던, ▁한국, 사, 교과...   \n",
       "1      [▁본, ▁연구, 는, ▁고등학생, 들의, ▁바른, ▁인, 성, 함, 양을, ▁위한...   \n",
       "2      [▁새로, ▁도입, 된, ▁피, 지, 컬, 컴, 퓨, 팅, ▁교육을, ▁통해, ▁학...   \n",
       "3      [▁본, ▁연구, 에서는, ▁자아, 고, 갈, ▁상태에서, ▁냉, 압, 과제, ▁수...   \n",
       "4      [▁본, ▁연구, 는, ▁외, 상, ▁후, ▁성장, ▁이, 론을, ▁바탕으로, ▁침...   \n",
       "...                                                  ...   \n",
       "64404  [▁휴대전화, ▁전자, 파의, ▁인, 체, ▁유해, 성에, ▁대한, ▁국내외, ▁관...   \n",
       "64405  [▁한나라, 를, ▁건국, 한, ▁고조, ▁역시, ▁무, 력으로, ▁천, 하를, ▁...   \n",
       "64406  [▁현, 존, 하는, ▁, 最, 古, /, 最, 高, 의, ▁한국, ▁역사, 서, ...   \n",
       "64407  [▁강, (, 江, )의, ▁흐름, 은, ▁시간과, ▁공간을, ▁초월, 하며,, ▁...   \n",
       "64408  [▁본, 고는, ▁예, 체, 능, ▁계열, ▁학생들을, ▁위한, ▁대학, ▁글쓰, ...   \n",
       "\n",
       "                                           summary_token  \n",
       "0      [▁본, ▁논, 문은, ▁박근혜, ▁정부에서, ▁추진, 되었던, ▁한국, 사, 교과...  \n",
       "1      [▁본, ▁논, 문은, ▁고등학생, 들의, ▁바른, ▁인, 성, 함, 양을, ▁위한...  \n",
       "2      [▁본, ▁논, 문은, ▁초·중, 등, ▁학생들의, ▁창의, 적, ▁문제, 해, 결...  \n",
       "3      [▁본, ▁논, 문은, ▁자아, 고, 갈, ▁상태에서, ▁냉, 압, 과제, ▁수행,...  \n",
       "4      [▁본, ▁논, 문은, ▁외, 상, ▁후, ▁성장, ▁이, 론을, ▁바탕으로, ▁침...  \n",
       "...                                                  ...  \n",
       "64404  [▁휴대전화, ▁전자, 파의, ▁인, 체, ▁유해, 성에, ▁대한, ▁국내외, ▁관...  \n",
       "64405  [▁한나라, 를, ▁건국, 한, ▁고조, ▁역시, ▁무, 력으로, ▁천, 하를, ▁...  \n",
       "64406  [▁현, 존, 하는, ▁, 最, 古, /, 最, 高, 의, ▁한국, ▁역사, 서, ...  \n",
       "64407  [▁본, ▁논문, 에서는, ▁홍, 천, 강, ▁인근, 지역에, ▁전, 승, 하는, ...  \n",
       "64408  [▁이, ▁논, 문은, ▁예, 체, 능, ▁계열, ▁학생들을, ▁위한, ▁대학, ▁...  \n",
       "\n",
       "[64409 rows x 5 columns]"
      ]
     },
     "execution_count": 29,
     "metadata": {},
     "output_type": "execute_result"
    }
   ],
   "source": [
    "refined_dataframe\n"
   ]
  },
  {
   "cell_type": "code",
   "execution_count": 31,
   "id": "d996adc1",
   "metadata": {},
   "outputs": [],
   "source": [
    "refined_train_dataset = refined_dataframe[:38645]"
   ]
  },
  {
   "cell_type": "code",
   "execution_count": 32,
   "id": "f1ac5667",
   "metadata": {},
   "outputs": [
    {
     "data": {
      "text/html": [
       "<div>\n",
       "<style scoped>\n",
       "    .dataframe tbody tr th:only-of-type {\n",
       "        vertical-align: middle;\n",
       "    }\n",
       "\n",
       "    .dataframe tbody tr th {\n",
       "        vertical-align: top;\n",
       "    }\n",
       "\n",
       "    .dataframe thead th {\n",
       "        text-align: right;\n",
       "    }\n",
       "</style>\n",
       "<table border=\"1\" class=\"dataframe\">\n",
       "  <thead>\n",
       "    <tr style=\"text-align: right;\">\n",
       "      <th></th>\n",
       "      <th>paper_id</th>\n",
       "      <th>content</th>\n",
       "      <th>summary</th>\n",
       "      <th>paper_token</th>\n",
       "      <th>summary_token</th>\n",
       "    </tr>\n",
       "  </thead>\n",
       "  <tbody>\n",
       "    <tr>\n",
       "      <th>38645</th>\n",
       "      <td>ART9001546699</td>\n",
       "      <td>[기존의 FPGA기반 DES 전수조사 시스템은 비용대비 높은 성능을 가지고 있으나,...</td>\n",
       "      <td>[본고에서는 77개 Xilinx Virtex5-, LX50 FPGA로 구성된 상용 ...</td>\n",
       "      <td>[▁기존의, ▁F, PGA, 기반, ▁D, ES, ▁전수, 조사, ▁시스템, 은, ...</td>\n",
       "      <td>[▁본, 고, 에서는, ▁77, 개, ▁X, il, in, x, ▁V, ir, t,...</td>\n",
       "    </tr>\n",
       "    <tr>\n",
       "      <th>38646</th>\n",
       "      <td>ART9001546704</td>\n",
       "      <td>[전력 분석 공격이 소개되면서 다양한 대응법들이 제안되었고 그러한 대응법들 중 블록...</td>\n",
       "      <td>[본고에서는 이러한 단점을 보완하기 위해 마스킹 S-, box 테이블을 사용하지 않...</td>\n",
       "      <td>[▁전력, ▁분석, ▁공격, 이, ▁소개, 되면서, ▁다양한, ▁대응, 법, 들이,...</td>\n",
       "      <td>[▁본, 고, 에서는, ▁이러한, ▁단, 점을, ▁보완, 하기, ▁위해, ▁마, 스...</td>\n",
       "    </tr>\n",
       "    <tr>\n",
       "      <th>38647</th>\n",
       "      <td>ART9001546960</td>\n",
       "      <td>[폐광산에서는 지반침하 붕괴, 수질오염, 산림훼손 토양오염 등 지속적인 환경오염이 ...</td>\n",
       "      <td>[본 연구에서는 다양한 유형의 광해를 종합적으로 고려하여 광해방지사업의 편익을 산정...</td>\n",
       "      <td>[▁폐, 광, 산, 에서는, ▁지, 반, 침, 하, ▁붕괴, ,, ▁수질, 오염, ...</td>\n",
       "      <td>[▁본, ▁연구, 에서는, ▁다양한, ▁유형, 의, ▁광, 해를, ▁종합적으로, ▁...</td>\n",
       "    </tr>\n",
       "    <tr>\n",
       "      <th>38648</th>\n",
       "      <td>ART9001546980</td>\n",
       "      <td>[본 연구에서는 광미층 상단에 강우침투 최소화, 산성침출수 발생억제와 황화광물 산화...</td>\n",
       "      <td>[이 연구에서는 광미층 상단에 강우침투 최소화, 산성침출수 발생억제와 황화광물 산화...</td>\n",
       "      <td>[▁본, ▁연구, 에서는, ▁광, 미, 층, ▁상, 단에, ▁강, 우, 침, 투, ...</td>\n",
       "      <td>[▁이, ▁연구, 에서는, ▁광, 미, 층, ▁상, 단에, ▁강, 우, 침, 투, ...</td>\n",
       "    </tr>\n",
       "    <tr>\n",
       "      <th>38649</th>\n",
       "      <td>ART9001546985</td>\n",
       "      <td>[본 연구는 광산배수의 지구화학적 특성에 따른 광산배수 내 비소의 제거에 초점을 맞...</td>\n",
       "      <td>[이 연구는 광산배수의 지구화학적 특성에 따른 광산배수 내 비소의 제거에 초점을 맞...</td>\n",
       "      <td>[▁본, ▁연구, 는, ▁광산, 배, 수의, ▁지구, 화, 학적, ▁특, 성에, ▁...</td>\n",
       "      <td>[▁이, ▁연구, 는, ▁광산, 배, 수의, ▁지구, 화, 학적, ▁특, 성에, ▁...</td>\n",
       "    </tr>\n",
       "    <tr>\n",
       "      <th>...</th>\n",
       "      <td>...</td>\n",
       "      <td>...</td>\n",
       "      <td>...</td>\n",
       "      <td>...</td>\n",
       "      <td>...</td>\n",
       "    </tr>\n",
       "    <tr>\n",
       "      <th>51522</th>\n",
       "      <td>ART9001797395</td>\n",
       "      <td>[파종기에 따른 울금의 초장, 경직경 및 엽수는 5월 10일파종구에서 가장 양호하였...</td>\n",
       "      <td>[생육단계에 따른 울금 지하경 무게 변화는 생육기간에경과함에 따라 지하경의 무게 증...</td>\n",
       "      <td>[▁파, 종, 기에, ▁따른, ▁울, 금의, ▁초, 장,, ▁경, 직, 경, ▁및,...</td>\n",
       "      <td>[▁생, 육, 단계, 에, ▁따른, ▁울, 금, ▁지하, 경, ▁무게, ▁변화는, ...</td>\n",
       "    </tr>\n",
       "    <tr>\n",
       "      <th>51523</th>\n",
       "      <td>ART9001797408</td>\n",
       "      <td>[관광 및 공연 등의 문화 사업은 서로 연계되어 발전해 왔고 최근 들어서 국내 K-...</td>\n",
       "      <td>[이 논문은 센서네트워크에서 음성 및 데이터를 동시에 지원하는 TDMA MAC, 센...</td>\n",
       "      <td>[▁관광, ▁및, ▁공연, ▁등의, ▁문화, ▁사업은, ▁서로, ▁연계, 되어, ▁...</td>\n",
       "      <td>[▁이, ▁논, 문은, ▁센, 서, 네트워크, 에서, ▁음성, ▁및, ▁데이터를, ...</td>\n",
       "    </tr>\n",
       "    <tr>\n",
       "      <th>51524</th>\n",
       "      <td>ART9001797412</td>\n",
       "      <td>[독도에 자생하는 벼과(Poaceae) 식물인 돌피(Echinochloa crus-...</td>\n",
       "      <td>[독도의 돌피와 물피를 포함한 조사된두 분류군은 유전자구간에서 동일한 염기서열을 나...</td>\n",
       "      <td>[▁독, 도에, ▁자, 생, 하는, ▁벼, 과, (P, o, ac, ea, e), ...</td>\n",
       "      <td>[▁독, 도의, ▁돌, 피, 와, ▁물, 피를, ▁포함한, ▁조사, 된, 두, ▁분...</td>\n",
       "    </tr>\n",
       "    <tr>\n",
       "      <th>51525</th>\n",
       "      <td>ART9001797424</td>\n",
       "      <td>[본 연구는 남한강 유역의 관속식물을 조사하기 위해 수행되었다., 조사기간은 201...</td>\n",
       "      <td>[이 연구는 남한강 유역의 관속식물을 조사하기 위해 수행되었다., 귀화식물은 58분...</td>\n",
       "      <td>[▁본, ▁연구, 는, ▁남한, 강, ▁유, 역의, ▁관, 속, 식, 물을, ▁조사...</td>\n",
       "      <td>[▁이, ▁연구, 는, ▁남한, 강, ▁유, 역의, ▁관, 속, 식, 물을, ▁조사...</td>\n",
       "    </tr>\n",
       "    <tr>\n",
       "      <th>51526</th>\n",
       "      <td>ART9001797449</td>\n",
       "      <td>[멜론으로부터 체세포배를 얻기 위하여 유식물체의 배축절편을 1 mg/L 2,4-, ...</td>\n",
       "      <td>[배축절편으로부터 연한 노란색의 부드러운 캘러스 형성을 거쳐 형성된 체세포배중에는 ...</td>\n",
       "      <td>[▁멜, 론, 으로부터, ▁체, 세포, 배를, ▁얻기, ▁위하여, ▁유, 식, 물,...</td>\n",
       "      <td>[▁배, 축, 절, 편, 으로부터, ▁연, 한, ▁노란, 색의, ▁부드러운, ▁캘,...</td>\n",
       "    </tr>\n",
       "  </tbody>\n",
       "</table>\n",
       "<p>12882 rows × 5 columns</p>\n",
       "</div>"
      ],
      "text/plain": [
       "            paper_id                                            content  \\\n",
       "38645  ART9001546699  [기존의 FPGA기반 DES 전수조사 시스템은 비용대비 높은 성능을 가지고 있으나,...   \n",
       "38646  ART9001546704  [전력 분석 공격이 소개되면서 다양한 대응법들이 제안되었고 그러한 대응법들 중 블록...   \n",
       "38647  ART9001546960  [폐광산에서는 지반침하 붕괴, 수질오염, 산림훼손 토양오염 등 지속적인 환경오염이 ...   \n",
       "38648  ART9001546980  [본 연구에서는 광미층 상단에 강우침투 최소화, 산성침출수 발생억제와 황화광물 산화...   \n",
       "38649  ART9001546985  [본 연구는 광산배수의 지구화학적 특성에 따른 광산배수 내 비소의 제거에 초점을 맞...   \n",
       "...              ...                                                ...   \n",
       "51522  ART9001797395  [파종기에 따른 울금의 초장, 경직경 및 엽수는 5월 10일파종구에서 가장 양호하였...   \n",
       "51523  ART9001797408  [관광 및 공연 등의 문화 사업은 서로 연계되어 발전해 왔고 최근 들어서 국내 K-...   \n",
       "51524  ART9001797412  [독도에 자생하는 벼과(Poaceae) 식물인 돌피(Echinochloa crus-...   \n",
       "51525  ART9001797424  [본 연구는 남한강 유역의 관속식물을 조사하기 위해 수행되었다., 조사기간은 201...   \n",
       "51526  ART9001797449  [멜론으로부터 체세포배를 얻기 위하여 유식물체의 배축절편을 1 mg/L 2,4-, ...   \n",
       "\n",
       "                                                 summary  \\\n",
       "38645  [본고에서는 77개 Xilinx Virtex5-, LX50 FPGA로 구성된 상용 ...   \n",
       "38646  [본고에서는 이러한 단점을 보완하기 위해 마스킹 S-, box 테이블을 사용하지 않...   \n",
       "38647  [본 연구에서는 다양한 유형의 광해를 종합적으로 고려하여 광해방지사업의 편익을 산정...   \n",
       "38648  [이 연구에서는 광미층 상단에 강우침투 최소화, 산성침출수 발생억제와 황화광물 산화...   \n",
       "38649  [이 연구는 광산배수의 지구화학적 특성에 따른 광산배수 내 비소의 제거에 초점을 맞...   \n",
       "...                                                  ...   \n",
       "51522  [생육단계에 따른 울금 지하경 무게 변화는 생육기간에경과함에 따라 지하경의 무게 증...   \n",
       "51523  [이 논문은 센서네트워크에서 음성 및 데이터를 동시에 지원하는 TDMA MAC, 센...   \n",
       "51524  [독도의 돌피와 물피를 포함한 조사된두 분류군은 유전자구간에서 동일한 염기서열을 나...   \n",
       "51525  [이 연구는 남한강 유역의 관속식물을 조사하기 위해 수행되었다., 귀화식물은 58분...   \n",
       "51526  [배축절편으로부터 연한 노란색의 부드러운 캘러스 형성을 거쳐 형성된 체세포배중에는 ...   \n",
       "\n",
       "                                             paper_token  \\\n",
       "38645  [▁기존의, ▁F, PGA, 기반, ▁D, ES, ▁전수, 조사, ▁시스템, 은, ...   \n",
       "38646  [▁전력, ▁분석, ▁공격, 이, ▁소개, 되면서, ▁다양한, ▁대응, 법, 들이,...   \n",
       "38647  [▁폐, 광, 산, 에서는, ▁지, 반, 침, 하, ▁붕괴, ,, ▁수질, 오염, ...   \n",
       "38648  [▁본, ▁연구, 에서는, ▁광, 미, 층, ▁상, 단에, ▁강, 우, 침, 투, ...   \n",
       "38649  [▁본, ▁연구, 는, ▁광산, 배, 수의, ▁지구, 화, 학적, ▁특, 성에, ▁...   \n",
       "...                                                  ...   \n",
       "51522  [▁파, 종, 기에, ▁따른, ▁울, 금의, ▁초, 장,, ▁경, 직, 경, ▁및,...   \n",
       "51523  [▁관광, ▁및, ▁공연, ▁등의, ▁문화, ▁사업은, ▁서로, ▁연계, 되어, ▁...   \n",
       "51524  [▁독, 도에, ▁자, 생, 하는, ▁벼, 과, (P, o, ac, ea, e), ...   \n",
       "51525  [▁본, ▁연구, 는, ▁남한, 강, ▁유, 역의, ▁관, 속, 식, 물을, ▁조사...   \n",
       "51526  [▁멜, 론, 으로부터, ▁체, 세포, 배를, ▁얻기, ▁위하여, ▁유, 식, 물,...   \n",
       "\n",
       "                                           summary_token  \n",
       "38645  [▁본, 고, 에서는, ▁77, 개, ▁X, il, in, x, ▁V, ir, t,...  \n",
       "38646  [▁본, 고, 에서는, ▁이러한, ▁단, 점을, ▁보완, 하기, ▁위해, ▁마, 스...  \n",
       "38647  [▁본, ▁연구, 에서는, ▁다양한, ▁유형, 의, ▁광, 해를, ▁종합적으로, ▁...  \n",
       "38648  [▁이, ▁연구, 에서는, ▁광, 미, 층, ▁상, 단에, ▁강, 우, 침, 투, ...  \n",
       "38649  [▁이, ▁연구, 는, ▁광산, 배, 수의, ▁지구, 화, 학적, ▁특, 성에, ▁...  \n",
       "...                                                  ...  \n",
       "51522  [▁생, 육, 단계, 에, ▁따른, ▁울, 금, ▁지하, 경, ▁무게, ▁변화는, ...  \n",
       "51523  [▁이, ▁논, 문은, ▁센, 서, 네트워크, 에서, ▁음성, ▁및, ▁데이터를, ...  \n",
       "51524  [▁독, 도의, ▁돌, 피, 와, ▁물, 피를, ▁포함한, ▁조사, 된, 두, ▁분...  \n",
       "51525  [▁이, ▁연구, 는, ▁남한, 강, ▁유, 역의, ▁관, 속, 식, 물을, ▁조사...  \n",
       "51526  [▁배, 축, 절, 편, 으로부터, ▁연, 한, ▁노란, 색의, ▁부드러운, ▁캘,...  \n",
       "\n",
       "[12882 rows x 5 columns]"
      ]
     },
     "execution_count": 32,
     "metadata": {},
     "output_type": "execute_result"
    }
   ],
   "source": [
    "refined_val_dataset = refined_dataframe[38645:51527]\n",
    "refined_val_dataset"
   ]
  },
  {
   "cell_type": "code",
   "execution_count": 35,
   "id": "78a7acff",
   "metadata": {},
   "outputs": [
    {
     "data": {
      "text/html": [
       "<div>\n",
       "<style scoped>\n",
       "    .dataframe tbody tr th:only-of-type {\n",
       "        vertical-align: middle;\n",
       "    }\n",
       "\n",
       "    .dataframe tbody tr th {\n",
       "        vertical-align: top;\n",
       "    }\n",
       "\n",
       "    .dataframe thead th {\n",
       "        text-align: right;\n",
       "    }\n",
       "</style>\n",
       "<table border=\"1\" class=\"dataframe\">\n",
       "  <thead>\n",
       "    <tr style=\"text-align: right;\">\n",
       "      <th></th>\n",
       "      <th>paper_id</th>\n",
       "      <th>content</th>\n",
       "      <th>summary</th>\n",
       "      <th>paper_token</th>\n",
       "      <th>summary_token</th>\n",
       "    </tr>\n",
       "  </thead>\n",
       "  <tbody>\n",
       "    <tr>\n",
       "      <th>0</th>\n",
       "      <td>ART002387009</td>\n",
       "      <td>[본 연구는 박근혜 정부에서 추진되었던 한국사교과서 국정화에 대한 정책변동에 대한 ...</td>\n",
       "      <td>[본 논문은 박근혜 정부에서 추진되었던 한국사교과서 국정화에 대한 정책변동에 관한 ...</td>\n",
       "      <td>[▁본, ▁연구, 는, ▁박근혜, ▁정부에서, ▁추진, 되었던, ▁한국, 사, 교과...</td>\n",
       "      <td>[▁본, ▁논, 문은, ▁박근혜, ▁정부에서, ▁추진, 되었던, ▁한국, 사, 교과...</td>\n",
       "    </tr>\n",
       "    <tr>\n",
       "      <th>1</th>\n",
       "      <td>ART002387007</td>\n",
       "      <td>[본 연구는 고등학생들의 바른 인성함양을 위한 긍정적 태도 형성 프로그램의 효과를 ...</td>\n",
       "      <td>[본 논문은 고등학생들의 바른 인성함양을 위한 긍정적 태도 형성 프로그램의 효과를 ...</td>\n",
       "      <td>[▁본, ▁연구, 는, ▁고등학생, 들의, ▁바른, ▁인, 성, 함, 양을, ▁위한...</td>\n",
       "      <td>[▁본, ▁논, 문은, ▁고등학생, 들의, ▁바른, ▁인, 성, 함, 양을, ▁위한...</td>\n",
       "    </tr>\n",
       "    <tr>\n",
       "      <th>2</th>\n",
       "      <td>ART002389321</td>\n",
       "      <td>[새로 도입된 피지컬컴퓨팅 교육을 통해 학생들이 창의적으로 문제를 해결하거나 다양한...</td>\n",
       "      <td>[본 논문은 초·중등 학생들의 창의적 문제해결을 위한 피지컬컴퓨팅 수업 설계원리를 ...</td>\n",
       "      <td>[▁새로, ▁도입, 된, ▁피, 지, 컬, 컴, 퓨, 팅, ▁교육을, ▁통해, ▁학...</td>\n",
       "      <td>[▁본, ▁논, 문은, ▁초·중, 등, ▁학생들의, ▁창의, 적, ▁문제, 해, 결...</td>\n",
       "    </tr>\n",
       "    <tr>\n",
       "      <th>3</th>\n",
       "      <td>ART002387469</td>\n",
       "      <td>[본 연구에서는 자아고갈 상태에서 냉압과제 수행동기가 통증반응(인내, 강도, 불쾌감...</td>\n",
       "      <td>[본 논문은 자아고갈 상태에서 냉압과제 수행동기가 통증반응에 미치는 영향을 검증하였...</td>\n",
       "      <td>[▁본, ▁연구, 에서는, ▁자아, 고, 갈, ▁상태에서, ▁냉, 압, 과제, ▁수...</td>\n",
       "      <td>[▁본, ▁논, 문은, ▁자아, 고, 갈, ▁상태에서, ▁냉, 압, 과제, ▁수행,...</td>\n",
       "    </tr>\n",
       "    <tr>\n",
       "      <th>4</th>\n",
       "      <td>ART002387478</td>\n",
       "      <td>[본 연구는 외상 후 성장 이론을 바탕으로 침습적 반추, 정서조절방략 그리고 의도적...</td>\n",
       "      <td>[본 논문은 외상 후 성장 이론을 바탕으로 침습적 반추, 정서조절방략, 의도적 반추...</td>\n",
       "      <td>[▁본, ▁연구, 는, ▁외, 상, ▁후, ▁성장, ▁이, 론을, ▁바탕으로, ▁침...</td>\n",
       "      <td>[▁본, ▁논, 문은, ▁외, 상, ▁후, ▁성장, ▁이, 론을, ▁바탕으로, ▁침...</td>\n",
       "    </tr>\n",
       "    <tr>\n",
       "      <th>...</th>\n",
       "      <td>...</td>\n",
       "      <td>...</td>\n",
       "      <td>...</td>\n",
       "      <td>...</td>\n",
       "      <td>...</td>\n",
       "    </tr>\n",
       "    <tr>\n",
       "      <th>51522</th>\n",
       "      <td>ART9001797395</td>\n",
       "      <td>[파종기에 따른 울금의 초장, 경직경 및 엽수는 5월 10일파종구에서 가장 양호하였...</td>\n",
       "      <td>[생육단계에 따른 울금 지하경 무게 변화는 생육기간에경과함에 따라 지하경의 무게 증...</td>\n",
       "      <td>[▁파, 종, 기에, ▁따른, ▁울, 금의, ▁초, 장,, ▁경, 직, 경, ▁및,...</td>\n",
       "      <td>[▁생, 육, 단계, 에, ▁따른, ▁울, 금, ▁지하, 경, ▁무게, ▁변화는, ...</td>\n",
       "    </tr>\n",
       "    <tr>\n",
       "      <th>51523</th>\n",
       "      <td>ART9001797408</td>\n",
       "      <td>[관광 및 공연 등의 문화 사업은 서로 연계되어 발전해 왔고 최근 들어서 국내 K-...</td>\n",
       "      <td>[이 논문은 센서네트워크에서 음성 및 데이터를 동시에 지원하는 TDMA MAC, 센...</td>\n",
       "      <td>[▁관광, ▁및, ▁공연, ▁등의, ▁문화, ▁사업은, ▁서로, ▁연계, 되어, ▁...</td>\n",
       "      <td>[▁이, ▁논, 문은, ▁센, 서, 네트워크, 에서, ▁음성, ▁및, ▁데이터를, ...</td>\n",
       "    </tr>\n",
       "    <tr>\n",
       "      <th>51524</th>\n",
       "      <td>ART9001797412</td>\n",
       "      <td>[독도에 자생하는 벼과(Poaceae) 식물인 돌피(Echinochloa crus-...</td>\n",
       "      <td>[독도의 돌피와 물피를 포함한 조사된두 분류군은 유전자구간에서 동일한 염기서열을 나...</td>\n",
       "      <td>[▁독, 도에, ▁자, 생, 하는, ▁벼, 과, (P, o, ac, ea, e), ...</td>\n",
       "      <td>[▁독, 도의, ▁돌, 피, 와, ▁물, 피를, ▁포함한, ▁조사, 된, 두, ▁분...</td>\n",
       "    </tr>\n",
       "    <tr>\n",
       "      <th>51525</th>\n",
       "      <td>ART9001797424</td>\n",
       "      <td>[본 연구는 남한강 유역의 관속식물을 조사하기 위해 수행되었다., 조사기간은 201...</td>\n",
       "      <td>[이 연구는 남한강 유역의 관속식물을 조사하기 위해 수행되었다., 귀화식물은 58분...</td>\n",
       "      <td>[▁본, ▁연구, 는, ▁남한, 강, ▁유, 역의, ▁관, 속, 식, 물을, ▁조사...</td>\n",
       "      <td>[▁이, ▁연구, 는, ▁남한, 강, ▁유, 역의, ▁관, 속, 식, 물을, ▁조사...</td>\n",
       "    </tr>\n",
       "    <tr>\n",
       "      <th>51526</th>\n",
       "      <td>ART9001797449</td>\n",
       "      <td>[멜론으로부터 체세포배를 얻기 위하여 유식물체의 배축절편을 1 mg/L 2,4-, ...</td>\n",
       "      <td>[배축절편으로부터 연한 노란색의 부드러운 캘러스 형성을 거쳐 형성된 체세포배중에는 ...</td>\n",
       "      <td>[▁멜, 론, 으로부터, ▁체, 세포, 배를, ▁얻기, ▁위하여, ▁유, 식, 물,...</td>\n",
       "      <td>[▁배, 축, 절, 편, 으로부터, ▁연, 한, ▁노란, 색의, ▁부드러운, ▁캘,...</td>\n",
       "    </tr>\n",
       "  </tbody>\n",
       "</table>\n",
       "<p>51527 rows × 5 columns</p>\n",
       "</div>"
      ],
      "text/plain": [
       "            paper_id                                            content  \\\n",
       "0       ART002387009  [본 연구는 박근혜 정부에서 추진되었던 한국사교과서 국정화에 대한 정책변동에 대한 ...   \n",
       "1       ART002387007  [본 연구는 고등학생들의 바른 인성함양을 위한 긍정적 태도 형성 프로그램의 효과를 ...   \n",
       "2       ART002389321  [새로 도입된 피지컬컴퓨팅 교육을 통해 학생들이 창의적으로 문제를 해결하거나 다양한...   \n",
       "3       ART002387469  [본 연구에서는 자아고갈 상태에서 냉압과제 수행동기가 통증반응(인내, 강도, 불쾌감...   \n",
       "4       ART002387478  [본 연구는 외상 후 성장 이론을 바탕으로 침습적 반추, 정서조절방략 그리고 의도적...   \n",
       "...              ...                                                ...   \n",
       "51522  ART9001797395  [파종기에 따른 울금의 초장, 경직경 및 엽수는 5월 10일파종구에서 가장 양호하였...   \n",
       "51523  ART9001797408  [관광 및 공연 등의 문화 사업은 서로 연계되어 발전해 왔고 최근 들어서 국내 K-...   \n",
       "51524  ART9001797412  [독도에 자생하는 벼과(Poaceae) 식물인 돌피(Echinochloa crus-...   \n",
       "51525  ART9001797424  [본 연구는 남한강 유역의 관속식물을 조사하기 위해 수행되었다., 조사기간은 201...   \n",
       "51526  ART9001797449  [멜론으로부터 체세포배를 얻기 위하여 유식물체의 배축절편을 1 mg/L 2,4-, ...   \n",
       "\n",
       "                                                 summary  \\\n",
       "0      [본 논문은 박근혜 정부에서 추진되었던 한국사교과서 국정화에 대한 정책변동에 관한 ...   \n",
       "1      [본 논문은 고등학생들의 바른 인성함양을 위한 긍정적 태도 형성 프로그램의 효과를 ...   \n",
       "2      [본 논문은 초·중등 학생들의 창의적 문제해결을 위한 피지컬컴퓨팅 수업 설계원리를 ...   \n",
       "3      [본 논문은 자아고갈 상태에서 냉압과제 수행동기가 통증반응에 미치는 영향을 검증하였...   \n",
       "4      [본 논문은 외상 후 성장 이론을 바탕으로 침습적 반추, 정서조절방략, 의도적 반추...   \n",
       "...                                                  ...   \n",
       "51522  [생육단계에 따른 울금 지하경 무게 변화는 생육기간에경과함에 따라 지하경의 무게 증...   \n",
       "51523  [이 논문은 센서네트워크에서 음성 및 데이터를 동시에 지원하는 TDMA MAC, 센...   \n",
       "51524  [독도의 돌피와 물피를 포함한 조사된두 분류군은 유전자구간에서 동일한 염기서열을 나...   \n",
       "51525  [이 연구는 남한강 유역의 관속식물을 조사하기 위해 수행되었다., 귀화식물은 58분...   \n",
       "51526  [배축절편으로부터 연한 노란색의 부드러운 캘러스 형성을 거쳐 형성된 체세포배중에는 ...   \n",
       "\n",
       "                                             paper_token  \\\n",
       "0      [▁본, ▁연구, 는, ▁박근혜, ▁정부에서, ▁추진, 되었던, ▁한국, 사, 교과...   \n",
       "1      [▁본, ▁연구, 는, ▁고등학생, 들의, ▁바른, ▁인, 성, 함, 양을, ▁위한...   \n",
       "2      [▁새로, ▁도입, 된, ▁피, 지, 컬, 컴, 퓨, 팅, ▁교육을, ▁통해, ▁학...   \n",
       "3      [▁본, ▁연구, 에서는, ▁자아, 고, 갈, ▁상태에서, ▁냉, 압, 과제, ▁수...   \n",
       "4      [▁본, ▁연구, 는, ▁외, 상, ▁후, ▁성장, ▁이, 론을, ▁바탕으로, ▁침...   \n",
       "...                                                  ...   \n",
       "51522  [▁파, 종, 기에, ▁따른, ▁울, 금의, ▁초, 장,, ▁경, 직, 경, ▁및,...   \n",
       "51523  [▁관광, ▁및, ▁공연, ▁등의, ▁문화, ▁사업은, ▁서로, ▁연계, 되어, ▁...   \n",
       "51524  [▁독, 도에, ▁자, 생, 하는, ▁벼, 과, (P, o, ac, ea, e), ...   \n",
       "51525  [▁본, ▁연구, 는, ▁남한, 강, ▁유, 역의, ▁관, 속, 식, 물을, ▁조사...   \n",
       "51526  [▁멜, 론, 으로부터, ▁체, 세포, 배를, ▁얻기, ▁위하여, ▁유, 식, 물,...   \n",
       "\n",
       "                                           summary_token  \n",
       "0      [▁본, ▁논, 문은, ▁박근혜, ▁정부에서, ▁추진, 되었던, ▁한국, 사, 교과...  \n",
       "1      [▁본, ▁논, 문은, ▁고등학생, 들의, ▁바른, ▁인, 성, 함, 양을, ▁위한...  \n",
       "2      [▁본, ▁논, 문은, ▁초·중, 등, ▁학생들의, ▁창의, 적, ▁문제, 해, 결...  \n",
       "3      [▁본, ▁논, 문은, ▁자아, 고, 갈, ▁상태에서, ▁냉, 압, 과제, ▁수행,...  \n",
       "4      [▁본, ▁논, 문은, ▁외, 상, ▁후, ▁성장, ▁이, 론을, ▁바탕으로, ▁침...  \n",
       "...                                                  ...  \n",
       "51522  [▁생, 육, 단계, 에, ▁따른, ▁울, 금, ▁지하, 경, ▁무게, ▁변화는, ...  \n",
       "51523  [▁이, ▁논, 문은, ▁센, 서, 네트워크, 에서, ▁음성, ▁및, ▁데이터를, ...  \n",
       "51524  [▁독, 도의, ▁돌, 피, 와, ▁물, 피를, ▁포함한, ▁조사, 된, 두, ▁분...  \n",
       "51525  [▁이, ▁연구, 는, ▁남한, 강, ▁유, 역의, ▁관, 속, 식, 물을, ▁조사...  \n",
       "51526  [▁배, 축, 절, 편, 으로부터, ▁연, 한, ▁노란, 색의, ▁부드러운, ▁캘,...  \n",
       "\n",
       "[51527 rows x 5 columns]"
      ]
     },
     "execution_count": 35,
     "metadata": {},
     "output_type": "execute_result"
    }
   ],
   "source": [
    "refined_dev_dataset = refined_dataframe[:51527]\n",
    "refined_dev_dataset"
   ]
  },
  {
   "cell_type": "code",
   "execution_count": 33,
   "id": "2e75147a",
   "metadata": {},
   "outputs": [
    {
     "data": {
      "text/html": [
       "<div>\n",
       "<style scoped>\n",
       "    .dataframe tbody tr th:only-of-type {\n",
       "        vertical-align: middle;\n",
       "    }\n",
       "\n",
       "    .dataframe tbody tr th {\n",
       "        vertical-align: top;\n",
       "    }\n",
       "\n",
       "    .dataframe thead th {\n",
       "        text-align: right;\n",
       "    }\n",
       "</style>\n",
       "<table border=\"1\" class=\"dataframe\">\n",
       "  <thead>\n",
       "    <tr style=\"text-align: right;\">\n",
       "      <th></th>\n",
       "      <th>paper_id</th>\n",
       "      <th>content</th>\n",
       "      <th>summary</th>\n",
       "      <th>paper_token</th>\n",
       "      <th>summary_token</th>\n",
       "    </tr>\n",
       "  </thead>\n",
       "  <tbody>\n",
       "    <tr>\n",
       "      <th>51527</th>\n",
       "      <td>ART9001797454</td>\n",
       "      <td>[좀비비추 ‘White Edge’는 돌연변이 유기용 화학물질인EMS(ethyle m...</td>\n",
       "      <td>[좀비비추 ‘White Edge’는 돌연변이 유기용 화학물질인EMS용액을 이용해 돌...</td>\n",
       "      <td>[▁좀, 비, 비, 추, ▁‘, W, h, it, e, ▁E, d, g, e, ’는...</td>\n",
       "      <td>[▁좀, 비, 비, 추, ▁‘, W, h, it, e, ▁E, d, g, e, ’는...</td>\n",
       "    </tr>\n",
       "    <tr>\n",
       "      <th>51528</th>\n",
       "      <td>ART9001797508</td>\n",
       "      <td>[윤리학의 뿌리 깊은 논쟁 중의 하나는 도덕의 본질이 무엇이냐는 것이다., 윤리학의...</td>\n",
       "      <td>[윤리학의 뿌리 깊은 논쟁 중의 하나는 도덕의 본질이 무엇이냐는 것이다., 본 연구...</td>\n",
       "      <td>[▁윤리, 학의, ▁뿌리, ▁깊은, ▁논쟁, ▁중의, ▁하나는, ▁도덕, 의, ▁본...</td>\n",
       "      <td>[▁윤리, 학의, ▁뿌리, ▁깊은, ▁논쟁, ▁중의, ▁하나는, ▁도덕, 의, ▁본...</td>\n",
       "    </tr>\n",
       "    <tr>\n",
       "      <th>51529</th>\n",
       "      <td>ART9001797510</td>\n",
       "      <td>[급속한 정치적 재통일 후 20년, 실질적으로 통일이 이루어졌다는 점에 동의하는 사...</td>\n",
       "      <td>[본 연구의 주된 목적은 독일인들이 어디에서 시행착오를 가져왔는지 구조 전환과정에서...</td>\n",
       "      <td>[▁급, 속한, ▁정치적, ▁재, 통일, ▁후, ▁20년, ,, ▁실질적으로, ▁통...</td>\n",
       "      <td>[▁본, ▁연구, 의, ▁주된, ▁목적은, ▁독일, 인들이, ▁어디, 에서, ▁시행...</td>\n",
       "    </tr>\n",
       "    <tr>\n",
       "      <th>51530</th>\n",
       "      <td>ART9001797588</td>\n",
       "      <td>[본 연구에서는 율곡과 다산의 교육사상을 비교·분석해봄으로써 이들의 교육사상이 현대...</td>\n",
       "      <td>[이 연구에서는 율곡과 다산의 교육사상을 비교·분석해봄으로써 이들의 교육사상이 현대...</td>\n",
       "      <td>[▁본, ▁연구, 에서는, ▁율, 곡, 과, ▁다, 산의, ▁교육, 사, 상을, ▁...</td>\n",
       "      <td>[▁이, ▁연구, 에서는, ▁율, 곡, 과, ▁다, 산의, ▁교육, 사, 상을, ▁...</td>\n",
       "    </tr>\n",
       "    <tr>\n",
       "      <th>51531</th>\n",
       "      <td>ART9001797595</td>\n",
       "      <td>[본 연구는 미국 캘리포니아주에 소재한 대학교에 재학 중인 대학생을 중심으로 신체활...</td>\n",
       "      <td>[이 연구는 미국 캘리포니아주에 소재한 대학교에 재학 중인 대학생을 중심으로 신체활...</td>\n",
       "      <td>[▁본, ▁연구, 는, ▁미국, ▁캘리포니아, 주에, ▁소재, 한, ▁대학교, 에,...</td>\n",
       "      <td>[▁이, ▁연구, 는, ▁미국, ▁캘리포니아, 주에, ▁소재, 한, ▁대학교, 에,...</td>\n",
       "    </tr>\n",
       "    <tr>\n",
       "      <th>...</th>\n",
       "      <td>...</td>\n",
       "      <td>...</td>\n",
       "      <td>...</td>\n",
       "      <td>...</td>\n",
       "      <td>...</td>\n",
       "    </tr>\n",
       "    <tr>\n",
       "      <th>64404</th>\n",
       "      <td>ART9001922702</td>\n",
       "      <td>[휴대전화 전자파의 인체 유해성에 대한 국내외 관심이 고조됨에 따라, 우리 정부는 ...</td>\n",
       "      <td>[휴대전화 전자파의 인체 유해성에 대한 국내외 관심이 고조됨에 따라, 우리 정부는 ...</td>\n",
       "      <td>[▁휴대전화, ▁전자, 파의, ▁인, 체, ▁유해, 성에, ▁대한, ▁국내외, ▁관...</td>\n",
       "      <td>[▁휴대전화, ▁전자, 파의, ▁인, 체, ▁유해, 성에, ▁대한, ▁국내외, ▁관...</td>\n",
       "    </tr>\n",
       "    <tr>\n",
       "      <th>64405</th>\n",
       "      <td>ART9001922913</td>\n",
       "      <td>[한나라를 건국한 고조 역시 무력으로 천하를 얻었기 때문에 무력에 의한 통치를 중시...</td>\n",
       "      <td>[한나라를 건국한 고조 역시 무력으로 천하를 얻었기에 무력에 의한 통치를 중시하고 ...</td>\n",
       "      <td>[▁한나라, 를, ▁건국, 한, ▁고조, ▁역시, ▁무, 력으로, ▁천, 하를, ▁...</td>\n",
       "      <td>[▁한나라, 를, ▁건국, 한, ▁고조, ▁역시, ▁무, 력으로, ▁천, 하를, ▁...</td>\n",
       "    </tr>\n",
       "    <tr>\n",
       "      <th>64406</th>\n",
       "      <td>ART9001922914</td>\n",
       "      <td>[현존하는 最古/最高의 한국 역사서 『三國史記』와 『三國遺事』에 대해 대립적으로 이...</td>\n",
       "      <td>[현존하는 最古/最高의 한국 역사서 『三國史記』와 『三國遺事』에 대해 대립적으로 이...</td>\n",
       "      <td>[▁현, 존, 하는, ▁, 最, 古, /, 最, 高, 의, ▁한국, ▁역사, 서, ...</td>\n",
       "      <td>[▁현, 존, 하는, ▁, 最, 古, /, 最, 高, 의, ▁한국, ▁역사, 서, ...</td>\n",
       "    </tr>\n",
       "    <tr>\n",
       "      <th>64407</th>\n",
       "      <td>ART9001922917</td>\n",
       "      <td>[강(江)의 흐름은 시간과 공간을 초월하며, 강과 강 주변에 다양한 문화현상들을 형...</td>\n",
       "      <td>[본 논문에서는 홍천강 인근지역에 전승하는 ‘이괄설화’를 대상으로 했다., 이괄은 ...</td>\n",
       "      <td>[▁강, (, 江, )의, ▁흐름, 은, ▁시간과, ▁공간을, ▁초월, 하며,, ▁...</td>\n",
       "      <td>[▁본, ▁논문, 에서는, ▁홍, 천, 강, ▁인근, 지역에, ▁전, 승, 하는, ...</td>\n",
       "    </tr>\n",
       "    <tr>\n",
       "      <th>64408</th>\n",
       "      <td>ART9001922918</td>\n",
       "      <td>[본고는 예체능 계열 학생들을 위한 대학 글쓰기 교육의 방법을 모색하고자 시도되었다...</td>\n",
       "      <td>[이 논문은 예체능 계열 학생들을 위한 대학 글쓰기 교육의 방법을 모색하고자 시도됐...</td>\n",
       "      <td>[▁본, 고는, ▁예, 체, 능, ▁계열, ▁학생들을, ▁위한, ▁대학, ▁글쓰, ...</td>\n",
       "      <td>[▁이, ▁논, 문은, ▁예, 체, 능, ▁계열, ▁학생들을, ▁위한, ▁대학, ▁...</td>\n",
       "    </tr>\n",
       "  </tbody>\n",
       "</table>\n",
       "<p>12882 rows × 5 columns</p>\n",
       "</div>"
      ],
      "text/plain": [
       "            paper_id                                            content  \\\n",
       "51527  ART9001797454  [좀비비추 ‘White Edge’는 돌연변이 유기용 화학물질인EMS(ethyle m...   \n",
       "51528  ART9001797508  [윤리학의 뿌리 깊은 논쟁 중의 하나는 도덕의 본질이 무엇이냐는 것이다., 윤리학의...   \n",
       "51529  ART9001797510  [급속한 정치적 재통일 후 20년, 실질적으로 통일이 이루어졌다는 점에 동의하는 사...   \n",
       "51530  ART9001797588  [본 연구에서는 율곡과 다산의 교육사상을 비교·분석해봄으로써 이들의 교육사상이 현대...   \n",
       "51531  ART9001797595  [본 연구는 미국 캘리포니아주에 소재한 대학교에 재학 중인 대학생을 중심으로 신체활...   \n",
       "...              ...                                                ...   \n",
       "64404  ART9001922702  [휴대전화 전자파의 인체 유해성에 대한 국내외 관심이 고조됨에 따라, 우리 정부는 ...   \n",
       "64405  ART9001922913  [한나라를 건국한 고조 역시 무력으로 천하를 얻었기 때문에 무력에 의한 통치를 중시...   \n",
       "64406  ART9001922914  [현존하는 最古/最高의 한국 역사서 『三國史記』와 『三國遺事』에 대해 대립적으로 이...   \n",
       "64407  ART9001922917  [강(江)의 흐름은 시간과 공간을 초월하며, 강과 강 주변에 다양한 문화현상들을 형...   \n",
       "64408  ART9001922918  [본고는 예체능 계열 학생들을 위한 대학 글쓰기 교육의 방법을 모색하고자 시도되었다...   \n",
       "\n",
       "                                                 summary  \\\n",
       "51527  [좀비비추 ‘White Edge’는 돌연변이 유기용 화학물질인EMS용액을 이용해 돌...   \n",
       "51528  [윤리학의 뿌리 깊은 논쟁 중의 하나는 도덕의 본질이 무엇이냐는 것이다., 본 연구...   \n",
       "51529  [본 연구의 주된 목적은 독일인들이 어디에서 시행착오를 가져왔는지 구조 전환과정에서...   \n",
       "51530  [이 연구에서는 율곡과 다산의 교육사상을 비교·분석해봄으로써 이들의 교육사상이 현대...   \n",
       "51531  [이 연구는 미국 캘리포니아주에 소재한 대학교에 재학 중인 대학생을 중심으로 신체활...   \n",
       "...                                                  ...   \n",
       "64404  [휴대전화 전자파의 인체 유해성에 대한 국내외 관심이 고조됨에 따라, 우리 정부는 ...   \n",
       "64405  [한나라를 건국한 고조 역시 무력으로 천하를 얻었기에 무력에 의한 통치를 중시하고 ...   \n",
       "64406  [현존하는 最古/最高의 한국 역사서 『三國史記』와 『三國遺事』에 대해 대립적으로 이...   \n",
       "64407  [본 논문에서는 홍천강 인근지역에 전승하는 ‘이괄설화’를 대상으로 했다., 이괄은 ...   \n",
       "64408  [이 논문은 예체능 계열 학생들을 위한 대학 글쓰기 교육의 방법을 모색하고자 시도됐...   \n",
       "\n",
       "                                             paper_token  \\\n",
       "51527  [▁좀, 비, 비, 추, ▁‘, W, h, it, e, ▁E, d, g, e, ’는...   \n",
       "51528  [▁윤리, 학의, ▁뿌리, ▁깊은, ▁논쟁, ▁중의, ▁하나는, ▁도덕, 의, ▁본...   \n",
       "51529  [▁급, 속한, ▁정치적, ▁재, 통일, ▁후, ▁20년, ,, ▁실질적으로, ▁통...   \n",
       "51530  [▁본, ▁연구, 에서는, ▁율, 곡, 과, ▁다, 산의, ▁교육, 사, 상을, ▁...   \n",
       "51531  [▁본, ▁연구, 는, ▁미국, ▁캘리포니아, 주에, ▁소재, 한, ▁대학교, 에,...   \n",
       "...                                                  ...   \n",
       "64404  [▁휴대전화, ▁전자, 파의, ▁인, 체, ▁유해, 성에, ▁대한, ▁국내외, ▁관...   \n",
       "64405  [▁한나라, 를, ▁건국, 한, ▁고조, ▁역시, ▁무, 력으로, ▁천, 하를, ▁...   \n",
       "64406  [▁현, 존, 하는, ▁, 最, 古, /, 最, 高, 의, ▁한국, ▁역사, 서, ...   \n",
       "64407  [▁강, (, 江, )의, ▁흐름, 은, ▁시간과, ▁공간을, ▁초월, 하며,, ▁...   \n",
       "64408  [▁본, 고는, ▁예, 체, 능, ▁계열, ▁학생들을, ▁위한, ▁대학, ▁글쓰, ...   \n",
       "\n",
       "                                           summary_token  \n",
       "51527  [▁좀, 비, 비, 추, ▁‘, W, h, it, e, ▁E, d, g, e, ’는...  \n",
       "51528  [▁윤리, 학의, ▁뿌리, ▁깊은, ▁논쟁, ▁중의, ▁하나는, ▁도덕, 의, ▁본...  \n",
       "51529  [▁본, ▁연구, 의, ▁주된, ▁목적은, ▁독일, 인들이, ▁어디, 에서, ▁시행...  \n",
       "51530  [▁이, ▁연구, 에서는, ▁율, 곡, 과, ▁다, 산의, ▁교육, 사, 상을, ▁...  \n",
       "51531  [▁이, ▁연구, 는, ▁미국, ▁캘리포니아, 주에, ▁소재, 한, ▁대학교, 에,...  \n",
       "...                                                  ...  \n",
       "64404  [▁휴대전화, ▁전자, 파의, ▁인, 체, ▁유해, 성에, ▁대한, ▁국내외, ▁관...  \n",
       "64405  [▁한나라, 를, ▁건국, 한, ▁고조, ▁역시, ▁무, 력으로, ▁천, 하를, ▁...  \n",
       "64406  [▁현, 존, 하는, ▁, 最, 古, /, 最, 高, 의, ▁한국, ▁역사, 서, ...  \n",
       "64407  [▁본, ▁논문, 에서는, ▁홍, 천, 강, ▁인근, 지역에, ▁전, 승, 하는, ...  \n",
       "64408  [▁이, ▁논, 문은, ▁예, 체, 능, ▁계열, ▁학생들을, ▁위한, ▁대학, ▁...  \n",
       "\n",
       "[12882 rows x 5 columns]"
      ]
     },
     "execution_count": 33,
     "metadata": {},
     "output_type": "execute_result"
    }
   ],
   "source": [
    "refined_test_dataset = refined_dataframe[51527:]\n",
    "refined_test_dataset"
   ]
  },
  {
   "cell_type": "code",
   "execution_count": 36,
   "id": "ae42821e",
   "metadata": {},
   "outputs": [
    {
     "name": "stdout",
     "output_type": "stream",
     "text": [
      "/data/ksb/BART/KoBART-summarization/paper_data/train_data_idx.txt\n",
      "/data/ksb/BART/KoBART-summarization/paper_data/test_data_idx.txt\n"
     ]
    }
   ],
   "source": [
    "import pickle\n",
    "\n",
    "mkdir_p(kor_bart_data_dir)\n",
    "train_idx_filepath = pjoin(kor_bart_data_dir, 'train_data_idx.txt')\n",
    "test_idx_filepath = pjoin(kor_bart_data_dir, 'test_data_idx.txt')\n",
    "\n",
    "print(train_idx_filepath)\n",
    "with open(train_idx_filepath, 'wb') as f:\n",
    "    pickle.dump([data[0] for _, data in refined_dev_dataset.iterrows()], f)\n",
    "    \n",
    "print(test_idx_filepath)\n",
    "with open(test_idx_filepath, 'wb') as f:\n",
    "    pickle.dump([data[0] for _, data in refined_test_dataset.iterrows()], f)"
   ]
  },
  {
   "cell_type": "code",
   "execution_count": 37,
   "id": "d7c5a2ca",
   "metadata": {},
   "outputs": [],
   "source": [
    "train_idx_filepath = pjoin(kor_bart_data_dir, 'train_data_idx.txt')\n",
    "valid_idx_filepath = pjoin(kor_bart_data_dir, 'val_data_idx.txt')"
   ]
  },
  {
   "cell_type": "code",
   "execution_count": 38,
   "id": "3bea471a",
   "metadata": {},
   "outputs": [
    {
     "data": {
      "text/plain": [
       "51527"
      ]
     },
     "execution_count": 38,
     "metadata": {},
     "output_type": "execute_result"
    }
   ],
   "source": [
    "import pickle\n",
    "with open(train_idx_filepath, 'rb') as f:\n",
    "    tmp = pickle.load(f)\n",
    "len(tmp)"
   ]
  },
  {
   "cell_type": "code",
   "execution_count": 39,
   "id": "b2982eed",
   "metadata": {},
   "outputs": [
    {
     "data": {
      "text/html": [
       "<div>\n",
       "<style scoped>\n",
       "    .dataframe tbody tr th:only-of-type {\n",
       "        vertical-align: middle;\n",
       "    }\n",
       "\n",
       "    .dataframe tbody tr th {\n",
       "        vertical-align: top;\n",
       "    }\n",
       "\n",
       "    .dataframe thead th {\n",
       "        text-align: right;\n",
       "    }\n",
       "</style>\n",
       "<table border=\"1\" class=\"dataframe\">\n",
       "  <thead>\n",
       "    <tr style=\"text-align: right;\">\n",
       "      <th></th>\n",
       "      <th>content</th>\n",
       "      <th>summary</th>\n",
       "    </tr>\n",
       "  </thead>\n",
       "  <tbody>\n",
       "    <tr>\n",
       "      <th>0</th>\n",
       "      <td>[본 연구는 박근혜 정부에서 추진되었던 한국사교과서 국정화에 대한 정책변동에 대한 ...</td>\n",
       "      <td>[본 논문은 박근혜 정부에서 추진되었던 한국사교과서 국정화에 대한 정책변동에 관한 ...</td>\n",
       "    </tr>\n",
       "    <tr>\n",
       "      <th>1</th>\n",
       "      <td>[본 연구는 고등학생들의 바른 인성함양을 위한 긍정적 태도 형성 프로그램의 효과를 ...</td>\n",
       "      <td>[본 논문은 고등학생들의 바른 인성함양을 위한 긍정적 태도 형성 프로그램의 효과를 ...</td>\n",
       "    </tr>\n",
       "    <tr>\n",
       "      <th>2</th>\n",
       "      <td>[새로 도입된 피지컬컴퓨팅 교육을 통해 학생들이 창의적으로 문제를 해결하거나 다양한...</td>\n",
       "      <td>[본 논문은 초·중등 학생들의 창의적 문제해결을 위한 피지컬컴퓨팅 수업 설계원리를 ...</td>\n",
       "    </tr>\n",
       "    <tr>\n",
       "      <th>3</th>\n",
       "      <td>[본 연구에서는 자아고갈 상태에서 냉압과제 수행동기가 통증반응(인내, 강도, 불쾌감...</td>\n",
       "      <td>[본 논문은 자아고갈 상태에서 냉압과제 수행동기가 통증반응에 미치는 영향을 검증하였...</td>\n",
       "    </tr>\n",
       "    <tr>\n",
       "      <th>4</th>\n",
       "      <td>[본 연구는 외상 후 성장 이론을 바탕으로 침습적 반추, 정서조절방략 그리고 의도적...</td>\n",
       "      <td>[본 논문은 외상 후 성장 이론을 바탕으로 침습적 반추, 정서조절방략, 의도적 반추...</td>\n",
       "    </tr>\n",
       "    <tr>\n",
       "      <th>...</th>\n",
       "      <td>...</td>\n",
       "      <td>...</td>\n",
       "    </tr>\n",
       "    <tr>\n",
       "      <th>38640</th>\n",
       "      <td>[바이오인식 기술을 이용한 사용자 인증은 편리함과 동시에 강력한 보안성을 제공하는 ...</td>\n",
       "      <td>[본고에서는 거짓특징점을 임의로 추가하지 않고 특징점의 좌표, 방향 등 진짜특징점의...</td>\n",
       "    </tr>\n",
       "    <tr>\n",
       "      <th>38641</th>\n",
       "      <td>[네트워크 및 컴퓨터의 발전에 따라 악성코드 역시 폭발적인 증가 추이를 보이고 있으...</td>\n",
       "      <td>[변종 및 신종 악성코드를 빠르게 탐지하기 위해, 본 연구에서는 행위 그래프 분석을...</td>\n",
       "    </tr>\n",
       "    <tr>\n",
       "      <th>38642</th>\n",
       "      <td>[최근 타원곡선 상에서의 페어링은 ID 기반의 암호/서명/인증/키공유 기법, 등 다...</td>\n",
       "      <td>[본고에서는 EtaT 페어링 알고리즘에서 제안된 RVA 기반의 부채널 대응방법의 취...</td>\n",
       "    </tr>\n",
       "    <tr>\n",
       "      <th>38643</th>\n",
       "      <td>[최근 Application에 대한 공격을 통하여 네트워크와 데이터베이스에 대한 방...</td>\n",
       "      <td>[본고에서는 침입탐지 룰을 설정한 Application에 대한 공격을 차단하기 위한...</td>\n",
       "    </tr>\n",
       "    <tr>\n",
       "      <th>38644</th>\n",
       "      <td>[본 논문은 인터넷 서버의 정상적인 TCP 연결을 방해하는 형태의 DDoS(Dist...</td>\n",
       "      <td>[본고는 인터넷 서버의 정상적인 TCP 연결을 방해하는 형태의 DDoS(Distri...</td>\n",
       "    </tr>\n",
       "  </tbody>\n",
       "</table>\n",
       "<p>38645 rows × 2 columns</p>\n",
       "</div>"
      ],
      "text/plain": [
       "                                                 content  \\\n",
       "0      [본 연구는 박근혜 정부에서 추진되었던 한국사교과서 국정화에 대한 정책변동에 대한 ...   \n",
       "1      [본 연구는 고등학생들의 바른 인성함양을 위한 긍정적 태도 형성 프로그램의 효과를 ...   \n",
       "2      [새로 도입된 피지컬컴퓨팅 교육을 통해 학생들이 창의적으로 문제를 해결하거나 다양한...   \n",
       "3      [본 연구에서는 자아고갈 상태에서 냉압과제 수행동기가 통증반응(인내, 강도, 불쾌감...   \n",
       "4      [본 연구는 외상 후 성장 이론을 바탕으로 침습적 반추, 정서조절방략 그리고 의도적...   \n",
       "...                                                  ...   \n",
       "38640  [바이오인식 기술을 이용한 사용자 인증은 편리함과 동시에 강력한 보안성을 제공하는 ...   \n",
       "38641  [네트워크 및 컴퓨터의 발전에 따라 악성코드 역시 폭발적인 증가 추이를 보이고 있으...   \n",
       "38642  [최근 타원곡선 상에서의 페어링은 ID 기반의 암호/서명/인증/키공유 기법, 등 다...   \n",
       "38643  [최근 Application에 대한 공격을 통하여 네트워크와 데이터베이스에 대한 방...   \n",
       "38644  [본 논문은 인터넷 서버의 정상적인 TCP 연결을 방해하는 형태의 DDoS(Dist...   \n",
       "\n",
       "                                                 summary  \n",
       "0      [본 논문은 박근혜 정부에서 추진되었던 한국사교과서 국정화에 대한 정책변동에 관한 ...  \n",
       "1      [본 논문은 고등학생들의 바른 인성함양을 위한 긍정적 태도 형성 프로그램의 효과를 ...  \n",
       "2      [본 논문은 초·중등 학생들의 창의적 문제해결을 위한 피지컬컴퓨팅 수업 설계원리를 ...  \n",
       "3      [본 논문은 자아고갈 상태에서 냉압과제 수행동기가 통증반응에 미치는 영향을 검증하였...  \n",
       "4      [본 논문은 외상 후 성장 이론을 바탕으로 침습적 반추, 정서조절방략, 의도적 반추...  \n",
       "...                                                  ...  \n",
       "38640  [본고에서는 거짓특징점을 임의로 추가하지 않고 특징점의 좌표, 방향 등 진짜특징점의...  \n",
       "38641  [변종 및 신종 악성코드를 빠르게 탐지하기 위해, 본 연구에서는 행위 그래프 분석을...  \n",
       "38642  [본고에서는 EtaT 페어링 알고리즘에서 제안된 RVA 기반의 부채널 대응방법의 취...  \n",
       "38643  [본고에서는 침입탐지 룰을 설정한 Application에 대한 공격을 차단하기 위한...  \n",
       "38644  [본고는 인터넷 서버의 정상적인 TCP 연결을 방해하는 형태의 DDoS(Distri...  \n",
       "\n",
       "[38645 rows x 2 columns]"
      ]
     },
     "execution_count": 39,
     "metadata": {},
     "output_type": "execute_result"
    }
   ],
   "source": [
    "save_train_data = refined_train_dataset.drop(['paper_id', 'paper_token', 'summary_token'], axis=1)\n",
    "save_train_data"
   ]
  },
  {
   "cell_type": "code",
   "execution_count": 40,
   "id": "2e8cd0e6",
   "metadata": {},
   "outputs": [
    {
     "data": {
      "text/html": [
       "<div>\n",
       "<style scoped>\n",
       "    .dataframe tbody tr th:only-of-type {\n",
       "        vertical-align: middle;\n",
       "    }\n",
       "\n",
       "    .dataframe tbody tr th {\n",
       "        vertical-align: top;\n",
       "    }\n",
       "\n",
       "    .dataframe thead th {\n",
       "        text-align: right;\n",
       "    }\n",
       "</style>\n",
       "<table border=\"1\" class=\"dataframe\">\n",
       "  <thead>\n",
       "    <tr style=\"text-align: right;\">\n",
       "      <th></th>\n",
       "      <th>news</th>\n",
       "      <th>summary</th>\n",
       "    </tr>\n",
       "  </thead>\n",
       "  <tbody>\n",
       "    <tr>\n",
       "      <th>0</th>\n",
       "      <td>[본 연구는 박근혜 정부에서 추진되었던 한국사교과서 국정화에 대한 정책변동에 대한 ...</td>\n",
       "      <td>[본 논문은 박근혜 정부에서 추진되었던 한국사교과서 국정화에 대한 정책변동에 관한 ...</td>\n",
       "    </tr>\n",
       "    <tr>\n",
       "      <th>1</th>\n",
       "      <td>[본 연구는 고등학생들의 바른 인성함양을 위한 긍정적 태도 형성 프로그램의 효과를 ...</td>\n",
       "      <td>[본 논문은 고등학생들의 바른 인성함양을 위한 긍정적 태도 형성 프로그램의 효과를 ...</td>\n",
       "    </tr>\n",
       "    <tr>\n",
       "      <th>2</th>\n",
       "      <td>[새로 도입된 피지컬컴퓨팅 교육을 통해 학생들이 창의적으로 문제를 해결하거나 다양한...</td>\n",
       "      <td>[본 논문은 초·중등 학생들의 창의적 문제해결을 위한 피지컬컴퓨팅 수업 설계원리를 ...</td>\n",
       "    </tr>\n",
       "    <tr>\n",
       "      <th>3</th>\n",
       "      <td>[본 연구에서는 자아고갈 상태에서 냉압과제 수행동기가 통증반응(인내, 강도, 불쾌감...</td>\n",
       "      <td>[본 논문은 자아고갈 상태에서 냉압과제 수행동기가 통증반응에 미치는 영향을 검증하였...</td>\n",
       "    </tr>\n",
       "    <tr>\n",
       "      <th>4</th>\n",
       "      <td>[본 연구는 외상 후 성장 이론을 바탕으로 침습적 반추, 정서조절방략 그리고 의도적...</td>\n",
       "      <td>[본 논문은 외상 후 성장 이론을 바탕으로 침습적 반추, 정서조절방략, 의도적 반추...</td>\n",
       "    </tr>\n",
       "    <tr>\n",
       "      <th>...</th>\n",
       "      <td>...</td>\n",
       "      <td>...</td>\n",
       "    </tr>\n",
       "    <tr>\n",
       "      <th>38640</th>\n",
       "      <td>[바이오인식 기술을 이용한 사용자 인증은 편리함과 동시에 강력한 보안성을 제공하는 ...</td>\n",
       "      <td>[본고에서는 거짓특징점을 임의로 추가하지 않고 특징점의 좌표, 방향 등 진짜특징점의...</td>\n",
       "    </tr>\n",
       "    <tr>\n",
       "      <th>38641</th>\n",
       "      <td>[네트워크 및 컴퓨터의 발전에 따라 악성코드 역시 폭발적인 증가 추이를 보이고 있으...</td>\n",
       "      <td>[변종 및 신종 악성코드를 빠르게 탐지하기 위해, 본 연구에서는 행위 그래프 분석을...</td>\n",
       "    </tr>\n",
       "    <tr>\n",
       "      <th>38642</th>\n",
       "      <td>[최근 타원곡선 상에서의 페어링은 ID 기반의 암호/서명/인증/키공유 기법, 등 다...</td>\n",
       "      <td>[본고에서는 EtaT 페어링 알고리즘에서 제안된 RVA 기반의 부채널 대응방법의 취...</td>\n",
       "    </tr>\n",
       "    <tr>\n",
       "      <th>38643</th>\n",
       "      <td>[최근 Application에 대한 공격을 통하여 네트워크와 데이터베이스에 대한 방...</td>\n",
       "      <td>[본고에서는 침입탐지 룰을 설정한 Application에 대한 공격을 차단하기 위한...</td>\n",
       "    </tr>\n",
       "    <tr>\n",
       "      <th>38644</th>\n",
       "      <td>[본 논문은 인터넷 서버의 정상적인 TCP 연결을 방해하는 형태의 DDoS(Dist...</td>\n",
       "      <td>[본고는 인터넷 서버의 정상적인 TCP 연결을 방해하는 형태의 DDoS(Distri...</td>\n",
       "    </tr>\n",
       "  </tbody>\n",
       "</table>\n",
       "<p>38645 rows × 2 columns</p>\n",
       "</div>"
      ],
      "text/plain": [
       "                                                    news  \\\n",
       "0      [본 연구는 박근혜 정부에서 추진되었던 한국사교과서 국정화에 대한 정책변동에 대한 ...   \n",
       "1      [본 연구는 고등학생들의 바른 인성함양을 위한 긍정적 태도 형성 프로그램의 효과를 ...   \n",
       "2      [새로 도입된 피지컬컴퓨팅 교육을 통해 학생들이 창의적으로 문제를 해결하거나 다양한...   \n",
       "3      [본 연구에서는 자아고갈 상태에서 냉압과제 수행동기가 통증반응(인내, 강도, 불쾌감...   \n",
       "4      [본 연구는 외상 후 성장 이론을 바탕으로 침습적 반추, 정서조절방략 그리고 의도적...   \n",
       "...                                                  ...   \n",
       "38640  [바이오인식 기술을 이용한 사용자 인증은 편리함과 동시에 강력한 보안성을 제공하는 ...   \n",
       "38641  [네트워크 및 컴퓨터의 발전에 따라 악성코드 역시 폭발적인 증가 추이를 보이고 있으...   \n",
       "38642  [최근 타원곡선 상에서의 페어링은 ID 기반의 암호/서명/인증/키공유 기법, 등 다...   \n",
       "38643  [최근 Application에 대한 공격을 통하여 네트워크와 데이터베이스에 대한 방...   \n",
       "38644  [본 논문은 인터넷 서버의 정상적인 TCP 연결을 방해하는 형태의 DDoS(Dist...   \n",
       "\n",
       "                                                 summary  \n",
       "0      [본 논문은 박근혜 정부에서 추진되었던 한국사교과서 국정화에 대한 정책변동에 관한 ...  \n",
       "1      [본 논문은 고등학생들의 바른 인성함양을 위한 긍정적 태도 형성 프로그램의 효과를 ...  \n",
       "2      [본 논문은 초·중등 학생들의 창의적 문제해결을 위한 피지컬컴퓨팅 수업 설계원리를 ...  \n",
       "3      [본 논문은 자아고갈 상태에서 냉압과제 수행동기가 통증반응에 미치는 영향을 검증하였...  \n",
       "4      [본 논문은 외상 후 성장 이론을 바탕으로 침습적 반추, 정서조절방략, 의도적 반추...  \n",
       "...                                                  ...  \n",
       "38640  [본고에서는 거짓특징점을 임의로 추가하지 않고 특징점의 좌표, 방향 등 진짜특징점의...  \n",
       "38641  [변종 및 신종 악성코드를 빠르게 탐지하기 위해, 본 연구에서는 행위 그래프 분석을...  \n",
       "38642  [본고에서는 EtaT 페어링 알고리즘에서 제안된 RVA 기반의 부채널 대응방법의 취...  \n",
       "38643  [본고에서는 침입탐지 룰을 설정한 Application에 대한 공격을 차단하기 위한...  \n",
       "38644  [본고는 인터넷 서버의 정상적인 TCP 연결을 방해하는 형태의 DDoS(Distri...  \n",
       "\n",
       "[38645 rows x 2 columns]"
      ]
     },
     "execution_count": 40,
     "metadata": {},
     "output_type": "execute_result"
    }
   ],
   "source": [
    "save_train_data = save_train_data.rename(columns={\"content\": \"news\"})\n",
    "save_train_data"
   ]
  },
  {
   "cell_type": "code",
   "execution_count": 41,
   "id": "4eb3deba",
   "metadata": {},
   "outputs": [
    {
     "data": {
      "text/plain": [
       "'/data/ksb/BART/KoBART-summarization/paper_data/train.tsv'"
      ]
     },
     "execution_count": 41,
     "metadata": {},
     "output_type": "execute_result"
    }
   ],
   "source": [
    "train_data_path"
   ]
  },
  {
   "cell_type": "code",
   "execution_count": 42,
   "id": "122a4303",
   "metadata": {},
   "outputs": [],
   "source": [
    "save_train_data.to_csv(train_data_path, columns=['news','summary'], sep='\\t', index=False)"
   ]
  },
  {
   "cell_type": "code",
   "execution_count": 44,
   "id": "12392082",
   "metadata": {},
   "outputs": [
    {
     "data": {
      "text/html": [
       "<div>\n",
       "<style scoped>\n",
       "    .dataframe tbody tr th:only-of-type {\n",
       "        vertical-align: middle;\n",
       "    }\n",
       "\n",
       "    .dataframe tbody tr th {\n",
       "        vertical-align: top;\n",
       "    }\n",
       "\n",
       "    .dataframe thead th {\n",
       "        text-align: right;\n",
       "    }\n",
       "</style>\n",
       "<table border=\"1\" class=\"dataframe\">\n",
       "  <thead>\n",
       "    <tr style=\"text-align: right;\">\n",
       "      <th></th>\n",
       "      <th>news</th>\n",
       "      <th>summary</th>\n",
       "    </tr>\n",
       "  </thead>\n",
       "  <tbody>\n",
       "    <tr>\n",
       "      <th>51527</th>\n",
       "      <td>[좀비비추 ‘White Edge’는 돌연변이 유기용 화학물질인EMS(ethyle m...</td>\n",
       "      <td>[좀비비추 ‘White Edge’는 돌연변이 유기용 화학물질인EMS용액을 이용해 돌...</td>\n",
       "    </tr>\n",
       "    <tr>\n",
       "      <th>51528</th>\n",
       "      <td>[윤리학의 뿌리 깊은 논쟁 중의 하나는 도덕의 본질이 무엇이냐는 것이다., 윤리학의...</td>\n",
       "      <td>[윤리학의 뿌리 깊은 논쟁 중의 하나는 도덕의 본질이 무엇이냐는 것이다., 본 연구...</td>\n",
       "    </tr>\n",
       "    <tr>\n",
       "      <th>51529</th>\n",
       "      <td>[급속한 정치적 재통일 후 20년, 실질적으로 통일이 이루어졌다는 점에 동의하는 사...</td>\n",
       "      <td>[본 연구의 주된 목적은 독일인들이 어디에서 시행착오를 가져왔는지 구조 전환과정에서...</td>\n",
       "    </tr>\n",
       "    <tr>\n",
       "      <th>51530</th>\n",
       "      <td>[본 연구에서는 율곡과 다산의 교육사상을 비교·분석해봄으로써 이들의 교육사상이 현대...</td>\n",
       "      <td>[이 연구에서는 율곡과 다산의 교육사상을 비교·분석해봄으로써 이들의 교육사상이 현대...</td>\n",
       "    </tr>\n",
       "    <tr>\n",
       "      <th>51531</th>\n",
       "      <td>[본 연구는 미국 캘리포니아주에 소재한 대학교에 재학 중인 대학생을 중심으로 신체활...</td>\n",
       "      <td>[이 연구는 미국 캘리포니아주에 소재한 대학교에 재학 중인 대학생을 중심으로 신체활...</td>\n",
       "    </tr>\n",
       "    <tr>\n",
       "      <th>...</th>\n",
       "      <td>...</td>\n",
       "      <td>...</td>\n",
       "    </tr>\n",
       "    <tr>\n",
       "      <th>64404</th>\n",
       "      <td>[휴대전화 전자파의 인체 유해성에 대한 국내외 관심이 고조됨에 따라, 우리 정부는 ...</td>\n",
       "      <td>[휴대전화 전자파의 인체 유해성에 대한 국내외 관심이 고조됨에 따라, 우리 정부는 ...</td>\n",
       "    </tr>\n",
       "    <tr>\n",
       "      <th>64405</th>\n",
       "      <td>[한나라를 건국한 고조 역시 무력으로 천하를 얻었기 때문에 무력에 의한 통치를 중시...</td>\n",
       "      <td>[한나라를 건국한 고조 역시 무력으로 천하를 얻었기에 무력에 의한 통치를 중시하고 ...</td>\n",
       "    </tr>\n",
       "    <tr>\n",
       "      <th>64406</th>\n",
       "      <td>[현존하는 最古/最高의 한국 역사서 『三國史記』와 『三國遺事』에 대해 대립적으로 이...</td>\n",
       "      <td>[현존하는 最古/最高의 한국 역사서 『三國史記』와 『三國遺事』에 대해 대립적으로 이...</td>\n",
       "    </tr>\n",
       "    <tr>\n",
       "      <th>64407</th>\n",
       "      <td>[강(江)의 흐름은 시간과 공간을 초월하며, 강과 강 주변에 다양한 문화현상들을 형...</td>\n",
       "      <td>[본 논문에서는 홍천강 인근지역에 전승하는 ‘이괄설화’를 대상으로 했다., 이괄은 ...</td>\n",
       "    </tr>\n",
       "    <tr>\n",
       "      <th>64408</th>\n",
       "      <td>[본고는 예체능 계열 학생들을 위한 대학 글쓰기 교육의 방법을 모색하고자 시도되었다...</td>\n",
       "      <td>[이 논문은 예체능 계열 학생들을 위한 대학 글쓰기 교육의 방법을 모색하고자 시도됐...</td>\n",
       "    </tr>\n",
       "  </tbody>\n",
       "</table>\n",
       "<p>12882 rows × 2 columns</p>\n",
       "</div>"
      ],
      "text/plain": [
       "                                                    news  \\\n",
       "51527  [좀비비추 ‘White Edge’는 돌연변이 유기용 화학물질인EMS(ethyle m...   \n",
       "51528  [윤리학의 뿌리 깊은 논쟁 중의 하나는 도덕의 본질이 무엇이냐는 것이다., 윤리학의...   \n",
       "51529  [급속한 정치적 재통일 후 20년, 실질적으로 통일이 이루어졌다는 점에 동의하는 사...   \n",
       "51530  [본 연구에서는 율곡과 다산의 교육사상을 비교·분석해봄으로써 이들의 교육사상이 현대...   \n",
       "51531  [본 연구는 미국 캘리포니아주에 소재한 대학교에 재학 중인 대학생을 중심으로 신체활...   \n",
       "...                                                  ...   \n",
       "64404  [휴대전화 전자파의 인체 유해성에 대한 국내외 관심이 고조됨에 따라, 우리 정부는 ...   \n",
       "64405  [한나라를 건국한 고조 역시 무력으로 천하를 얻었기 때문에 무력에 의한 통치를 중시...   \n",
       "64406  [현존하는 最古/最高의 한국 역사서 『三國史記』와 『三國遺事』에 대해 대립적으로 이...   \n",
       "64407  [강(江)의 흐름은 시간과 공간을 초월하며, 강과 강 주변에 다양한 문화현상들을 형...   \n",
       "64408  [본고는 예체능 계열 학생들을 위한 대학 글쓰기 교육의 방법을 모색하고자 시도되었다...   \n",
       "\n",
       "                                                 summary  \n",
       "51527  [좀비비추 ‘White Edge’는 돌연변이 유기용 화학물질인EMS용액을 이용해 돌...  \n",
       "51528  [윤리학의 뿌리 깊은 논쟁 중의 하나는 도덕의 본질이 무엇이냐는 것이다., 본 연구...  \n",
       "51529  [본 연구의 주된 목적은 독일인들이 어디에서 시행착오를 가져왔는지 구조 전환과정에서...  \n",
       "51530  [이 연구에서는 율곡과 다산의 교육사상을 비교·분석해봄으로써 이들의 교육사상이 현대...  \n",
       "51531  [이 연구는 미국 캘리포니아주에 소재한 대학교에 재학 중인 대학생을 중심으로 신체활...  \n",
       "...                                                  ...  \n",
       "64404  [휴대전화 전자파의 인체 유해성에 대한 국내외 관심이 고조됨에 따라, 우리 정부는 ...  \n",
       "64405  [한나라를 건국한 고조 역시 무력으로 천하를 얻었기에 무력에 의한 통치를 중시하고 ...  \n",
       "64406  [현존하는 最古/最高의 한국 역사서 『三國史記』와 『三國遺事』에 대해 대립적으로 이...  \n",
       "64407  [본 논문에서는 홍천강 인근지역에 전승하는 ‘이괄설화’를 대상으로 했다., 이괄은 ...  \n",
       "64408  [이 논문은 예체능 계열 학생들을 위한 대학 글쓰기 교육의 방법을 모색하고자 시도됐...  \n",
       "\n",
       "[12882 rows x 2 columns]"
      ]
     },
     "execution_count": 44,
     "metadata": {},
     "output_type": "execute_result"
    }
   ],
   "source": [
    "save_test_data = refined_test_dataset.drop(['paper_id', 'paper_token', 'summary_token'], axis=1)\n",
    "save_test_data = save_test_data.rename(columns={\"content\": \"news\"})\n",
    "save_test_data"
   ]
  },
  {
   "cell_type": "code",
   "execution_count": 45,
   "id": "597289d5",
   "metadata": {},
   "outputs": [
    {
     "data": {
      "text/plain": [
       "'/data/ksb/BART/KoBART-summarization/paper_data/test.tsv'"
      ]
     },
     "execution_count": 45,
     "metadata": {},
     "output_type": "execute_result"
    }
   ],
   "source": [
    "test_data_path"
   ]
  },
  {
   "cell_type": "code",
   "execution_count": 46,
   "id": "f64be4f2",
   "metadata": {},
   "outputs": [],
   "source": [
    "save_test_data.to_csv(test_data_path, columns=['news','summary'], sep='\\t', index=False)"
   ]
  },
  {
   "cell_type": "markdown",
   "id": "4b126382",
   "metadata": {},
   "source": [
    "### BERT Extractor"
   ]
  },
  {
   "cell_type": "code",
   "execution_count": 47,
   "id": "c00fb33c",
   "metadata": {},
   "outputs": [
    {
     "name": "stdout",
     "output_type": "stream",
     "text": [
      "/data/ksb/BART/KoBART-summarization/paper_data/train_data_idx.txt\n",
      "/data/ksb/BART/KoBART-summarization/paper_data/test_data_idx.txt\n"
     ]
    }
   ],
   "source": [
    "import pickle\n",
    "\n",
    "train_idx_filepath = pjoin(kor_bart_data_dir, 'train_data_idx.txt')\n",
    "test_idx_filepath = pjoin(kor_bart_data_dir, 'test_data_idx.txt')\n",
    "\n",
    "print(train_idx_filepath)\n",
    "with open(train_idx_filepath, 'rb') as f:\n",
    "    train_news_ids = pickle.load(f)\n",
    "    \n",
    "print(test_idx_filepath)\n",
    "with open(test_idx_filepath, 'rb') as f:\n",
    "    test_news_ids = pickle.load(f)"
   ]
  },
  {
   "cell_type": "code",
   "execution_count": 48,
   "id": "22edca2f",
   "metadata": {},
   "outputs": [],
   "source": [
    "valid_news_ids = train_news_ids[-12882:]\n",
    "train_news_ids = train_news_ids[:-12882]"
   ]
  },
  {
   "cell_type": "code",
   "execution_count": 49,
   "id": "c583e897",
   "metadata": {},
   "outputs": [
    {
     "data": {
      "text/plain": [
       "38645"
      ]
     },
     "execution_count": 49,
     "metadata": {},
     "output_type": "execute_result"
    }
   ],
   "source": [
    "len(train_news_ids)"
   ]
  },
  {
   "cell_type": "code",
   "execution_count": 50,
   "id": "1a0d0e5d",
   "metadata": {},
   "outputs": [
    {
     "data": {
      "text/plain": [
       "'ART002387009'"
      ]
     },
     "execution_count": 50,
     "metadata": {},
     "output_type": "execute_result"
    }
   ],
   "source": [
    "train_news_ids[0]"
   ]
  },
  {
   "cell_type": "code",
   "execution_count": 51,
   "id": "32fe0377",
   "metadata": {},
   "outputs": [],
   "source": [
    "assert len(train_news_ids) == 38645\n",
    "assert len(valid_news_ids) == 12882\n",
    "assert len(test_news_ids) == 12882"
   ]
  },
  {
   "cell_type": "code",
   "execution_count": 52,
   "id": "60cf6a10",
   "metadata": {},
   "outputs": [
    {
     "data": {
      "text/plain": [
       "'/data/ksb/BertSum/koBertSum/paper_urls'"
      ]
     },
     "execution_count": 52,
     "metadata": {},
     "output_type": "execute_result"
    }
   ],
   "source": [
    "kobert_mapping_data = pjoin(kobert_root, 'paper_urls')\n",
    "kobert_mapping_data"
   ]
  },
  {
   "cell_type": "code",
   "execution_count": 53,
   "id": "7ad10a89",
   "metadata": {},
   "outputs": [],
   "source": [
    "mkdir_p(kobert_mapping_data)"
   ]
  },
  {
   "cell_type": "code",
   "execution_count": 54,
   "id": "c97e2730",
   "metadata": {},
   "outputs": [
    {
     "name": "stdout",
     "output_type": "stream",
     "text": [
      "/data/ksb/BertSum/koBertSum/paper_urls/train_data_idx.txt\n",
      "/data/ksb/BertSum/koBertSum/paper_urls/valid_data_idx.txt\n",
      "/data/ksb/BertSum/koBertSum/paper_urls/test_data_idx.txt\n"
     ]
    }
   ],
   "source": [
    "bert_train_idx_filepath = pjoin(kobert_mapping_data, 'train_data_idx.txt')\n",
    "bert_val_idx_filepath = pjoin(kobert_mapping_data, 'valid_data_idx.txt')\n",
    "bert_test_idx_filepath = pjoin(kobert_mapping_data, 'test_data_idx.txt')\n",
    "\n",
    "print(bert_train_idx_filepath)\n",
    "with open(bert_train_idx_filepath, 'wb') as f:\n",
    "    pickle.dump([idx for idx in train_news_ids], f)\n",
    "    \n",
    "print(bert_val_idx_filepath)\n",
    "with open(bert_val_idx_filepath, 'wb') as f:\n",
    "    pickle.dump([idx for idx in valid_news_ids], f)\n",
    "    \n",
    "print(bert_test_idx_filepath)\n",
    "with open(bert_test_idx_filepath, 'wb') as f:\n",
    "    pickle.dump([idx for idx in test_news_ids], f)"
   ]
  },
  {
   "cell_type": "code",
   "execution_count": 55,
   "id": "b7290f7a",
   "metadata": {},
   "outputs": [],
   "source": [
    "def get_mapping_list(reg_exp, mapping_list):\n",
    "    \n",
    "    paper_list = []\n",
    "    \n",
    "    for path in iglob(reg_exp, recursive=False):\n",
    "        with open(path, 'r', encoding='utf-8') as f:\n",
    "            data = json.load(f)\n",
    "            for paper in data['data']:\n",
    "                idx = paper['reg_no']\n",
    "                \n",
    "                if not idx in mapping_list:\n",
    "                    continue\n",
    "\n",
    "                entire_paper = paper['summary_entire'][0]\n",
    "               \n",
    "                content = entire_paper['orginal_text']\n",
    "                content = list(split_doc(content))\n",
    "                abs_summ = entire_paper['summary_text']\n",
    "                abs_summ = list(split_doc(abs_summ))\n",
    "                \n",
    "                paper_dic = (idx, content, abs_summ)\n",
    "                paper_list.append(paper_dic)\n",
    "        \n",
    "    return paper_list\n",
    "    "
   ]
  },
  {
   "cell_type": "code",
   "execution_count": 56,
   "id": "6b448c18",
   "metadata": {},
   "outputs": [],
   "source": [
    "train_data = pjoin(data_root, 'train_paper_*.json')\n",
    "val_data = pjoin(data_root,'valid_paper_*.json')"
   ]
  },
  {
   "cell_type": "code",
   "execution_count": 57,
   "id": "39ce3440",
   "metadata": {},
   "outputs": [
    {
     "data": {
      "text/plain": [
       "'/data/ksb/korean_paper/train_paper_*.json'"
      ]
     },
     "execution_count": 57,
     "metadata": {},
     "output_type": "execute_result"
    }
   ],
   "source": [
    "train_data"
   ]
  },
  {
   "cell_type": "code",
   "execution_count": 58,
   "id": "98b4871d",
   "metadata": {},
   "outputs": [],
   "source": [
    "bert_train_list = get_mapping_list(train_data, train_news_ids)\n",
    "bert_train_list += get_mapping_list(val_data, train_news_ids)"
   ]
  },
  {
   "cell_type": "code",
   "execution_count": 59,
   "id": "2eaf202f",
   "metadata": {},
   "outputs": [],
   "source": [
    "bert_valid_list = get_mapping_list(train_data, valid_news_ids)\n",
    "bert_valid_list += get_mapping_list(val_data, valid_news_ids)"
   ]
  },
  {
   "cell_type": "code",
   "execution_count": 60,
   "id": "ed38b9ad",
   "metadata": {},
   "outputs": [],
   "source": [
    "bert_test_list = get_mapping_list(train_data, test_news_ids)\n",
    "bert_test_list += get_mapping_list(val_data, test_news_ids)"
   ]
  },
  {
   "cell_type": "code",
   "execution_count": 61,
   "id": "2a478ace",
   "metadata": {},
   "outputs": [],
   "source": [
    "assert len(train_news_ids) == 38645\n",
    "assert len(valid_news_ids) == 12882\n",
    "assert len(test_news_ids) == 12882"
   ]
  },
  {
   "cell_type": "code",
   "execution_count": 62,
   "id": "a105dad7",
   "metadata": {},
   "outputs": [
    {
     "data": {
      "text/plain": [
       "['본 연구는 박근혜 정부에서 추진되었던 한국사교과서 국정화에 대한 정책변동에 대한 분석과 정책적 제안을 목적으로 한다.',\n",
       " '한국사교과서 발행체제가검정제와 국정제의 순환적 변동을 하였는데, 이러한 과정을 분석하기 위해다중흐름모형을 활용하였다.',\n",
       " '분석의 결과, 정책문제의 흐름은 한국사교과서의 내용에 관한 논란에서 국정제교과서 발행체제의 문제로 성격이 변하였다.',\n",
       " '따라서 시행규칙만으로 간단히 바꿀 수 있는 현행 제도를 강화해야 할 필요성이 있다.',\n",
       " '그리고 정치의흐름과 관련하여 보면 집권세력의 변동에 따라 정책의 변동이 생길 수 있으며, 반대집단이 우세한 국가적 분위기에서 정책의 일관성은 유지될 수 없는것으로 분석되었다.',\n",
       " '따라서 다양한 의견을 반영할 수 있는 정책적 고려가 필요하다.',\n",
       " '한편, 정책대안의 흐름은 대안의 제시와 이익집단의 활동 모두에서반대의 기류가 강했지만 청와대와 교육부는 강행으로 나타났다.',\n",
       " '특히 이념적지향에 따라 정책의 창이 의해 열리고 닫히는 한국사교과서 발행제의 경우는교육의 정치적 중립성을 지닌 정책혁신가의 역할이 중요하다.']"
      ]
     },
     "execution_count": 62,
     "metadata": {},
     "output_type": "execute_result"
    }
   ],
   "source": [
    "bert_train_list[0][1]"
   ]
  },
  {
   "cell_type": "code",
   "execution_count": 63,
   "id": "3fde1cfc",
   "metadata": {},
   "outputs": [
    {
     "data": {
      "text/plain": [
       "['본 논문에서는 성격강점이 자연발생적으로 어떤 군집을 형성하는지 한국 성인을 대상으로 탐색하고, 분류된 군집에 따른 행복과 우울의 차이와 인구사회학적 변인의 특성을 연구하였다.',\n",
       " '군집분석을 통하여 만 20세 이상 827명의 참여자를 5개 집단으로 나누었다.']"
      ]
     },
     "execution_count": 63,
     "metadata": {},
     "output_type": "execute_result"
    }
   ],
   "source": [
    "bert_train_list[11][2]"
   ]
  },
  {
   "cell_type": "code",
   "execution_count": 64,
   "id": "71cebfc6",
   "metadata": {},
   "outputs": [],
   "source": [
    "abstrac_inf = '@highlight\\n\\n'"
   ]
  },
  {
   "cell_type": "code",
   "execution_count": 65,
   "id": "65df7238",
   "metadata": {},
   "outputs": [
    {
     "data": {
      "text/plain": [
       "'/data/ksb/BertSum/koBertSum/kopaper_raw_stories'"
      ]
     },
     "execution_count": 65,
     "metadata": {},
     "output_type": "execute_result"
    }
   ],
   "source": [
    "kobert_data"
   ]
  },
  {
   "cell_type": "code",
   "execution_count": 66,
   "id": "fc9e120c",
   "metadata": {},
   "outputs": [],
   "source": [
    "mkdir_p(kobert_data)"
   ]
  },
  {
   "cell_type": "code",
   "execution_count": 68,
   "id": "97d63fe6",
   "metadata": {},
   "outputs": [],
   "source": [
    "bert_data = bert_train_list + bert_valid_list + bert_test_list\n",
    "\n",
    "for data in bert_data:\n",
    "    \n",
    "    news_id = data[0]\n",
    "    article = data[1]\n",
    "    abs_summ = data[2]\n",
    "        \n",
    "    article = list(map(lambda line: line + '\\n\\n',article))\n",
    "    abs_summ = list(map(lambda line: abstrac_inf + line + '\\n\\n',abs_summ))\n",
    "    \n",
    "    file_name = os.path.join(kobert_data, str(news_id)+\".story\")    \n",
    "    with open(file_name, 'w', encoding='utf-8') as f_s:\n",
    "        f_s.writelines(article)\n",
    "        f_s.writelines(abs_summ)"
   ]
  },
  {
   "cell_type": "code",
   "execution_count": 69,
   "id": "1cbca447",
   "metadata": {
    "scrolled": true
   },
   "outputs": [
    {
     "name": "stdout",
     "output_type": "stream",
     "text": [
      "본 연구는 고등학생들의 바른 인성함양을 위한 긍정적 태도 형성 프로그램의 효과를 알아보기 위해 연구를 수행하였다.\n",
      "\n",
      "이를 위해 자아에 대한 긍정적 태도형성 프로그램의 구안·적용은 경기도소재 00고등학교 1학년0반 학생37명(남학생 21명, 여학생 16명)을 대상으로 현장 답사 및 사전·사후 설문조사를 실시하였다.\n",
      "\n",
      "분석 결과 다양한 인성교육 프로그램의 활동을 통하여 다음과 같은 결론을 얻을 수 있었다.\n",
      "\n",
      "첫째, 학생들이 올바른 가치판단을 위한 체험적 동기를부여한 결과 바른 행동으로 실천하려는 경향을 보였다.\n",
      "\n",
      "둘째, 고운 심성가꾸기를 통한 인성교육과 관련된 다양한 환경 구성으로 인해 학생들의 고운 마음과 올바른 행동이 가시적으로 나타났다.\n",
      "\n",
      "셋째, 다양한 체험위주의 학습활동으로 학생들의 창의력이 신장되었다.\n",
      "\n",
      "넷째, 공동체 의식 함양 프로그램의 적용으로 협동심이 배양되고, 가정과 사회 윤리의식을 인식하고 실천하는 계기가 되었다.\n",
      "\n",
      "다섯째, 다양한 시상제로 긍정적인 행동이 강화되고 고운 심성을실천하는 풍토가 조성되었다.\n",
      "\n",
      "한편, 바람직한 학교인성교육을 위해 실천위주의 체험적인 인성교육이 이루어져야 하며, 아울러 인성교육의 효과는 짧은시간에 가시적으로 나타나는 것이 아니므로 지속적이고 영속적으로 이루어져야 한다.\n",
      "\n",
      "@highlight\n",
      "\n",
      "본 논문은 고등학생들의 바른 인성함양을 위한 긍정적 태도 형성 프로그램의 효과를 알아보기 위하여 연구를 진행하였다.\n",
      "\n",
      "@highlight\n",
      "\n",
      "자아에 대한 긍정적 태도형성 프로그램의 구안·적용은 경기도소재 고등학교 1학년 학생 37명을 대상으로 현장 답사와 사전·사후 설문조사를 진행하였다.\n",
      "\n",
      "\n"
     ]
    }
   ],
   "source": [
    "from functools import reduce\n",
    "with open(pjoin(kobert_data, 'ART002387007.story'), 'r', encoding='utf-8') as f:\n",
    "    l = f.readlines()\n",
    "    txt = reduce(lambda x, y: x+y, l)\n",
    "    print(txt)"
   ]
  },
  {
   "cell_type": "markdown",
   "id": "81318fd5",
   "metadata": {},
   "source": [
    "### MatchSum"
   ]
  },
  {
   "cell_type": "code",
   "execution_count": null,
   "id": "a8d4e323",
   "metadata": {},
   "outputs": [],
   "source": [
    "def get_result_list(src_regex):\n",
    "    gold, cand, cand_num, src = [], [], [], []\n",
    "\n",
    "    for file_paths in iglob(src_regex, recursive=False):\n",
    "        lines = []\n",
    "        with open(file_paths) as f:\n",
    "            lines = f.readlines()\n",
    "\n",
    "        if file_paths.endswith('gold'):\n",
    "            gold = lines\n",
    "        elif file_paths.endswith('candidate_sent_num'):\n",
    "            cand_num = lines\n",
    "        elif file_paths.endswith('candidate'):\n",
    "            cand = lines\n",
    "        elif file_paths.endswith('src'):\n",
    "            src = lines\n",
    "        else:\n",
    "            print(file_paths)\n",
    "            raise ValueError\n",
    "    \n",
    "    return src, gold, cand, cand_num\n",
    "    "
   ]
  },
  {
   "cell_type": "code",
   "execution_count": null,
   "id": "2fac9f94",
   "metadata": {},
   "outputs": [],
   "source": [
    "src, gold, cand, cand_num = get_result_list(join(bert_result, 'candidate_5_*'))\n",
    "\n",
    "print(\"gold len : {}\".format(len(gold)))\n",
    "print(\"src len : {}\".format(len(src)))\n",
    "print(\"cand len : {}\".format(len(cand)))\n",
    "print(\"cand_num len : {}\".format(len(cand_num)))"
   ]
  },
  {
   "cell_type": "code",
   "execution_count": null,
   "id": "c4b0d014",
   "metadata": {},
   "outputs": [],
   "source": [
    "assert len(gold)==len(src) and len(src)==len(cand) and len(cand_num)==len(cand)"
   ]
  },
  {
   "cell_type": "code",
   "execution_count": null,
   "id": "5c5d339f",
   "metadata": {},
   "outputs": [],
   "source": [
    "match_json_data = os.path.join(root_dir,'origin')\n",
    "\n",
    "del_folder(origin_dir)\n",
    "mkdir_p(origin_dir)"
   ]
  },
  {
   "cell_type": "code",
   "execution_count": null,
   "id": "7d6e4bc8",
   "metadata": {},
   "outputs": [],
   "source": [
    "origin_json_file = os.path.join(origin_dir, 'origin_data.jsonl')\n",
    "\n",
    "with open(origin_json_file, 'w', encoding='utf-8') as f:\n",
    "    writer = jsonlines.Writer(f)\n",
    "    for _gold, _cand, _src in zip(gold, cand, src):\n",
    "\n",
    "        src_list = _src.split(split_symbol)\n",
    "        src_list = list(map(lambda txt : txt.replace('\\n',''), src_list))\n",
    "\n",
    "        abs_list = _gold.split(split_symbol)\n",
    "        abs_list = list(map(lambda txt : txt.replace('\\n',''), abs_list))\n",
    "\n",
    "        d = {\"text\" : src_list, \"summary\" : abs_list}\n",
    "\n",
    "        writer.write(d) "
   ]
  },
  {
   "cell_type": "code",
   "execution_count": null,
   "id": "9e2ad99a",
   "metadata": {},
   "outputs": [],
   "source": [
    "index_json_file = os.path.join(origin_dir, 'index.jsonl')\n",
    "\n",
    "with open(index_json_file, 'w', encoding='utf-8') as f:\n",
    "    writer = jsonlines.Writer(f)\n",
    "    for _cand_num in cand_num:\n",
    "        \n",
    "        idx_list = _cand_num.split(split_symbol)\n",
    "        idx_list = [int(idx.replace('\\n','')) for idx in idx_list]\n",
    "        idx_json = {\"sent_id\" : idx_list}\n",
    "        \n",
    "        writer.write(idx_json)"
   ]
  },
  {
   "cell_type": "markdown",
   "id": "eef08b49",
   "metadata": {},
   "source": [
    "### RefSum"
   ]
  },
  {
   "cell_type": "code",
   "execution_count": 119,
   "id": "946c9eba",
   "metadata": {},
   "outputs": [
    {
     "data": {
      "text/plain": [
       "'/data/ksb/BertSum/koBertSum/ref_urls'"
      ]
     },
     "execution_count": 119,
     "metadata": {},
     "output_type": "execute_result"
    }
   ],
   "source": [
    "ref_mapping_data = pjoin(kobert_root, 'ref_urls')\n",
    "ref_mapping_data"
   ]
  },
  {
   "cell_type": "code",
   "execution_count": 120,
   "id": "3cf28b95",
   "metadata": {},
   "outputs": [
    {
     "name": "stdout",
     "output_type": "stream",
     "text": [
      "/data/ksb/BART/KoBART-summarization/data/train_data_idx.txt\n",
      "/data/ksb/BART/KoBART-summarization/data/test_data_idx.txt\n"
     ]
    }
   ],
   "source": [
    "import pickle\n",
    "\n",
    "train_idx_filepath = pjoin(kor_bart_data_dir, 'train_data_idx.txt')\n",
    "test_idx_filepath = pjoin(kor_bart_data_dir, 'test_data_idx.txt')\n",
    "\n",
    "print(train_idx_filepath)\n",
    "with open(train_idx_filepath, 'rb') as f:\n",
    "    train_news_ids = pickle.load(f)\n",
    "    \n",
    "print(test_idx_filepath)\n",
    "with open(test_idx_filepath, 'rb') as f:\n",
    "    test_news_ids = pickle.load(f)"
   ]
  },
  {
   "cell_type": "code",
   "execution_count": 121,
   "id": "ce0ba20f",
   "metadata": {},
   "outputs": [],
   "source": [
    "import random\n",
    "\n",
    "news_ids = train_news_ids + test_news_ids\n",
    "random.shuffle(news_ids) \n",
    "\n",
    "train_news_ids = news_ids[:25000]\n",
    "valid_news_ids = news_ids[25000:30000]\n",
    "test_news_ids = news_ids[30000:]"
   ]
  },
  {
   "cell_type": "code",
   "execution_count": 123,
   "id": "a45b8b57",
   "metadata": {},
   "outputs": [
    {
     "name": "stdout",
     "output_type": "stream",
     "text": [
      "/data/ksb/BertSum/koBertSum/ref_urls/train_data_idx.txt\n",
      "/data/ksb/BertSum/koBertSum/ref_urls/valid_data_idx.txt\n",
      "/data/ksb/BertSum/koBertSum/ref_urls/test_data_idx.txt\n"
     ]
    }
   ],
   "source": [
    "ref_train_idx_filepath = pjoin(ref_mapping_data, 'train_data_idx.txt')\n",
    "ref_val_idx_filepath = pjoin(ref_mapping_data, 'valid_data_idx.txt')\n",
    "ref_test_idx_filepath = pjoin(ref_mapping_data, 'test_data_idx.txt')\n",
    "\n",
    "mkdir_p(ref_mapping_data)\n",
    "print(ref_train_idx_filepath)\n",
    "with open(ref_train_idx_filepath, 'wb') as f:\n",
    "    pickle.dump([idx for idx in train_news_ids], f)\n",
    "    \n",
    "print(ref_val_idx_filepath)\n",
    "with open(ref_val_idx_filepath, 'wb') as f:\n",
    "    pickle.dump([idx for idx in valid_news_ids], f)\n",
    "    \n",
    "print(ref_test_idx_filepath)\n",
    "with open(ref_test_idx_filepath, 'wb') as f:\n",
    "    pickle.dump([idx for idx in test_news_ids], f)"
   ]
  },
  {
   "cell_type": "code",
   "execution_count": null,
   "id": "f770307b",
   "metadata": {},
   "outputs": [],
   "source": []
  }
 ],
 "metadata": {
  "kernelspec": {
   "display_name": "Python 3 (ipykernel)",
   "language": "python",
   "name": "python3"
  },
  "language_info": {
   "codemirror_mode": {
    "name": "ipython",
    "version": 3
   },
   "file_extension": ".py",
   "mimetype": "text/x-python",
   "name": "python",
   "nbconvert_exporter": "python",
   "pygments_lexer": "ipython3",
   "version": "3.8.3"
  }
 },
 "nbformat": 4,
 "nbformat_minor": 5
}
